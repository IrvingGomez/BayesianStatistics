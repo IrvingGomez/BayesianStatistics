{
 "cells": [
  {
   "cell_type": "code",
   "execution_count": 1,
   "id": "50b0a6db",
   "metadata": {},
   "outputs": [],
   "source": [
    "import pandas as pd\n",
    "import numpy as np\n",
    "\n",
    "import matplotlib.pyplot as plt"
   ]
  },
  {
   "cell_type": "code",
   "execution_count": 2,
   "id": "a7cecbe0",
   "metadata": {},
   "outputs": [],
   "source": [
    "x_vect = np.array([-0.05, 0.15, 0.25]).reshape(1,3)\n",
    "r_vect = np.array([0.06, 0.06, 0.06]).reshape(1,3)\n",
    "\n",
    "a_vect = np.array([0.8, 0.5, 0.2, 0]).reshape(4,1)\n",
    "\n",
    "p_vect = np.array([0.2, 0.6, 0.2]).reshape(3,1)"
   ]
  },
  {
   "cell_type": "code",
   "execution_count": 3,
   "id": "cbb2017c",
   "metadata": {},
   "outputs": [],
   "source": [
    "u_matrix = a_vect @ x_vect + (1-a_vect) @ r_vect\n",
    "u_matrix = pd.DataFrame(u_matrix)"
   ]
  },
  {
   "cell_type": "code",
   "execution_count": 4,
   "id": "099ba1fc",
   "metadata": {},
   "outputs": [],
   "source": [
    "u_point = u_matrix.mean(axis=1)"
   ]
  },
  {
   "cell_type": "code",
   "execution_count": 5,
   "id": "6f9661f6",
   "metadata": {},
   "outputs": [],
   "source": [
    "def w_bar_a1(A):\n",
    "    return((u_matrix.loc[0] - A * (u_point[0] - u_matrix.loc[0])**2) @ p_vect)\n",
    "\n",
    "def w_bar_a2(A):\n",
    "    return((u_matrix.loc[1] - A * (u_point[1] - u_matrix.loc[1])**2) @ p_vect)\n",
    "\n",
    "def w_bar_a3(A):\n",
    "    return((u_matrix.loc[2] - A * (u_point[2] - u_matrix.loc[2])**2) @ p_vect)\n",
    "\n",
    "def w_bar_a4(A):\n",
    "    return((u_matrix.loc[3] - A * (u_point[3] - u_matrix.loc[3])**2) @ p_vect)"
   ]
  },
  {
   "cell_type": "code",
   "execution_count": 6,
   "id": "cb5f5f6d",
   "metadata": {},
   "outputs": [],
   "source": [
    "def w_a1(A):\n",
    "    return(u_matrix.loc[0] - A * (u_point[0] - u_matrix.loc[0])**2)\n",
    "\n",
    "def w_a2(A):\n",
    "    return(u_matrix.loc[1] - A * (u_point[1] - u_matrix.loc[1])**2)\n",
    "\n",
    "def w_a3(A):\n",
    "    return(u_matrix.loc[2] - A * (u_point[2] - u_matrix.loc[2])**2)\n",
    "\n",
    "def w_a4(A):\n",
    "    return(u_matrix.loc[3] - A * (u_point[3] - u_matrix.loc[3])**2)"
   ]
  },
  {
   "cell_type": "code",
   "execution_count": 7,
   "id": "1a2bd626",
   "metadata": {},
   "outputs": [
    {
     "data": {
      "text/plain": [
       "0   -1.1480\n",
       "1    0.0872\n",
       "2   -0.5048\n",
       "Name: 0, dtype: float64"
      ]
     },
     "execution_count": 7,
     "metadata": {},
     "output_type": "execute_result"
    }
   ],
   "source": [
    "w_a1(63)"
   ]
  },
  {
   "cell_type": "code",
   "execution_count": 8,
   "id": "6af8e470",
   "metadata": {},
   "outputs": [
    {
     "data": {
      "text/plain": [
       "0   -0.4325\n",
       "1    0.0875\n",
       "2   -0.1250\n",
       "Name: 1, dtype: float64"
      ]
     },
     "execution_count": 8,
     "metadata": {},
     "output_type": "execute_result"
    }
   ],
   "source": [
    "w_a2(63)"
   ]
  },
  {
   "cell_type": "code",
   "execution_count": 9,
   "id": "8233b277",
   "metadata": {},
   "outputs": [
    {
     "data": {
      "text/plain": [
       "0   -0.0320\n",
       "1    0.0752\n",
       "2    0.0532\n",
       "Name: 2, dtype: float64"
      ]
     },
     "execution_count": 9,
     "metadata": {},
     "output_type": "execute_result"
    }
   ],
   "source": [
    "w_a3(63)"
   ]
  },
  {
   "cell_type": "code",
   "execution_count": 10,
   "id": "fe0377db",
   "metadata": {},
   "outputs": [],
   "source": [
    "A_seq = np.linspace(0,50)"
   ]
  },
  {
   "cell_type": "code",
   "execution_count": 11,
   "id": "9beeade1",
   "metadata": {},
   "outputs": [
    {
     "data": {
      "text/plain": [
       "[<matplotlib.lines.Line2D at 0x7f2fd273f3a0>]"
      ]
     },
     "execution_count": 11,
     "metadata": {},
     "output_type": "execute_result"
    },
    {
     "data": {
      "image/png": "[encoded data removed]",
      "text/plain": [
       "<Figure size 432x288 with 1 Axes>"
      ]
     },
     "metadata": {
      "needs_background": "light"
     },
     "output_type": "display_data"
    }
   ],
   "source": [
    "plt.plot(A_seq, [w_bar_a1(A) for A in A_seq])\n",
    "plt.plot(A_seq, [w_bar_a2(A) for A in A_seq])\n",
    "plt.plot(A_seq, [w_bar_a3(A) for A in A_seq])\n",
    "plt.plot(A_seq, [w_bar_a4(A) for A in A_seq])"
   ]
  }
 ],
 "metadata": {
  "kernelspec": {
   "display_name": "Python 3 (ipykernel)",
   "language": "python",
   "name": "python3"
  },
  "language_info": {
   "codemirror_mode": {
    "name": "ipython",
    "version": 3
   },
   "file_extension": ".py",
   "mimetype": "text/x-python",
   "name": "python",
   "nbconvert_exporter": "python",
   "pygments_lexer": "ipython3",
   "version": "3.10.1"
  }
 },
 "nbformat": 4,
 "nbformat_minor": 5
}
