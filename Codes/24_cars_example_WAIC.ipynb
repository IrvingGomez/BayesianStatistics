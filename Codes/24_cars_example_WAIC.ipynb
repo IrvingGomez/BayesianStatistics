{
 "cells": [
  {
   "cell_type": "code",
   "execution_count": 1,
   "metadata": {},
   "outputs": [],
   "source": [
    "import numpy as np\n",
    "import pandas as pd\n",
    "\n",
    "from scipy.stats import multivariate_normal, norm\n",
    "\n",
    "import pymc3 as pm"
   ]
  },
  {
   "cell_type": "code",
   "execution_count": 2,
   "metadata": {},
   "outputs": [],
   "source": [
    "dat = pd.read_csv('cars.csv')"
   ]
  },
  {
   "cell_type": "code",
   "execution_count": 3,
   "metadata": {},
   "outputs": [],
   "source": [
    "n_dat = dat.shape[0]"
   ]
  },
  {
   "cell_type": "code",
   "execution_count": 4,
   "metadata": {},
   "outputs": [
    {
     "data": {
      "text/html": [
       "\n",
       "    <div>\n",
       "        <style>\n",
       "            /* Turns off some styling */\n",
       "            progress {\n",
       "                /* gets rid of default border in Firefox and Opera. */\n",
       "                border: none;\n",
       "                /* Needs to be in here for Safari polyfill so background images work as expected. */\n",
       "                background-size: auto;\n",
       "            }\n",
       "            .progress-bar-interrupted, .progress-bar-interrupted::-webkit-progress-bar {\n",
       "                background: #F44336;\n",
       "            }\n",
       "        </style>\n",
       "      <progress value='33' class='' max='33' style='width:300px; height:20px; vertical-align: middle;'></progress>\n",
       "      100.00% [33/33 00:00<00:00 logp = -229.56, ||grad|| = 0.11828]\n",
       "    </div>\n",
       "    "
      ],
      "text/plain": [
       "<IPython.core.display.HTML object>"
      ]
     },
     "metadata": {},
     "output_type": "display_data"
    },
    {
     "name": "stdout",
     "output_type": "stream",
     "text": [
      "\n"
     ]
    }
   ],
   "source": [
    "with pm.Model() as model_cars:\n",
    "    alpha = pm.Normal('alpha', mu=0, sigma=100)\n",
    "    beta  = pm.Normal('beta', mu=0, sigma=10)\n",
    "    sigma = pm.Exponential('sigma', lam=1)\n",
    "    mu    = alpha + beta*dat['speed']\n",
    "    distance = pm.Normal('distance', mu=mu, sigma=sigma, observed=dat['dist'])\n",
    "\n",
    "    par_post = pm.find_MAP()\n",
    "    hessian  = pm.find_hessian(par_post, vars=[alpha, beta, sigma])\n",
    "\n",
    "    "
   ]
  },
  {
   "cell_type": "code",
   "execution_count": 5,
   "metadata": {},
   "outputs": [],
   "source": [
    "param_mu_post = [par_post['alpha'], par_post['beta'], par_post['sigma']]\n",
    "sample_post   = multivariate_normal.rvs(size=10**4, mean=param_mu_post, cov=np.linalg.inv(hessian))\n",
    "sample_post   = pd.DataFrame(sample_post, columns=['alpha', 'beta', 'sigma'])"
   ]
  },
  {
   "cell_type": "code",
   "execution_count": 8,
   "metadata": {},
   "outputs": [],
   "source": [
    "lppd = 0\n",
    "penalty = 0\n",
    "WAIC_sample = []\n",
    "\n",
    "for i in range(n_dat):\n",
    "    p_y_post = norm.pdf(\n",
    "        dat['dist'][i],\n",
    "        loc = sample_post['alpha'] + sample_post['beta']*dat['speed'][i],\n",
    "        scale = sample_post['sigma']\n",
    "    )\n",
    "\n",
    "    p_y_post         = p_y_post[~np.isnan(p_y_post)]\n",
    "    log_p_y_post     = np.log(np.mean(p_y_post))\n",
    "    p_y_post         = p_y_post[p_y_post>0]\n",
    "    var_log_p_y_post = np.var(np.log(p_y_post)) \n",
    "    lppd    += log_p_y_post\n",
    "    penalty += var_log_p_y_post\n",
    "    WAIC_sample.append(-2*(log_p_y_post-var_log_p_y_post))\n",
    "\n",
    "WAIC = -2*(lppd - penalty)\n",
    "WAIC_std_error = np.sqrt(n_dat*np.var(WAIC_sample))"
   ]
  },
  {
   "cell_type": "code",
   "execution_count": 9,
   "metadata": {},
   "outputs": [
    {
     "data": {
      "text/plain": [
       "(422.91999652605125, 17.504025496049184)"
      ]
     },
     "execution_count": 9,
     "metadata": {},
     "output_type": "execute_result"
    }
   ],
   "source": [
    "WAIC, WAIC_std_error"
   ]
  }
 ],
 "metadata": {
  "interpreter": {
   "hash": "e7370f93d1d0cde622a1f8e1c04877d8463912d04d973331ad4851f04de6915a"
  },
  "kernelspec": {
   "display_name": "Python 3 (ipykernel)",
   "language": "python",
   "name": "python3"
  },
  "language_info": {
   "codemirror_mode": {
    "name": "ipython",
    "version": 3
   },
   "file_extension": ".py",
   "mimetype": "text/x-python",
   "name": "python",
   "nbconvert_exporter": "python",
   "pygments_lexer": "ipython3",
   "version": "3.10.1"
  }
 },
 "nbformat": 4,
 "nbformat_minor": 2
}
