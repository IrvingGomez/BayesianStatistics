{
 "cells": [
  {
   "cell_type": "code",
   "execution_count": 1,
   "id": "6be7e66d",
   "metadata": {},
   "outputs": [],
   "source": [
    "import numpy as np\n",
    "import pandas as pd\n",
    "\n",
    "import matplotlib.pyplot as plt\n",
    "import seaborn as sns\n",
    "\n",
    "from scipy.stats import multivariate_normal, norm, uniform\n",
    "\n",
    "import pymc3 as pm"
   ]
  },
  {
   "cell_type": "code",
   "execution_count": 2,
   "id": "adf7b843",
   "metadata": {},
   "outputs": [],
   "source": [
    "N = 100\n",
    "\n",
    "height    = norm.rvs(size=N, loc=10, scale=2)\n",
    "leg_prop  = uniform.rvs(size=N, loc=0.4, scale=0.1)\n",
    "leg_left  = leg_prop * height + norm.rvs(size=N, loc=0, scale=0.02)\n",
    "leg_right = leg_prop * height + norm.rvs(size=N, loc=0, scale=0.02)"
   ]
  },
  {
   "cell_type": "code",
   "execution_count": 3,
   "id": "a8f632e6",
   "metadata": {},
   "outputs": [
    {
     "data": {
      "text/html": [
       "\n",
       "    <div>\n",
       "        <style>\n",
       "            /* Turns off some styling */\n",
       "            progress {\n",
       "                /* gets rid of default border in Firefox and Opera. */\n",
       "                border: none;\n",
       "                /* Needs to be in here for Safari polyfill so background images work as expected. */\n",
       "                background-size: auto;\n",
       "            }\n",
       "            .progress-bar-interrupted, .progress-bar-interrupted::-webkit-progress-bar {\n",
       "                background: #F44336;\n",
       "            }\n",
       "        </style>\n",
       "      <progress value='59' class='' max='59' style='width:300px; height:20px; vertical-align: middle;'></progress>\n",
       "      100.00% [59/59 00:00<00:00 logp = -97.826, ||grad|| = 3.0413]\n",
       "    </div>\n",
       "    "
      ],
      "text/plain": [
       "<IPython.core.display.HTML object>"
      ]
     },
     "metadata": {},
     "output_type": "display_data"
    },
    {
     "name": "stdout",
     "output_type": "stream",
     "text": [
      "\n"
     ]
    }
   ],
   "source": [
    "with pm.Model() as categorical_model:\n",
    "    alpha  = pm.Normal('alpha', mu=10, sd=100)\n",
    "    beta_l = pm.Normal('beta_l', mu=2, sigma=10)\n",
    "    beta_r = pm.Normal('beta_r', mu=2, sigma=10)\n",
    "    sigma  = pm.Exponential('sigma', lam=1)\n",
    "    h      = pm.Normal('height', mu=alpha + beta_l*leg_left + beta_r*leg_right, sd=sigma, observed=height)\n",
    "    \n",
    "    par_post = pm.find_MAP()\n",
    "    hessian  = pm.find_hessian(par_post, vars=[alpha, beta_l, beta_r, sigma])"
   ]
  },
  {
   "cell_type": "code",
   "execution_count": 4,
   "id": "8ea90b06",
   "metadata": {},
   "outputs": [],
   "source": [
    "posterior_sample = multivariate_normal.rvs(size=10**4,\n",
    "                        mean=np.array([par_post['alpha'], par_post['beta_l'], par_post['beta_r'], par_post['sigma']]),\n",
    "                        cov=np.linalg.inv(hessian))"
   ]
  },
  {
   "cell_type": "code",
   "execution_count": 5,
   "id": "5a1456ff",
   "metadata": {},
   "outputs": [],
   "source": [
    "posterior_sample = pd.DataFrame(posterior_sample, columns=['alpha', 'beta_l', 'beta_r', 'sigma'])"
   ]
  },
  {
   "cell_type": "code",
   "execution_count": 6,
   "id": "f8c6c622",
   "metadata": {},
   "outputs": [
    {
     "data": {
      "text/html": [
       "<div>\n",
       "<style scoped>\n",
       "    .dataframe tbody tr th:only-of-type {\n",
       "        vertical-align: middle;\n",
       "    }\n",
       "\n",
       "    .dataframe tbody tr th {\n",
       "        vertical-align: top;\n",
       "    }\n",
       "\n",
       "    .dataframe thead th {\n",
       "        text-align: right;\n",
       "    }\n",
       "</style>\n",
       "<table border=\"1\" class=\"dataframe\">\n",
       "  <thead>\n",
       "    <tr style=\"text-align: right;\">\n",
       "      <th></th>\n",
       "      <th>alpha</th>\n",
       "      <th>beta_l</th>\n",
       "      <th>beta_r</th>\n",
       "      <th>sigma</th>\n",
       "    </tr>\n",
       "  </thead>\n",
       "  <tbody>\n",
       "    <tr>\n",
       "      <th>count</th>\n",
       "      <td>10000.000000</td>\n",
       "      <td>10000.000000</td>\n",
       "      <td>10000.000000</td>\n",
       "      <td>10000.000000</td>\n",
       "    </tr>\n",
       "    <tr>\n",
       "      <th>mean</th>\n",
       "      <td>0.996629</td>\n",
       "      <td>-1.732182</td>\n",
       "      <td>3.733450</td>\n",
       "      <td>0.565746</td>\n",
       "    </tr>\n",
       "    <tr>\n",
       "      <th>std</th>\n",
       "      <td>0.263209</td>\n",
       "      <td>2.041640</td>\n",
       "      <td>2.032910</td>\n",
       "      <td>0.040107</td>\n",
       "    </tr>\n",
       "    <tr>\n",
       "      <th>min</th>\n",
       "      <td>0.023762</td>\n",
       "      <td>-8.944265</td>\n",
       "      <td>-4.700316</td>\n",
       "      <td>0.391061</td>\n",
       "    </tr>\n",
       "    <tr>\n",
       "      <th>25%</th>\n",
       "      <td>0.821469</td>\n",
       "      <td>-3.136848</td>\n",
       "      <td>2.373625</td>\n",
       "      <td>0.538982</td>\n",
       "    </tr>\n",
       "    <tr>\n",
       "      <th>50%</th>\n",
       "      <td>0.996301</td>\n",
       "      <td>-1.725349</td>\n",
       "      <td>3.715308</td>\n",
       "      <td>0.565773</td>\n",
       "    </tr>\n",
       "    <tr>\n",
       "      <th>75%</th>\n",
       "      <td>1.172826</td>\n",
       "      <td>-0.362212</td>\n",
       "      <td>5.133264</td>\n",
       "      <td>0.592464</td>\n",
       "    </tr>\n",
       "    <tr>\n",
       "      <th>max</th>\n",
       "      <td>1.880222</td>\n",
       "      <td>6.765037</td>\n",
       "      <td>11.043150</td>\n",
       "      <td>0.722167</td>\n",
       "    </tr>\n",
       "  </tbody>\n",
       "</table>\n",
       "</div>"
      ],
      "text/plain": [
       "              alpha        beta_l        beta_r         sigma\n",
       "count  10000.000000  10000.000000  10000.000000  10000.000000\n",
       "mean       0.996629     -1.732182      3.733450      0.565746\n",
       "std        0.263209      2.041640      2.032910      0.040107\n",
       "min        0.023762     -8.944265     -4.700316      0.391061\n",
       "25%        0.821469     -3.136848      2.373625      0.538982\n",
       "50%        0.996301     -1.725349      3.715308      0.565773\n",
       "75%        1.172826     -0.362212      5.133264      0.592464\n",
       "max        1.880222      6.765037     11.043150      0.722167"
      ]
     },
     "execution_count": 6,
     "metadata": {},
     "output_type": "execute_result"
    }
   ],
   "source": [
    "posterior_sample.describe()"
   ]
  },
  {
   "cell_type": "code",
   "execution_count": 7,
   "id": "ecc7d824",
   "metadata": {},
   "outputs": [
    {
     "name": "stderr",
     "output_type": "stream",
     "text": [
      "/home/dmitri/.local/lib/python3.10/site-packages/seaborn/_decorators.py:36: FutureWarning: Pass the following variables as keyword args: x, y. From version 0.12, the only valid positional argument will be `data`, and passing other arguments without an explicit keyword will result in an error or misinterpretation.\n",
      "  warnings.warn(\n"
     ]
    },
    {
     "data": {
      "text/plain": [
       "<AxesSubplot:xlabel='beta_l', ylabel='beta_r'>"
      ]
     },
     "execution_count": 7,
     "metadata": {},
     "output_type": "execute_result"
    },
    {
     "data": {
      "image/png": "[encoded data removed]",
      "text/plain": [
       "<Figure size 432x288 with 1 Axes>"
      ]
     },
     "metadata": {
      "needs_background": "light"
     },
     "output_type": "display_data"
    }
   ],
   "source": [
    "sns.scatterplot(posterior_sample['beta_l'],posterior_sample['beta_r'])"
   ]
  },
  {
   "cell_type": "code",
   "execution_count": 8,
   "id": "74c0443f",
   "metadata": {},
   "outputs": [
    {
     "name": "stderr",
     "output_type": "stream",
     "text": [
      "/home/dmitri/.local/lib/python3.9/site-packages/seaborn/distributions.py:2619: FutureWarning: `distplot` is a deprecated function and will be removed in a future version. Please adapt your code to use either `displot` (a figure-level function with similar flexibility) or `histplot` (an axes-level function for histograms).\n",
      "  warnings.warn(msg, FutureWarning)\n"
     ]
    },
    {
     "data": {
      "text/plain": [
       "<AxesSubplot:ylabel='Density'>"
      ]
     },
     "execution_count": 8,
     "metadata": {},
     "output_type": "execute_result"
    },
    {
     "data": {
      "image/png": "[encoded data removed]",
      "text/plain": [
       "<Figure size 432x288 with 1 Axes>"
      ]
     },
     "metadata": {
      "needs_background": "light"
     },
     "output_type": "display_data"
    }
   ],
   "source": [
    "sns.distplot(posterior_sample['beta_l']+posterior_sample['beta_r'])"
   ]
  },
  {
   "cell_type": "code",
   "execution_count": 9,
   "id": "cfe0ddc3",
   "metadata": {},
   "outputs": [
    {
     "data": {
      "text/plain": [
       "0.0716128810362003"
      ]
     },
     "execution_count": 9,
     "metadata": {},
     "output_type": "execute_result"
    }
   ],
   "source": [
    "np.std(posterior_sample['beta_l']+posterior_sample['beta_r'])"
   ]
  },
  {
   "cell_type": "code",
   "execution_count": 10,
   "id": "f1a8d727",
   "metadata": {},
   "outputs": [
    {
     "data": {
      "text/html": [
       "\n",
       "    <div>\n",
       "        <style>\n",
       "            /* Turns off some styling */\n",
       "            progress {\n",
       "                /* gets rid of default border in Firefox and Opera. */\n",
       "                border: none;\n",
       "                /* Needs to be in here for Safari polyfill so background images work as expected. */\n",
       "                background-size: auto;\n",
       "            }\n",
       "            .progress-bar-interrupted, .progress-bar-interrupted::-webkit-progress-bar {\n",
       "                background: #F44336;\n",
       "            }\n",
       "        </style>\n",
       "      <progress value='64' class='' max='64' style='width:300px; height:20px; vertical-align: middle;'></progress>\n",
       "      100.00% [64/64 00:00<00:00 logp = 194.43, ||grad|| = 8.3979]\n",
       "    </div>\n",
       "    "
      ],
      "text/plain": [
       "<IPython.core.display.HTML object>"
      ]
     },
     "metadata": {},
     "output_type": "display_data"
    },
    {
     "name": "stdout",
     "output_type": "stream",
     "text": [
      "\n"
     ]
    }
   ],
   "source": [
    "with pm.Model() as categorical_model:\n",
    "    alpha  = pm.Normal('alpha', mu=10, sd=100)\n",
    "    beta   = pm.Normal('beta', mu=2, sigma=10)\n",
    "    sigma  = pm.Exponential('sigma', lam=1)\n",
    "    leg    = pm.Normal('leg', mu=alpha + beta*leg_left, sd=sigma, observed=leg_right)\n",
    "    \n",
    "    par_post = pm.find_MAP()"
   ]
  },
  {
   "cell_type": "code",
   "execution_count": 13,
   "id": "96ed037b",
   "metadata": {},
   "outputs": [
    {
     "data": {
      "text/plain": [
       "1.0"
      ]
     },
     "execution_count": 13,
     "metadata": {},
     "output_type": "execute_result"
    }
   ],
   "source": [
    "np.round(par_post['beta'], 2)"
   ]
  }
 ],
 "metadata": {
  "kernelspec": {
   "display_name": "Python 3 (ipykernel)",
   "language": "python",
   "name": "python3"
  },
  "language_info": {
   "codemirror_mode": {
    "name": "ipython",
    "version": 3
   },
   "file_extension": ".py",
   "mimetype": "text/x-python",
   "name": "python",
   "nbconvert_exporter": "python",
   "pygments_lexer": "ipython3",
   "version": "3.10.1"
  }
 },
 "nbformat": 4,
 "nbformat_minor": 5
}
