{
 "cells": [
  {
   "cell_type": "code",
   "execution_count": 1,
   "metadata": {},
   "outputs": [],
   "source": [
    "from scipy.stats import nbinom"
   ]
  },
  {
   "attachments": {},
   "cell_type": "markdown",
   "metadata": {},
   "source": [
    "Kidney cancer is a rare disease, so on average 46.5 cases of death by kidney cancer are registered per year per 1'000,000 people. Thus, if $\\theta$ is the dead rate per year for kidnew cancer, then $$\\mathbb{E}(\\theta)=4.65\\times 10^{-5}.$$\n",
    "\n",
    "Let $Y_j$ be the number of deads for kidney cancer in 10 years in a county with $n_j$ habitants, we can model this by $$Y_j|\\theta\\sim\\textsf{Poisson}(10n_j\\theta_j)$$ and use the prior $\\theta_j\\sim\\textsf{Gamma}(20,430000)$ for every county, note that $\\mathbb{E}(\\theta_j)\\approx 4.65\\times 10^{-5}$.\n",
    "\n",
    "Since the gamma distribution is conuugate for a Poisson likelihood, we have that $$\\theta_j|Y_j\\sim\\textsf{Gamma}(20+Y_j, 430000+10n_j),$$ then $${E}(\\theta_j|Y_j)=\\frac{20+Y_j}{430000+10n_j}.$$\n",
    "\n",
    "Furthermore, according to the historical information the number of registered deads in 10 years would be $$Y_j\\sim\\textsf{NegativeBinomial}\\left(\\alpha,\\frac{\\beta}{10n_j}\\right)$$. Therefore, the expected number of deads in 10 years would be $$\\mathbb{E}(Y_j)=10n_j\\frac{\\alpha}{\\beta}$$"
   ]
  },
  {
   "cell_type": "code",
   "execution_count": 2,
   "metadata": {},
   "outputs": [],
   "source": [
    "ALPHA = 20\n",
    "BETA  = 430000\n",
    "\n",
    "def posterior_mean(n, y):\n",
    "    return (ALPHA+y) / (BETA+10*n)\n",
    "\n",
    "def prior_predictive_mean(n):\n",
    "    beta_pred = BETA/(10*n)\n",
    "    return ALPHA / beta_pred"
   ]
  },
  {
   "attachments": {},
   "cell_type": "markdown",
   "metadata": {},
   "source": [
    "Consider a small town of 1000 people."
   ]
  },
  {
   "cell_type": "code",
   "execution_count": 3,
   "metadata": {},
   "outputs": [
    {
     "name": "stdout",
     "output_type": "stream",
     "text": [
      "4.545454545454545e-05\n",
      "4.772727272727273e-05\n",
      "0.46511627906976744\n"
     ]
    }
   ],
   "source": [
    "N=10**3\n",
    "\n",
    "# posterior mean with y=0\n",
    "print(posterior_mean(N, 0))\n",
    "print(posterior_mean(N, 1))\n",
    "\n",
    "# expected number of deads due to kidney cancer during the next 10 years\n",
    "print(prior_predictive_mean(N))"
   ]
  },
  {
   "attachments": {},
   "cell_type": "markdown",
   "metadata": {},
   "source": [
    "Note that with zero deads the observed ratio is zero, while with just one dead the ratio is $10^4$, almost double the national mean!\n",
    "\n",
    "Furthermore, with such a small population size, the inference is dominated by the prior distribution."
   ]
  },
  {
   "cell_type": "code",
   "execution_count": 4,
   "metadata": {},
   "outputs": [],
   "source": [
    "# probability of 0, 1, 2 and 3 deads during the next 10 years\n",
    "\n",
    "beta_pred = BETA/(10*N)\n",
    "\n",
    "p0 = nbinom.pmf(0, n=ALPHA, p=beta_pred/(beta_pred+1))\n",
    "p1 = nbinom.pmf(1, n=ALPHA, p=beta_pred/(beta_pred+1))\n",
    "p2 = nbinom.pmf(2, n=ALPHA, p=beta_pred/(beta_pred+1))\n",
    "p3 = nbinom.pmf(3, n=ALPHA, p=beta_pred/(beta_pred+1))"
   ]
  },
  {
   "cell_type": "code",
   "execution_count": 5,
   "metadata": {},
   "outputs": [
    {
     "data": {
      "text/plain": [
       "(0.631, 0.287, 0.068, 0.011)"
      ]
     },
     "execution_count": 5,
     "metadata": {},
     "output_type": "execute_result"
    }
   ],
   "source": [
    "round(p0,3), round(p1,3), round(p2,3), round(p3,3)"
   ]
  },
  {
   "attachments": {},
   "cell_type": "markdown",
   "metadata": {},
   "source": [
    "Consider now a city of 1'000,000 people"
   ]
  },
  {
   "cell_type": "code",
   "execution_count": 6,
   "metadata": {},
   "outputs": [
    {
     "name": "stdout",
     "output_type": "stream",
     "text": [
      "3.959731543624161e-05\n",
      "5.417066155321189e-05\n",
      "465.1162790697675\n"
     ]
    }
   ],
   "source": [
    "N=10**6\n",
    "\n",
    "# posterior mean with y=393, 545\n",
    "print(posterior_mean(N, 393))\n",
    "print(posterior_mean(N, 545))\n",
    "\n",
    "# expected number of deads due to kidney cancer during the next 10 years\n",
    "print(prior_predictive_mean(N))"
   ]
  },
  {
   "attachments": {},
   "cell_type": "markdown",
   "metadata": {},
   "source": [
    "In this large city, the data dominate the prior distribution."
   ]
  },
  {
   "attachments": {},
   "cell_type": "markdown",
   "metadata": {},
   "source": [
    "### Constructing the prior distribution"
   ]
  },
  {
   "attachments": {},
   "cell_type": "markdown",
   "metadata": {},
   "source": [
    "To construct the prior distribution we can use historical information about the number of deads in the counties. Since $$Y_j\\sim\\textsf{NegativeBinomial}\\left(\\alpha,\\frac{\\beta}{10n_j}\\right),$$ then $$\\mathbb{E}\\left(\\frac{Y_j}{10n_j}\\right)=\\frac{\\alpha}{\\beta}$$ and $$\\mathbb{V}\\left(\\frac{Y_j}{10n_j}\\right)=\\frac{1}{10n_j}\\frac{\\alpha}{\\beta}+\\frac{\\alpha}{\\beta^2}.$$\n",
    "\n",
    "We set $\\frac{\\alpha}{\\beta}$ to the mean of $\\frac{Y_j}{10n_j}$, and set $\\mathbb{E}\\left(\\frac{1}{10n_j}\\right)\\frac{\\alpha}{\\beta}+\\frac{\\alpha}{\\beta^2}$ to the variance of $\\frac{Y_j}{10n_j}$, using the sample average of the values $\\frac{1}{10n_j}$ in place of $\\mathbb{E}\\left(\\frac{1}{10n_j}\\right)$."
   ]
  }
 ],
 "metadata": {
  "interpreter": {
   "hash": "e7370f93d1d0cde622a1f8e1c04877d8463912d04d973331ad4851f04de6915a"
  },
  "kernelspec": {
   "display_name": "Python 3.10.2 64-bit",
   "language": "python",
   "name": "python3"
  },
  "language_info": {
   "codemirror_mode": {
    "name": "ipython",
    "version": 3
   },
   "file_extension": ".py",
   "mimetype": "text/x-python",
   "name": "python",
   "nbconvert_exporter": "python",
   "pygments_lexer": "ipython3",
   "version": "3.10.8"
  },
  "orig_nbformat": 4
 },
 "nbformat": 4,
 "nbformat_minor": 2
}
