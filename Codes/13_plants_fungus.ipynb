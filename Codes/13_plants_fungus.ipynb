{
 "cells": [
  {
   "cell_type": "code",
   "execution_count": 1,
   "id": "4a3c6af9",
   "metadata": {},
   "outputs": [],
   "source": [
    "import numpy as np\n",
    "import pandas as pd\n",
    "\n",
    "import matplotlib.pyplot as plt\n",
    "\n",
    "from scipy.stats import multivariate_normal, norm, lognorm, bernoulli\n",
    "\n",
    "import pymc3 as pm"
   ]
  },
  {
   "cell_type": "code",
   "execution_count": 2,
   "id": "14541e9e",
   "metadata": {},
   "outputs": [
    {
     "data": {
      "image/png": "[encoded data removed]",
      "text/plain": [
       "<Figure size 432x288 with 1 Axes>"
      ]
     },
     "metadata": {
      "needs_background": "light"
     },
     "output_type": "display_data"
    }
   ],
   "source": [
    "x = np.linspace(0, 2)\n",
    "plt.plot(x, lognorm.pdf(x, loc=0, s=0.25))\n",
    "plt.savefig('lognorm_prior.png', transparent=True)"
   ]
  },
  {
   "cell_type": "code",
   "execution_count": 3,
   "id": "23bde012",
   "metadata": {},
   "outputs": [
    {
     "data": {
      "text/plain": [
       "array([0.61, 1.63])"
      ]
     },
     "execution_count": 3,
     "metadata": {},
     "output_type": "execute_result"
    }
   ],
   "source": [
    "np.round([lognorm.ppf(0.025, loc=0, s=0.25), lognorm.ppf(0.975, loc=0, s=0.25)], 2)"
   ]
  },
  {
   "cell_type": "code",
   "execution_count": 4,
   "id": "ffaf363a",
   "metadata": {},
   "outputs": [],
   "source": [
    "N = 100\n",
    "\n",
    "h0 = norm.rvs(size=N, loc=10, scale=2)\n",
    "\n",
    "treatment = np.array([0,1]*int(N/2))\n",
    "fungus    = bernoulli.rvs(size=N, p=0.5-treatment*0.4)\n",
    "h1        = h0 + norm.rvs(size=N, loc=5-3*fungus)"
   ]
  },
  {
   "cell_type": "code",
   "execution_count": 5,
   "id": "f9d99ddb",
   "metadata": {},
   "outputs": [
    {
     "data": {
      "text/html": [
       "\n",
       "    <div>\n",
       "        <style>\n",
       "            /* Turns off some styling */\n",
       "            progress {\n",
       "                /* gets rid of default border in Firefox and Opera. */\n",
       "                border: none;\n",
       "                /* Needs to be in here for Safari polyfill so background images work as expected. */\n",
       "                background-size: auto;\n",
       "            }\n",
       "            .progress-bar-interrupted, .progress-bar-interrupted::-webkit-progress-bar {\n",
       "                background: #F44336;\n",
       "            }\n",
       "        </style>\n",
       "      <progress value='68' class='' max='68' style='width:300px; height:20px; vertical-align: middle;'></progress>\n",
       "      100.00% [68/68 00:00<00:00 logp = -183.52, ||grad|| = 122.07]\n",
       "    </div>\n",
       "    "
      ],
      "text/plain": [
       "<IPython.core.display.HTML object>"
      ]
     },
     "metadata": {},
     "output_type": "display_data"
    },
    {
     "name": "stdout",
     "output_type": "stream",
     "text": [
      "\n"
     ]
    }
   ],
   "source": [
    "with pm.Model() as model:\n",
    "    alpha  = pm.Lognormal('alpha', mu=10, sigma=100)\n",
    "    beta_T = pm.Normal('beta_T', mu=0, sigma=0.5)\n",
    "    beta_F = pm.Normal('beta_F', mu=0, sigma=0.5)\n",
    "    sigma  = pm.Exponential('sigma', lam=1)\n",
    "    p      = alpha + beta_T*treatment + beta_F*fungus\n",
    "    mu     = h0*p\n",
    "    h      = pm.Normal('height', mu=mu, sd=sigma, observed=h1)\n",
    "    \n",
    "    par_post = pm.find_MAP()\n",
    "    hessian  = pm.find_hessian(par_post, vars=[alpha, beta_T, beta_F, sigma])"
   ]
  },
  {
   "cell_type": "code",
   "execution_count": 6,
   "id": "2bdf0807",
   "metadata": {},
   "outputs": [],
   "source": [
    "posterior_sample = multivariate_normal.rvs(size=10**4,\n",
    "                        mean=np.array([par_post['alpha'], par_post['beta_T'], par_post['beta_F'], par_post['sigma']]),\n",
    "                        cov=np.linalg.inv(hessian))"
   ]
  },
  {
   "cell_type": "code",
   "execution_count": 7,
   "id": "6cf9bb63",
   "metadata": {},
   "outputs": [],
   "source": [
    "posterior_sample = pd.DataFrame(posterior_sample, columns=['alpha', 'beta_T', 'beta_F', 'sigma'])"
   ]
  },
  {
   "cell_type": "code",
   "execution_count": 8,
   "id": "e21ce3f7",
   "metadata": {},
   "outputs": [
    {
     "data": {
      "text/html": [
       "<div>\n",
       "<style scoped>\n",
       "    .dataframe tbody tr th:only-of-type {\n",
       "        vertical-align: middle;\n",
       "    }\n",
       "\n",
       "    .dataframe tbody tr th {\n",
       "        vertical-align: top;\n",
       "    }\n",
       "\n",
       "    .dataframe thead th {\n",
       "        text-align: right;\n",
       "    }\n",
       "</style>\n",
       "<table border=\"1\" class=\"dataframe\">\n",
       "  <thead>\n",
       "    <tr style=\"text-align: right;\">\n",
       "      <th></th>\n",
       "      <th>alpha</th>\n",
       "      <th>beta_T</th>\n",
       "      <th>beta_F</th>\n",
       "      <th>sigma</th>\n",
       "    </tr>\n",
       "  </thead>\n",
       "  <tbody>\n",
       "    <tr>\n",
       "      <th>count</th>\n",
       "      <td>10000.000000</td>\n",
       "      <td>10000.000000</td>\n",
       "      <td>10000.000000</td>\n",
       "      <td>10000.000000</td>\n",
       "    </tr>\n",
       "    <tr>\n",
       "      <th>mean</th>\n",
       "      <td>1.441636</td>\n",
       "      <td>0.032233</td>\n",
       "      <td>-0.261684</td>\n",
       "      <td>1.345023</td>\n",
       "    </tr>\n",
       "    <tr>\n",
       "      <th>std</th>\n",
       "      <td>0.025129</td>\n",
       "      <td>0.029855</td>\n",
       "      <td>0.031385</td>\n",
       "      <td>0.095382</td>\n",
       "    </tr>\n",
       "    <tr>\n",
       "      <th>min</th>\n",
       "      <td>1.349653</td>\n",
       "      <td>-0.066907</td>\n",
       "      <td>-0.375239</td>\n",
       "      <td>0.982605</td>\n",
       "    </tr>\n",
       "    <tr>\n",
       "      <th>25%</th>\n",
       "      <td>1.424657</td>\n",
       "      <td>0.011981</td>\n",
       "      <td>-0.283080</td>\n",
       "      <td>1.280477</td>\n",
       "    </tr>\n",
       "    <tr>\n",
       "      <th>50%</th>\n",
       "      <td>1.442044</td>\n",
       "      <td>0.031917</td>\n",
       "      <td>-0.261599</td>\n",
       "      <td>1.346535</td>\n",
       "    </tr>\n",
       "    <tr>\n",
       "      <th>75%</th>\n",
       "      <td>1.458669</td>\n",
       "      <td>0.052137</td>\n",
       "      <td>-0.240490</td>\n",
       "      <td>1.410567</td>\n",
       "    </tr>\n",
       "    <tr>\n",
       "      <th>max</th>\n",
       "      <td>1.531870</td>\n",
       "      <td>0.145793</td>\n",
       "      <td>-0.147068</td>\n",
       "      <td>1.740017</td>\n",
       "    </tr>\n",
       "  </tbody>\n",
       "</table>\n",
       "</div>"
      ],
      "text/plain": [
       "              alpha        beta_T        beta_F         sigma\n",
       "count  10000.000000  10000.000000  10000.000000  10000.000000\n",
       "mean       1.441636      0.032233     -0.261684      1.345023\n",
       "std        0.025129      0.029855      0.031385      0.095382\n",
       "min        1.349653     -0.066907     -0.375239      0.982605\n",
       "25%        1.424657      0.011981     -0.283080      1.280477\n",
       "50%        1.442044      0.031917     -0.261599      1.346535\n",
       "75%        1.458669      0.052137     -0.240490      1.410567\n",
       "max        1.531870      0.145793     -0.147068      1.740017"
      ]
     },
     "execution_count": 8,
     "metadata": {},
     "output_type": "execute_result"
    }
   ],
   "source": [
    "posterior_sample.describe()"
   ]
  },
  {
   "cell_type": "code",
   "execution_count": 9,
   "id": "057acd09",
   "metadata": {},
   "outputs": [
    {
     "data": {
      "text/html": [
       "\n",
       "    <div>\n",
       "        <style>\n",
       "            /* Turns off some styling */\n",
       "            progress {\n",
       "                /* gets rid of default border in Firefox and Opera. */\n",
       "                border: none;\n",
       "                /* Needs to be in here for Safari polyfill so background images work as expected. */\n",
       "                background-size: auto;\n",
       "            }\n",
       "            .progress-bar-interrupted, .progress-bar-interrupted::-webkit-progress-bar {\n",
       "                background: #F44336;\n",
       "            }\n",
       "        </style>\n",
       "      <progress value='64' class='' max='64' style='width:300px; height:20px; vertical-align: middle;'></progress>\n",
       "      100.00% [64/64 00:00<00:00 logp = -206.39, ||grad|| = 0.16632]\n",
       "    </div>\n",
       "    "
      ],
      "text/plain": [
       "<IPython.core.display.HTML object>"
      ]
     },
     "metadata": {},
     "output_type": "display_data"
    },
    {
     "name": "stdout",
     "output_type": "stream",
     "text": [
      "\n"
     ]
    }
   ],
   "source": [
    "with pm.Model() as model:\n",
    "    alpha  = pm.Lognormal('alpha', mu=10, sigma=100)\n",
    "    beta_T = pm.Normal('beta_T', mu=0, sigma=0.5)\n",
    "    sigma  = pm.Exponential('sigma', lam=1)\n",
    "    p      = alpha + beta_T*treatment\n",
    "    mu     = h0*p\n",
    "    h      = pm.Normal('height', mu=mu, sd=sigma, observed=h1)\n",
    "    \n",
    "    par_post = pm.find_MAP()\n",
    "    hessian  = pm.find_hessian(par_post, vars=[alpha, beta_T, sigma])"
   ]
  },
  {
   "cell_type": "code",
   "execution_count": 10,
   "id": "4c7320a1",
   "metadata": {},
   "outputs": [],
   "source": [
    "posterior_sample = multivariate_normal.rvs(size=10**4,\n",
    "                        mean=np.array([par_post['alpha'], par_post['beta_T'], par_post['sigma']]),\n",
    "                        cov=np.linalg.inv(hessian))"
   ]
  },
  {
   "cell_type": "code",
   "execution_count": 11,
   "id": "6c4cca41",
   "metadata": {},
   "outputs": [],
   "source": [
    "posterior_sample = pd.DataFrame(posterior_sample, columns=['alpha', 'beta_T', 'sigma'])"
   ]
  },
  {
   "cell_type": "code",
   "execution_count": 12,
   "id": "51adca13",
   "metadata": {},
   "outputs": [
    {
     "data": {
      "text/html": [
       "<div>\n",
       "<style scoped>\n",
       "    .dataframe tbody tr th:only-of-type {\n",
       "        vertical-align: middle;\n",
       "    }\n",
       "\n",
       "    .dataframe tbody tr th {\n",
       "        vertical-align: top;\n",
       "    }\n",
       "\n",
       "    .dataframe thead th {\n",
       "        text-align: right;\n",
       "    }\n",
       "</style>\n",
       "<table border=\"1\" class=\"dataframe\">\n",
       "  <thead>\n",
       "    <tr style=\"text-align: right;\">\n",
       "      <th></th>\n",
       "      <th>alpha</th>\n",
       "      <th>beta_T</th>\n",
       "      <th>sigma</th>\n",
       "    </tr>\n",
       "  </thead>\n",
       "  <tbody>\n",
       "    <tr>\n",
       "      <th>count</th>\n",
       "      <td>10000.000000</td>\n",
       "      <td>10000.000000</td>\n",
       "      <td>10000.000000</td>\n",
       "    </tr>\n",
       "    <tr>\n",
       "      <th>mean</th>\n",
       "      <td>1.293143</td>\n",
       "      <td>0.154444</td>\n",
       "      <td>1.746073</td>\n",
       "    </tr>\n",
       "    <tr>\n",
       "      <th>std</th>\n",
       "      <td>0.023059</td>\n",
       "      <td>0.033682</td>\n",
       "      <td>0.120464</td>\n",
       "    </tr>\n",
       "    <tr>\n",
       "      <th>min</th>\n",
       "      <td>1.210729</td>\n",
       "      <td>0.024747</td>\n",
       "      <td>1.291358</td>\n",
       "    </tr>\n",
       "    <tr>\n",
       "      <th>25%</th>\n",
       "      <td>1.277305</td>\n",
       "      <td>0.131493</td>\n",
       "      <td>1.664480</td>\n",
       "    </tr>\n",
       "    <tr>\n",
       "      <th>50%</th>\n",
       "      <td>1.293122</td>\n",
       "      <td>0.154550</td>\n",
       "      <td>1.745924</td>\n",
       "    </tr>\n",
       "    <tr>\n",
       "      <th>75%</th>\n",
       "      <td>1.308525</td>\n",
       "      <td>0.177359</td>\n",
       "      <td>1.827905</td>\n",
       "    </tr>\n",
       "    <tr>\n",
       "      <th>max</th>\n",
       "      <td>1.380343</td>\n",
       "      <td>0.295123</td>\n",
       "      <td>2.195012</td>\n",
       "    </tr>\n",
       "  </tbody>\n",
       "</table>\n",
       "</div>"
      ],
      "text/plain": [
       "              alpha        beta_T         sigma\n",
       "count  10000.000000  10000.000000  10000.000000\n",
       "mean       1.293143      0.154444      1.746073\n",
       "std        0.023059      0.033682      0.120464\n",
       "min        1.210729      0.024747      1.291358\n",
       "25%        1.277305      0.131493      1.664480\n",
       "50%        1.293122      0.154550      1.745924\n",
       "75%        1.308525      0.177359      1.827905\n",
       "max        1.380343      0.295123      2.195012"
      ]
     },
     "execution_count": 12,
     "metadata": {},
     "output_type": "execute_result"
    }
   ],
   "source": [
    "posterior_sample.describe()"
   ]
  },
  {
   "cell_type": "markdown",
   "id": "69b4ac03",
   "metadata": {},
   "source": [
    "### When fungus has nothing to do with the plant"
   ]
  },
  {
   "cell_type": "code",
   "execution_count": 14,
   "id": "84cbdbbd",
   "metadata": {},
   "outputs": [],
   "source": [
    "N = 100\n",
    "\n",
    "h0 = norm.rvs(size=N, loc=10, scale=2)\n",
    "\n",
    "treatment = np.array([0,1]*int(N/2))\n",
    "moist     = bernoulli.rvs(size=N, p=0.5)\n",
    "fungus    = bernoulli.rvs(size=N, p=0.5 - 0.4*treatment + 0.4*moist)\n",
    "h1        = h0 + norm.rvs(size=N, loc=5 + 3*moist)"
   ]
  },
  {
   "cell_type": "code",
   "execution_count": 15,
   "id": "78135331",
   "metadata": {},
   "outputs": [
    {
     "data": {
      "text/html": [
       "\n",
       "    <div>\n",
       "        <style>\n",
       "            /* Turns off some styling */\n",
       "            progress {\n",
       "                /* gets rid of default border in Firefox and Opera. */\n",
       "                border: none;\n",
       "                /* Needs to be in here for Safari polyfill so background images work as expected. */\n",
       "                background-size: auto;\n",
       "            }\n",
       "            .progress-bar-interrupted, .progress-bar-interrupted::-webkit-progress-bar {\n",
       "                background: #F44336;\n",
       "            }\n",
       "        </style>\n",
       "      <progress value='60' class='' max='60' style='width:300px; height:20px; vertical-align: middle;'></progress>\n",
       "      100.00% [60/60 00:00<00:00 logp = -229.29, ||grad|| = 97.493]\n",
       "    </div>\n",
       "    "
      ],
      "text/plain": [
       "<IPython.core.display.HTML object>"
      ]
     },
     "metadata": {},
     "output_type": "display_data"
    },
    {
     "name": "stdout",
     "output_type": "stream",
     "text": [
      "\n"
     ]
    }
   ],
   "source": [
    "with pm.Model() as model:\n",
    "    alpha  = pm.Lognormal('alpha', mu=10, sigma=100)\n",
    "    beta_T = pm.Normal('beta_T', mu=0, sigma=0.5)\n",
    "    beta_F = pm.Normal('beta_F', mu=0, sigma=0.5)\n",
    "    sigma  = pm.Exponential('sigma', lam=1)\n",
    "    p      = alpha + beta_T*treatment + beta_F*fungus\n",
    "    mu     = h0*p\n",
    "    h      = pm.Normal('height', mu=mu, sd=sigma, observed=h1)\n",
    "    \n",
    "    par_post = pm.find_MAP()\n",
    "    hessian  = pm.find_hessian(par_post, vars=[alpha, beta_T, beta_F, sigma])"
   ]
  },
  {
   "cell_type": "code",
   "execution_count": 16,
   "id": "c2cac18b",
   "metadata": {},
   "outputs": [],
   "source": [
    "posterior_sample = multivariate_normal.rvs(size=10**4,\n",
    "                        mean=np.array([par_post['alpha'], par_post['beta_T'], par_post['beta_F'], par_post['sigma']]),\n",
    "                        cov=np.linalg.inv(hessian))"
   ]
  },
  {
   "cell_type": "code",
   "execution_count": 17,
   "id": "37bf2ef8",
   "metadata": {},
   "outputs": [],
   "source": [
    "posterior_sample = pd.DataFrame(posterior_sample, columns=['alpha', 'beta_T', 'beta_F', 'sigma'])"
   ]
  },
  {
   "cell_type": "code",
   "execution_count": 18,
   "id": "9434d496",
   "metadata": {},
   "outputs": [
    {
     "data": {
      "text/html": [
       "<div>\n",
       "<style scoped>\n",
       "    .dataframe tbody tr th:only-of-type {\n",
       "        vertical-align: middle;\n",
       "    }\n",
       "\n",
       "    .dataframe tbody tr th {\n",
       "        vertical-align: top;\n",
       "    }\n",
       "\n",
       "    .dataframe thead th {\n",
       "        text-align: right;\n",
       "    }\n",
       "</style>\n",
       "<table border=\"1\" class=\"dataframe\">\n",
       "  <thead>\n",
       "    <tr style=\"text-align: right;\">\n",
       "      <th></th>\n",
       "      <th>alpha</th>\n",
       "      <th>beta_T</th>\n",
       "      <th>beta_F</th>\n",
       "      <th>sigma</th>\n",
       "    </tr>\n",
       "  </thead>\n",
       "  <tbody>\n",
       "    <tr>\n",
       "      <th>count</th>\n",
       "      <td>10000.000000</td>\n",
       "      <td>10000.000000</td>\n",
       "      <td>10000.000000</td>\n",
       "      <td>10000.000000</td>\n",
       "    </tr>\n",
       "    <tr>\n",
       "      <th>mean</th>\n",
       "      <td>1.499963</td>\n",
       "      <td>0.079633</td>\n",
       "      <td>0.185108</td>\n",
       "      <td>2.137787</td>\n",
       "    </tr>\n",
       "    <tr>\n",
       "      <th>std</th>\n",
       "      <td>0.044259</td>\n",
       "      <td>0.044803</td>\n",
       "      <td>0.044553</td>\n",
       "      <td>0.148105</td>\n",
       "    </tr>\n",
       "    <tr>\n",
       "      <th>min</th>\n",
       "      <td>1.308631</td>\n",
       "      <td>-0.098348</td>\n",
       "      <td>0.012830</td>\n",
       "      <td>1.517567</td>\n",
       "    </tr>\n",
       "    <tr>\n",
       "      <th>25%</th>\n",
       "      <td>1.470304</td>\n",
       "      <td>0.048888</td>\n",
       "      <td>0.154950</td>\n",
       "      <td>2.036755</td>\n",
       "    </tr>\n",
       "    <tr>\n",
       "      <th>50%</th>\n",
       "      <td>1.500462</td>\n",
       "      <td>0.080183</td>\n",
       "      <td>0.185298</td>\n",
       "      <td>2.139039</td>\n",
       "    </tr>\n",
       "    <tr>\n",
       "      <th>75%</th>\n",
       "      <td>1.529731</td>\n",
       "      <td>0.110113</td>\n",
       "      <td>0.214688</td>\n",
       "      <td>2.237221</td>\n",
       "    </tr>\n",
       "    <tr>\n",
       "      <th>max</th>\n",
       "      <td>1.669987</td>\n",
       "      <td>0.226583</td>\n",
       "      <td>0.368744</td>\n",
       "      <td>2.680372</td>\n",
       "    </tr>\n",
       "  </tbody>\n",
       "</table>\n",
       "</div>"
      ],
      "text/plain": [
       "              alpha        beta_T        beta_F         sigma\n",
       "count  10000.000000  10000.000000  10000.000000  10000.000000\n",
       "mean       1.499963      0.079633      0.185108      2.137787\n",
       "std        0.044259      0.044803      0.044553      0.148105\n",
       "min        1.308631     -0.098348      0.012830      1.517567\n",
       "25%        1.470304      0.048888      0.154950      2.036755\n",
       "50%        1.500462      0.080183      0.185298      2.139039\n",
       "75%        1.529731      0.110113      0.214688      2.237221\n",
       "max        1.669987      0.226583      0.368744      2.680372"
      ]
     },
     "execution_count": 18,
     "metadata": {},
     "output_type": "execute_result"
    }
   ],
   "source": [
    "posterior_sample.describe()"
   ]
  },
  {
   "cell_type": "code",
   "execution_count": 19,
   "id": "fa31f954",
   "metadata": {},
   "outputs": [
    {
     "data": {
      "text/html": [
       "\n",
       "    <div>\n",
       "        <style>\n",
       "            /* Turns off some styling */\n",
       "            progress {\n",
       "                /* gets rid of default border in Firefox and Opera. */\n",
       "                border: none;\n",
       "                /* Needs to be in here for Safari polyfill so background images work as expected. */\n",
       "                background-size: auto;\n",
       "            }\n",
       "            .progress-bar-interrupted, .progress-bar-interrupted::-webkit-progress-bar {\n",
       "                background: #F44336;\n",
       "            }\n",
       "        </style>\n",
       "      <progress value='62' class='' max='62' style='width:300px; height:20px; vertical-align: middle;'></progress>\n",
       "      100.00% [62/62 00:00<00:00 logp = -235.24, ||grad|| = 0.0030591]\n",
       "    </div>\n",
       "    "
      ],
      "text/plain": [
       "<IPython.core.display.HTML object>"
      ]
     },
     "metadata": {},
     "output_type": "display_data"
    },
    {
     "name": "stdout",
     "output_type": "stream",
     "text": [
      "\n"
     ]
    }
   ],
   "source": [
    "with pm.Model() as model:\n",
    "    alpha  = pm.Lognormal('alpha', mu=10, sigma=100)\n",
    "    beta_T = pm.Normal('beta_T', mu=0, sigma=0.5)\n",
    "    sigma  = pm.Exponential('sigma', lam=1)\n",
    "    p      = alpha + beta_T*treatment\n",
    "    mu     = h0*p\n",
    "    h      = pm.Normal('height', mu=mu, sd=sigma, observed=h1)\n",
    "    \n",
    "    par_post = pm.find_MAP()\n",
    "    hessian  = pm.find_hessian(par_post, vars=[alpha, beta_T, sigma])"
   ]
  },
  {
   "cell_type": "code",
   "execution_count": 20,
   "id": "2e82d767",
   "metadata": {},
   "outputs": [],
   "source": [
    "posterior_sample = multivariate_normal.rvs(size=10**4,\n",
    "                        mean=np.array([par_post['alpha'], par_post['beta_T'], par_post['sigma']]),\n",
    "                        cov=np.linalg.inv(hessian))"
   ]
  },
  {
   "cell_type": "code",
   "execution_count": 21,
   "id": "96834d84",
   "metadata": {},
   "outputs": [],
   "source": [
    "posterior_sample = pd.DataFrame(posterior_sample, columns=['alpha', 'beta_T', 'sigma'])"
   ]
  },
  {
   "cell_type": "code",
   "execution_count": 22,
   "id": "2655f3f6",
   "metadata": {},
   "outputs": [
    {
     "data": {
      "text/html": [
       "<div>\n",
       "<style scoped>\n",
       "    .dataframe tbody tr th:only-of-type {\n",
       "        vertical-align: middle;\n",
       "    }\n",
       "\n",
       "    .dataframe tbody tr th {\n",
       "        vertical-align: top;\n",
       "    }\n",
       "\n",
       "    .dataframe thead th {\n",
       "        text-align: right;\n",
       "    }\n",
       "</style>\n",
       "<table border=\"1\" class=\"dataframe\">\n",
       "  <thead>\n",
       "    <tr style=\"text-align: right;\">\n",
       "      <th></th>\n",
       "      <th>alpha</th>\n",
       "      <th>beta_T</th>\n",
       "      <th>sigma</th>\n",
       "    </tr>\n",
       "  </thead>\n",
       "  <tbody>\n",
       "    <tr>\n",
       "      <th>count</th>\n",
       "      <td>10000.000000</td>\n",
       "      <td>10000.000000</td>\n",
       "      <td>10000.000000</td>\n",
       "    </tr>\n",
       "    <tr>\n",
       "      <th>mean</th>\n",
       "      <td>1.633909</td>\n",
       "      <td>0.012434</td>\n",
       "      <td>2.310591</td>\n",
       "    </tr>\n",
       "    <tr>\n",
       "      <th>std</th>\n",
       "      <td>0.031975</td>\n",
       "      <td>0.044555</td>\n",
       "      <td>0.160004</td>\n",
       "    </tr>\n",
       "    <tr>\n",
       "      <th>min</th>\n",
       "      <td>1.510244</td>\n",
       "      <td>-0.164354</td>\n",
       "      <td>1.718527</td>\n",
       "    </tr>\n",
       "    <tr>\n",
       "      <th>25%</th>\n",
       "      <td>1.611567</td>\n",
       "      <td>-0.018344</td>\n",
       "      <td>2.200645</td>\n",
       "    </tr>\n",
       "    <tr>\n",
       "      <th>50%</th>\n",
       "      <td>1.633735</td>\n",
       "      <td>0.012551</td>\n",
       "      <td>2.310235</td>\n",
       "    </tr>\n",
       "    <tr>\n",
       "      <th>75%</th>\n",
       "      <td>1.655719</td>\n",
       "      <td>0.043211</td>\n",
       "      <td>2.419777</td>\n",
       "    </tr>\n",
       "    <tr>\n",
       "      <th>max</th>\n",
       "      <td>1.746898</td>\n",
       "      <td>0.176757</td>\n",
       "      <td>3.016134</td>\n",
       "    </tr>\n",
       "  </tbody>\n",
       "</table>\n",
       "</div>"
      ],
      "text/plain": [
       "              alpha        beta_T         sigma\n",
       "count  10000.000000  10000.000000  10000.000000\n",
       "mean       1.633909      0.012434      2.310591\n",
       "std        0.031975      0.044555      0.160004\n",
       "min        1.510244     -0.164354      1.718527\n",
       "25%        1.611567     -0.018344      2.200645\n",
       "50%        1.633735      0.012551      2.310235\n",
       "75%        1.655719      0.043211      2.419777\n",
       "max        1.746898      0.176757      3.016134"
      ]
     },
     "execution_count": 22,
     "metadata": {},
     "output_type": "execute_result"
    }
   ],
   "source": [
    "posterior_sample.describe()"
   ]
  }
 ],
 "metadata": {
  "kernelspec": {
   "display_name": "Python 3 (ipykernel)",
   "language": "python",
   "name": "python3"
  },
  "language_info": {
   "codemirror_mode": {
    "name": "ipython",
    "version": 3
   },
   "file_extension": ".py",
   "mimetype": "text/x-python",
   "name": "python",
   "nbconvert_exporter": "python",
   "pygments_lexer": "ipython3",
   "version": "3.10.1"
  }
 },
 "nbformat": 4,
 "nbformat_minor": 5
}
