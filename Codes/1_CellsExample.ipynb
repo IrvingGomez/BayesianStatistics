{
 "cells": [
  {
   "cell_type": "markdown",
   "metadata": {},
   "source": [
    "20 celulas, 12 en produccion.\n",
    "estado A: $\\theta$=0.2\n",
    "estado B: $\\theta$=0.5\n",
    "estado C: $\\theta$=0.7"
   ]
  },
  {
   "cell_type": "code",
   "execution_count": 2,
   "metadata": {},
   "outputs": [],
   "source": [
    "from scipy.stats import binom"
   ]
  },
  {
   "cell_type": "code",
   "execution_count": 3,
   "metadata": {},
   "outputs": [],
   "source": [
    "theta_A = 0.2\n",
    "theta_B = 0.5\n",
    "theta_C = 0.7"
   ]
  },
  {
   "cell_type": "code",
   "execution_count": 4,
   "metadata": {},
   "outputs": [],
   "source": [
    "p_A = binom.pmf(12, 20, theta_A)\n",
    "p_B = binom.pmf(12, 20, theta_B)\n",
    "p_C = binom.pmf(12, 20, theta_C)"
   ]
  },
  {
   "cell_type": "code",
   "execution_count": 5,
   "metadata": {},
   "outputs": [
    {
     "name": "stdout",
     "output_type": "stream",
     "text": [
      "0.00036896593851734545\n",
      "0.5120431003054832\n",
      "0.4875879337559995\n"
     ]
    }
   ],
   "source": [
    "print(p_A/(p_A+p_B+p_C))\n",
    "print(p_B/(p_A+p_B+p_C))\n",
    "print(p_C/(p_A+p_B+p_C))"
   ]
  }
 ],
 "metadata": {
  "kernelspec": {
   "display_name": "Python 3.10.5 64-bit",
   "language": "python",
   "name": "python3"
  },
  "language_info": {
   "codemirror_mode": {
    "name": "ipython",
    "version": 3
   },
   "file_extension": ".py",
   "mimetype": "text/x-python",
   "name": "python",
   "nbconvert_exporter": "python",
   "pygments_lexer": "ipython3",
   "version": "3.10.5"
  },
  "orig_nbformat": 4,
  "vscode": {
   "interpreter": {
    "hash": "e7370f93d1d0cde622a1f8e1c04877d8463912d04d973331ad4851f04de6915a"
   }
  }
 },
 "nbformat": 4,
 "nbformat_minor": 2
}
