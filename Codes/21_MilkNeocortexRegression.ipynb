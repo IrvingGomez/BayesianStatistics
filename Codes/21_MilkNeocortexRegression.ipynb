{
 "cells": [
  {
   "cell_type": "code",
   "execution_count": 1,
   "metadata": {},
   "outputs": [],
   "source": [
    "import numpy as np\n",
    "import pandas as pd\n",
    "\n",
    "import matplotlib.pyplot as plt\n",
    "import seaborn as sns\n",
    "\n",
    "import pymc as pm\n",
    "import arviz as az\n",
    "\n",
    "# The next libraries are to plot DAGs\n",
    "import collections.abc\n",
    "collections.Iterable = collections.abc.Iterable\n",
    "from causalgraphicalmodels import CausalGraphicalModel"
   ]
  },
  {
   "attachments": {},
   "cell_type": "markdown",
   "metadata": {},
   "source": [
    "---"
   ]
  },
  {
   "cell_type": "code",
   "execution_count": 2,
   "metadata": {},
   "outputs": [],
   "source": [
    "ALPHA_LEVEL = 0.11"
   ]
  },
  {
   "cell_type": "code",
   "execution_count": 3,
   "metadata": {},
   "outputs": [],
   "source": [
    "Dat = pd.read_csv('Data/milk.csv', sep=';')"
   ]
  },
  {
   "cell_type": "code",
   "execution_count": 4,
   "metadata": {},
   "outputs": [
    {
     "data": {
      "text/html": [
       "<div>\n",
       "<style scoped>\n",
       "    .dataframe tbody tr th:only-of-type {\n",
       "        vertical-align: middle;\n",
       "    }\n",
       "\n",
       "    .dataframe tbody tr th {\n",
       "        vertical-align: top;\n",
       "    }\n",
       "\n",
       "    .dataframe thead th {\n",
       "        text-align: right;\n",
       "    }\n",
       "</style>\n",
       "<table border=\"1\" class=\"dataframe\">\n",
       "  <thead>\n",
       "    <tr style=\"text-align: right;\">\n",
       "      <th></th>\n",
       "      <th>clade</th>\n",
       "      <th>species</th>\n",
       "      <th>kcal.per.g</th>\n",
       "      <th>perc.fat</th>\n",
       "      <th>perc.protein</th>\n",
       "      <th>perc.lactose</th>\n",
       "      <th>mass</th>\n",
       "      <th>neocortex.perc</th>\n",
       "    </tr>\n",
       "  </thead>\n",
       "  <tbody>\n",
       "    <tr>\n",
       "      <th>0</th>\n",
       "      <td>Strepsirrhine</td>\n",
       "      <td>Eulemur fulvus</td>\n",
       "      <td>0.49</td>\n",
       "      <td>16.60</td>\n",
       "      <td>15.42</td>\n",
       "      <td>67.98</td>\n",
       "      <td>1.95</td>\n",
       "      <td>55.16</td>\n",
       "    </tr>\n",
       "    <tr>\n",
       "      <th>1</th>\n",
       "      <td>Strepsirrhine</td>\n",
       "      <td>E macaco</td>\n",
       "      <td>0.51</td>\n",
       "      <td>19.27</td>\n",
       "      <td>16.91</td>\n",
       "      <td>63.82</td>\n",
       "      <td>2.09</td>\n",
       "      <td>NaN</td>\n",
       "    </tr>\n",
       "    <tr>\n",
       "      <th>2</th>\n",
       "      <td>Strepsirrhine</td>\n",
       "      <td>E mongoz</td>\n",
       "      <td>0.46</td>\n",
       "      <td>14.11</td>\n",
       "      <td>16.85</td>\n",
       "      <td>69.04</td>\n",
       "      <td>2.51</td>\n",
       "      <td>NaN</td>\n",
       "    </tr>\n",
       "    <tr>\n",
       "      <th>3</th>\n",
       "      <td>Strepsirrhine</td>\n",
       "      <td>E rubriventer</td>\n",
       "      <td>0.48</td>\n",
       "      <td>14.91</td>\n",
       "      <td>13.18</td>\n",
       "      <td>71.91</td>\n",
       "      <td>1.62</td>\n",
       "      <td>NaN</td>\n",
       "    </tr>\n",
       "    <tr>\n",
       "      <th>4</th>\n",
       "      <td>Strepsirrhine</td>\n",
       "      <td>Lemur catta</td>\n",
       "      <td>0.60</td>\n",
       "      <td>27.28</td>\n",
       "      <td>19.50</td>\n",
       "      <td>53.22</td>\n",
       "      <td>2.19</td>\n",
       "      <td>NaN</td>\n",
       "    </tr>\n",
       "  </tbody>\n",
       "</table>\n",
       "</div>"
      ],
      "text/plain": [
       "           clade         species  kcal.per.g  perc.fat  perc.protein  \\\n",
       "0  Strepsirrhine  Eulemur fulvus        0.49     16.60         15.42   \n",
       "1  Strepsirrhine        E macaco        0.51     19.27         16.91   \n",
       "2  Strepsirrhine        E mongoz        0.46     14.11         16.85   \n",
       "3  Strepsirrhine   E rubriventer        0.48     14.91         13.18   \n",
       "4  Strepsirrhine     Lemur catta        0.60     27.28         19.50   \n",
       "\n",
       "   perc.lactose  mass  neocortex.perc  \n",
       "0         67.98  1.95           55.16  \n",
       "1         63.82  2.09             NaN  \n",
       "2         69.04  2.51             NaN  \n",
       "3         71.91  1.62             NaN  \n",
       "4         53.22  2.19             NaN  "
      ]
     },
     "execution_count": 4,
     "metadata": {},
     "output_type": "execute_result"
    }
   ],
   "source": [
    "Dat.head()"
   ]
  },
  {
   "cell_type": "markdown",
   "metadata": {},
   "source": [
    "A popular hypothesis has it that primates with larger brains produce more energetic milk, so that brains can grow quickly. The question here is to what extent energy content of milk, measured here by kilocalories, is related to the percentage of brain mass that is neocortex. We'll end up needing female body mass as well."
   ]
  },
  {
   "cell_type": "code",
   "execution_count": 5,
   "metadata": {},
   "outputs": [],
   "source": [
    "Dat = Dat[['neocortex.perc', 'mass', 'kcal.per.g']]\n",
    "\n",
    "# We take out the null values for the newcortex variable\n",
    "Dat = Dat[~Dat['neocortex.perc'].isnull()].reset_index(drop=True)\n",
    "\n",
    "# We take the logarithm of the mass\n",
    "Dat['LogMass'] = np.log(Dat['mass'])\n",
    "\n",
    "Dat = Dat.rename(columns={'neocortex.perc':'Newcortex', 'kcal.per.g':'Energy'})"
   ]
  },
  {
   "cell_type": "code",
   "execution_count": 6,
   "metadata": {},
   "outputs": [
    {
     "data": {
      "text/html": [
       "<div>\n",
       "<style scoped>\n",
       "    .dataframe tbody tr th:only-of-type {\n",
       "        vertical-align: middle;\n",
       "    }\n",
       "\n",
       "    .dataframe tbody tr th {\n",
       "        vertical-align: top;\n",
       "    }\n",
       "\n",
       "    .dataframe thead th {\n",
       "        text-align: right;\n",
       "    }\n",
       "</style>\n",
       "<table border=\"1\" class=\"dataframe\">\n",
       "  <thead>\n",
       "    <tr style=\"text-align: right;\">\n",
       "      <th></th>\n",
       "      <th>Newcortex</th>\n",
       "      <th>mass</th>\n",
       "      <th>Energy</th>\n",
       "      <th>LogMass</th>\n",
       "    </tr>\n",
       "  </thead>\n",
       "  <tbody>\n",
       "    <tr>\n",
       "      <th>0</th>\n",
       "      <td>55.16</td>\n",
       "      <td>1.95</td>\n",
       "      <td>0.49</td>\n",
       "      <td>0.667829</td>\n",
       "    </tr>\n",
       "    <tr>\n",
       "      <th>1</th>\n",
       "      <td>64.54</td>\n",
       "      <td>5.25</td>\n",
       "      <td>0.47</td>\n",
       "      <td>1.658228</td>\n",
       "    </tr>\n",
       "    <tr>\n",
       "      <th>2</th>\n",
       "      <td>64.54</td>\n",
       "      <td>5.37</td>\n",
       "      <td>0.56</td>\n",
       "      <td>1.680828</td>\n",
       "    </tr>\n",
       "    <tr>\n",
       "      <th>3</th>\n",
       "      <td>67.64</td>\n",
       "      <td>2.51</td>\n",
       "      <td>0.89</td>\n",
       "      <td>0.920283</td>\n",
       "    </tr>\n",
       "    <tr>\n",
       "      <th>4</th>\n",
       "      <td>68.85</td>\n",
       "      <td>0.68</td>\n",
       "      <td>0.92</td>\n",
       "      <td>-0.385662</td>\n",
       "    </tr>\n",
       "  </tbody>\n",
       "</table>\n",
       "</div>"
      ],
      "text/plain": [
       "   Newcortex  mass  Energy   LogMass\n",
       "0      55.16  1.95    0.49  0.667829\n",
       "1      64.54  5.25    0.47  1.658228\n",
       "2      64.54  5.37    0.56  1.680828\n",
       "3      67.64  2.51    0.89  0.920283\n",
       "4      68.85  0.68    0.92 -0.385662"
      ]
     },
     "execution_count": 6,
     "metadata": {},
     "output_type": "execute_result"
    }
   ],
   "source": [
    "Dat.head()"
   ]
  },
  {
   "attachments": {},
   "cell_type": "markdown",
   "metadata": {},
   "source": [
    "We standardize the variables"
   ]
  },
  {
   "cell_type": "code",
   "execution_count": 7,
   "metadata": {},
   "outputs": [],
   "source": [
    "Dat['NewcortexStandard'] = (Dat['Newcortex'] - Dat['Newcortex'].mean()) / Dat['Newcortex'].std()\n",
    "Dat['EnergyStandard'] = (Dat['Energy'] - Dat['Energy'].mean()) / Dat['Energy'].std()\n",
    "Dat['LogMassStandard'] = (Dat['LogMass'] - Dat['LogMass'].mean()) / Dat['LogMass'].std()"
   ]
  },
  {
   "attachments": {},
   "cell_type": "markdown",
   "metadata": {},
   "source": [
    "### Model to predict energy given newcortex percentage"
   ]
  },
  {
   "cell_type": "code",
   "execution_count": 8,
   "metadata": {},
   "outputs": [
    {
     "name": "stderr",
     "output_type": "stream",
     "text": [
      "Auto-assigning NUTS sampler...\n",
      "Initializing NUTS using jitter+adapt_diag...\n",
      "Multiprocess sampling (4 chains in 4 jobs)\n",
      "NUTS: [Alpha, BetaN, Sigma]\n"
     ]
    },
    {
     "data": {
      "text/html": [
       "\n",
       "<style>\n",
       "    /* Turns off some styling */\n",
       "    progress {\n",
       "        /* gets rid of default border in Firefox and Opera. */\n",
       "        border: none;\n",
       "        /* Needs to be in here for Safari polyfill so background images work as expected. */\n",
       "        background-size: auto;\n",
       "    }\n",
       "    progress:not([value]), progress:not([value])::-webkit-progress-bar {\n",
       "        background: repeating-linear-gradient(45deg, #7e7e7e, #7e7e7e 10px, #5c5c5c 10px, #5c5c5c 20px);\n",
       "    }\n",
       "    .progress-bar-interrupted, .progress-bar-interrupted::-webkit-progress-bar {\n",
       "        background: #F44336;\n",
       "    }\n",
       "</style>\n"
      ],
      "text/plain": [
       "<IPython.core.display.HTML object>"
      ]
     },
     "metadata": {},
     "output_type": "display_data"
    },
    {
     "data": {
      "text/html": [
       "\n",
       "    <div>\n",
       "      <progress value='8000' class='' max='8000' style='width:300px; height:20px; vertical-align: middle;'></progress>\n",
       "      100.00% [8000/8000 00:02&lt;00:00 Sampling 4 chains, 0 divergences]\n",
       "    </div>\n",
       "    "
      ],
      "text/plain": [
       "<IPython.core.display.HTML object>"
      ]
     },
     "metadata": {},
     "output_type": "display_data"
    },
    {
     "name": "stderr",
     "output_type": "stream",
     "text": [
      "Sampling 4 chains for 1_000 tune and 1_000 draw iterations (4_000 + 4_000 draws total) took 3 seconds.\n",
      "/home/dmitri/.local/lib/python3.11/site-packages/arviz/utils.py:184: NumbaDeprecationWarning: \u001b[1mThe 'nopython' keyword argument was not supplied to the 'numba.jit' decorator. The implicit default value for this argument is currently False, but it will be changed to True in Numba 0.59.0. See https://numba.readthedocs.io/en/stable/reference/deprecation.html#deprecation-of-object-mode-fall-back-behaviour-when-using-jit for details.\u001b[0m\n",
      "  numba_fn = numba.jit(**self.kwargs)(self.function)\n",
      "Sampling: [Energy]\n"
     ]
    },
    {
     "data": {
      "text/html": [
       "\n",
       "<style>\n",
       "    /* Turns off some styling */\n",
       "    progress {\n",
       "        /* gets rid of default border in Firefox and Opera. */\n",
       "        border: none;\n",
       "        /* Needs to be in here for Safari polyfill so background images work as expected. */\n",
       "        background-size: auto;\n",
       "    }\n",
       "    progress:not([value]), progress:not([value])::-webkit-progress-bar {\n",
       "        background: repeating-linear-gradient(45deg, #7e7e7e, #7e7e7e 10px, #5c5c5c 10px, #5c5c5c 20px);\n",
       "    }\n",
       "    .progress-bar-interrupted, .progress-bar-interrupted::-webkit-progress-bar {\n",
       "        background: #F44336;\n",
       "    }\n",
       "</style>\n"
      ],
      "text/plain": [
       "<IPython.core.display.HTML object>"
      ]
     },
     "metadata": {},
     "output_type": "display_data"
    },
    {
     "data": {
      "text/html": [
       "\n",
       "    <div>\n",
       "      <progress value='4000' class='' max='4000' style='width:300px; height:20px; vertical-align: middle;'></progress>\n",
       "      100.00% [4000/4000 00:00&lt;00:00]\n",
       "    </div>\n",
       "    "
      ],
      "text/plain": [
       "<IPython.core.display.HTML object>"
      ]
     },
     "metadata": {},
     "output_type": "display_data"
    }
   ],
   "source": [
    "with pm.Model() as ModelEnergyGivenNewcortex:\n",
    "    Alpha = pm.Normal('Alpha', mu=0, sigma=0.2)\n",
    "    BetaN = pm.Normal('BetaN', mu=0, sigma=0.5)\n",
    "    Sigma = pm.Exponential('Sigma', lam=1)\n",
    "    Mu = pm.Deterministic('Mu', Alpha + BetaN * Dat['NewcortexStandard'])\n",
    "\n",
    "    Energy = pm.Normal('Energy', mu=Mu, sigma=Sigma, observed=Dat['EnergyStandard'])\n",
    "\n",
    "    TraceEnergyGivenNewcortex = pm.sample()\n",
    "    TraceEnergyGivenNewcortex.extend(pm.sample_posterior_predictive(TraceEnergyGivenNewcortex))"
   ]
  },
  {
   "cell_type": "code",
   "execution_count": 9,
   "metadata": {},
   "outputs": [
    {
     "data": {
      "image/png": "[encoded data removed]",
      "text/plain": [
       "<Figure size 640x480 with 1 Axes>"
      ]
     },
     "metadata": {},
     "output_type": "display_data"
    }
   ],
   "source": [
    "sns.scatterplot(x=Dat['Newcortex'], y=Dat['EnergyStandard'])\n",
    "\n",
    "plt.plot(\n",
    "    Dat['Newcortex']\n",
    "    , TraceEnergyGivenNewcortex.posterior.Mu.mean(('chain', 'draw'))\n",
    "    , label=\"Mean Posterior\"\n",
    "    , color='k'\n",
    ")\n",
    "\n",
    "az.plot_hdi(\n",
    "    Dat['Newcortex']\n",
    "    , TraceEnergyGivenNewcortex.posterior_predictive.Energy\n",
    "    , hdi_prob=1-ALPHA_LEVEL\n",
    "    , color='rebeccapurple'\n",
    "    , fill_kwargs={'alpha': 0.5, 'label':\"Prediction Interval\"}\n",
    ")\n",
    "\n",
    "az.plot_hdi(\n",
    "    Dat['Newcortex']\n",
    "    , TraceEnergyGivenNewcortex.posterior.Mu\n",
    "    , hdi_prob=1-ALPHA_LEVEL\n",
    "    , color='pink'\n",
    "    , fill_kwargs={'alpha': 0.5, 'label':\"Confidence Interval\"}\n",
    ")\n",
    "\n",
    "plt.legend(frameon=False)\n",
    "_ = plt.yticks(np.arange(-3, 4), np.round(np.arange(-3, 4) * Dat['Energy'].std() + Dat['Energy'].mean(), 2))\n",
    "_ = plt.xlabel(\"Newcortex percentage\")\n",
    "_ = plt.ylabel(\"Energy (kilocal per g)\")"
   ]
  },
  {
   "cell_type": "markdown",
   "metadata": {},
   "source": [
    "Total effect of newcortex percentage over the energy"
   ]
  },
  {
   "cell_type": "code",
   "execution_count": 10,
   "metadata": {},
   "outputs": [
    {
     "data": {
      "text/html": [
       "<div>\n",
       "<style scoped>\n",
       "    .dataframe tbody tr th:only-of-type {\n",
       "        vertical-align: middle;\n",
       "    }\n",
       "\n",
       "    .dataframe tbody tr th {\n",
       "        vertical-align: top;\n",
       "    }\n",
       "\n",
       "    .dataframe thead th {\n",
       "        text-align: right;\n",
       "    }\n",
       "</style>\n",
       "<table border=\"1\" class=\"dataframe\">\n",
       "  <thead>\n",
       "    <tr style=\"text-align: right;\">\n",
       "      <th></th>\n",
       "      <th>mean</th>\n",
       "      <th>sd</th>\n",
       "      <th>hdi_5.5%</th>\n",
       "      <th>hdi_94.5%</th>\n",
       "    </tr>\n",
       "  </thead>\n",
       "  <tbody>\n",
       "    <tr>\n",
       "      <th>BetaN</th>\n",
       "      <td>0.12</td>\n",
       "      <td>0.23</td>\n",
       "      <td>-0.24</td>\n",
       "      <td>0.49</td>\n",
       "    </tr>\n",
       "  </tbody>\n",
       "</table>\n",
       "</div>"
      ],
      "text/plain": [
       "       mean    sd  hdi_5.5%  hdi_94.5%\n",
       "BetaN  0.12  0.23     -0.24       0.49"
      ]
     },
     "execution_count": 10,
     "metadata": {},
     "output_type": "execute_result"
    }
   ],
   "source": [
    "az.summary(TraceEnergyGivenNewcortex, var_names='BetaN', kind='stats', hdi_prob=1-ALPHA_LEVEL).round(2)"
   ]
  },
  {
   "attachments": {},
   "cell_type": "markdown",
   "metadata": {},
   "source": [
    "### Model to predict energy given body mass"
   ]
  },
  {
   "cell_type": "code",
   "execution_count": 11,
   "metadata": {},
   "outputs": [
    {
     "name": "stderr",
     "output_type": "stream",
     "text": [
      "Auto-assigning NUTS sampler...\n",
      "Initializing NUTS using jitter+adapt_diag...\n",
      "Multiprocess sampling (4 chains in 4 jobs)\n",
      "NUTS: [Alpha, BetaM, Sigma]\n"
     ]
    },
    {
     "data": {
      "text/html": [
       "\n",
       "<style>\n",
       "    /* Turns off some styling */\n",
       "    progress {\n",
       "        /* gets rid of default border in Firefox and Opera. */\n",
       "        border: none;\n",
       "        /* Needs to be in here for Safari polyfill so background images work as expected. */\n",
       "        background-size: auto;\n",
       "    }\n",
       "    progress:not([value]), progress:not([value])::-webkit-progress-bar {\n",
       "        background: repeating-linear-gradient(45deg, #7e7e7e, #7e7e7e 10px, #5c5c5c 10px, #5c5c5c 20px);\n",
       "    }\n",
       "    .progress-bar-interrupted, .progress-bar-interrupted::-webkit-progress-bar {\n",
       "        background: #F44336;\n",
       "    }\n",
       "</style>\n"
      ],
      "text/plain": [
       "<IPython.core.display.HTML object>"
      ]
     },
     "metadata": {},
     "output_type": "display_data"
    },
    {
     "data": {
      "text/html": [
       "\n",
       "    <div>\n",
       "      <progress value='8000' class='' max='8000' style='width:300px; height:20px; vertical-align: middle;'></progress>\n",
       "      100.00% [8000/8000 00:03&lt;00:00 Sampling 4 chains, 0 divergences]\n",
       "    </div>\n",
       "    "
      ],
      "text/plain": [
       "<IPython.core.display.HTML object>"
      ]
     },
     "metadata": {},
     "output_type": "display_data"
    },
    {
     "name": "stderr",
     "output_type": "stream",
     "text": [
      "Sampling 4 chains for 1_000 tune and 1_000 draw iterations (4_000 + 4_000 draws total) took 3 seconds.\n",
      "Sampling: [Energy]\n"
     ]
    },
    {
     "data": {
      "text/html": [
       "\n",
       "<style>\n",
       "    /* Turns off some styling */\n",
       "    progress {\n",
       "        /* gets rid of default border in Firefox and Opera. */\n",
       "        border: none;\n",
       "        /* Needs to be in here for Safari polyfill so background images work as expected. */\n",
       "        background-size: auto;\n",
       "    }\n",
       "    progress:not([value]), progress:not([value])::-webkit-progress-bar {\n",
       "        background: repeating-linear-gradient(45deg, #7e7e7e, #7e7e7e 10px, #5c5c5c 10px, #5c5c5c 20px);\n",
       "    }\n",
       "    .progress-bar-interrupted, .progress-bar-interrupted::-webkit-progress-bar {\n",
       "        background: #F44336;\n",
       "    }\n",
       "</style>\n"
      ],
      "text/plain": [
       "<IPython.core.display.HTML object>"
      ]
     },
     "metadata": {},
     "output_type": "display_data"
    },
    {
     "data": {
      "text/html": [
       "\n",
       "    <div>\n",
       "      <progress value='4000' class='' max='4000' style='width:300px; height:20px; vertical-align: middle;'></progress>\n",
       "      100.00% [4000/4000 00:00&lt;00:00]\n",
       "    </div>\n",
       "    "
      ],
      "text/plain": [
       "<IPython.core.display.HTML object>"
      ]
     },
     "metadata": {},
     "output_type": "display_data"
    }
   ],
   "source": [
    "with pm.Model() as ModelEnergyGivenMass:\n",
    "    Alpha = pm.Normal('Alpha', mu=0, sigma=0.2)\n",
    "    BetaM = pm.Normal('BetaM', mu=0, sigma=0.5)\n",
    "    Sigma = pm.Exponential('Sigma', lam=1)\n",
    "    Mu = pm.Deterministic('Mu', Alpha + BetaM * Dat['LogMassStandard'])\n",
    "\n",
    "    Energy = pm.Normal('Energy', mu=Mu, sigma=Sigma, observed=Dat['EnergyStandard'])\n",
    "\n",
    "    TraceEnergyGivenMass = pm.sample()\n",
    "    TraceEnergyGivenMass.extend(pm.sample_posterior_predictive(TraceEnergyGivenMass))"
   ]
  },
  {
   "cell_type": "code",
   "execution_count": 12,
   "metadata": {},
   "outputs": [
    {
     "data": {
      "image/png": "[encoded data removed]",
      "text/plain": [
       "<Figure size 640x480 with 1 Axes>"
      ]
     },
     "metadata": {},
     "output_type": "display_data"
    }
   ],
   "source": [
    "sns.scatterplot(x=Dat['LogMass'], y=Dat['EnergyStandard'])\n",
    "\n",
    "plt.plot(\n",
    "    Dat['LogMass']\n",
    "    , TraceEnergyGivenMass.posterior.Mu.mean(('chain', 'draw'))\n",
    "    , label=\"Mean Posterior\"\n",
    "    , color='k'\n",
    ")\n",
    "\n",
    "az.plot_hdi(\n",
    "    Dat['LogMass']\n",
    "    , TraceEnergyGivenMass.posterior_predictive.Energy\n",
    "    , hdi_prob=1-ALPHA_LEVEL\n",
    "    , color='rebeccapurple'\n",
    "    , fill_kwargs={'alpha': 0.5, 'label':\"Prediction Interval\"}\n",
    ")\n",
    "\n",
    "az.plot_hdi(\n",
    "    Dat['LogMass']\n",
    "    , TraceEnergyGivenMass.posterior.Mu\n",
    "    , hdi_prob=1-ALPHA_LEVEL\n",
    "    , color='pink'\n",
    "    , fill_kwargs={'alpha': 0.5, 'label':\"Confidence Interval\"}\n",
    ")\n",
    "\n",
    "plt.legend(frameon=False)\n",
    "_ = plt.yticks(np.arange(-3, 4), np.round(np.arange(-3, 4) * Dat['Energy'].std() + Dat['Energy'].mean(), 2))\n",
    "_ = plt.xlabel(\"Log body mass (log kg)\")\n",
    "_ = plt.ylabel(\"Energy (kilocal per g)\")"
   ]
  },
  {
   "cell_type": "markdown",
   "metadata": {},
   "source": [
    "Total effect of log-mass body over energy"
   ]
  },
  {
   "cell_type": "code",
   "execution_count": 13,
   "metadata": {},
   "outputs": [
    {
     "data": {
      "text/html": [
       "<div>\n",
       "<style scoped>\n",
       "    .dataframe tbody tr th:only-of-type {\n",
       "        vertical-align: middle;\n",
       "    }\n",
       "\n",
       "    .dataframe tbody tr th {\n",
       "        vertical-align: top;\n",
       "    }\n",
       "\n",
       "    .dataframe thead th {\n",
       "        text-align: right;\n",
       "    }\n",
       "</style>\n",
       "<table border=\"1\" class=\"dataframe\">\n",
       "  <thead>\n",
       "    <tr style=\"text-align: right;\">\n",
       "      <th></th>\n",
       "      <th>mean</th>\n",
       "      <th>sd</th>\n",
       "      <th>hdi_5.5%</th>\n",
       "      <th>hdi_94.5%</th>\n",
       "    </tr>\n",
       "  </thead>\n",
       "  <tbody>\n",
       "    <tr>\n",
       "      <th>BetaM</th>\n",
       "      <td>-0.28</td>\n",
       "      <td>0.22</td>\n",
       "      <td>-0.64</td>\n",
       "      <td>0.06</td>\n",
       "    </tr>\n",
       "  </tbody>\n",
       "</table>\n",
       "</div>"
      ],
      "text/plain": [
       "       mean    sd  hdi_5.5%  hdi_94.5%\n",
       "BetaM -0.28  0.22     -0.64       0.06"
      ]
     },
     "execution_count": 13,
     "metadata": {},
     "output_type": "execute_result"
    }
   ],
   "source": [
    "az.summary(TraceEnergyGivenMass, var_names='BetaM', kind='stats', hdi_prob=1-ALPHA_LEVEL).round(2)"
   ]
  },
  {
   "cell_type": "markdown",
   "metadata": {},
   "source": [
    "### Model to predict energy given newcortex percentage and body mass"
   ]
  },
  {
   "cell_type": "code",
   "execution_count": 14,
   "metadata": {},
   "outputs": [
    {
     "name": "stderr",
     "output_type": "stream",
     "text": [
      "Auto-assigning NUTS sampler...\n",
      "Initializing NUTS using jitter+adapt_diag...\n",
      "Multiprocess sampling (4 chains in 4 jobs)\n",
      "NUTS: [Alpha, BetaM, BetaN, Sigma]\n"
     ]
    },
    {
     "data": {
      "text/html": [
       "\n",
       "<style>\n",
       "    /* Turns off some styling */\n",
       "    progress {\n",
       "        /* gets rid of default border in Firefox and Opera. */\n",
       "        border: none;\n",
       "        /* Needs to be in here for Safari polyfill so background images work as expected. */\n",
       "        background-size: auto;\n",
       "    }\n",
       "    progress:not([value]), progress:not([value])::-webkit-progress-bar {\n",
       "        background: repeating-linear-gradient(45deg, #7e7e7e, #7e7e7e 10px, #5c5c5c 10px, #5c5c5c 20px);\n",
       "    }\n",
       "    .progress-bar-interrupted, .progress-bar-interrupted::-webkit-progress-bar {\n",
       "        background: #F44336;\n",
       "    }\n",
       "</style>\n"
      ],
      "text/plain": [
       "<IPython.core.display.HTML object>"
      ]
     },
     "metadata": {},
     "output_type": "display_data"
    },
    {
     "data": {
      "text/html": [
       "\n",
       "    <div>\n",
       "      <progress value='8000' class='' max='8000' style='width:300px; height:20px; vertical-align: middle;'></progress>\n",
       "      100.00% [8000/8000 00:05&lt;00:00 Sampling 4 chains, 0 divergences]\n",
       "    </div>\n",
       "    "
      ],
      "text/plain": [
       "<IPython.core.display.HTML object>"
      ]
     },
     "metadata": {},
     "output_type": "display_data"
    },
    {
     "name": "stderr",
     "output_type": "stream",
     "text": [
      "Sampling 4 chains for 1_000 tune and 1_000 draw iterations (4_000 + 4_000 draws total) took 5 seconds.\n",
      "Sampling: [Energy]\n"
     ]
    },
    {
     "data": {
      "text/html": [
       "\n",
       "<style>\n",
       "    /* Turns off some styling */\n",
       "    progress {\n",
       "        /* gets rid of default border in Firefox and Opera. */\n",
       "        border: none;\n",
       "        /* Needs to be in here for Safari polyfill so background images work as expected. */\n",
       "        background-size: auto;\n",
       "    }\n",
       "    progress:not([value]), progress:not([value])::-webkit-progress-bar {\n",
       "        background: repeating-linear-gradient(45deg, #7e7e7e, #7e7e7e 10px, #5c5c5c 10px, #5c5c5c 20px);\n",
       "    }\n",
       "    .progress-bar-interrupted, .progress-bar-interrupted::-webkit-progress-bar {\n",
       "        background: #F44336;\n",
       "    }\n",
       "</style>\n"
      ],
      "text/plain": [
       "<IPython.core.display.HTML object>"
      ]
     },
     "metadata": {},
     "output_type": "display_data"
    },
    {
     "data": {
      "text/html": [
       "\n",
       "    <div>\n",
       "      <progress value='4000' class='' max='4000' style='width:300px; height:20px; vertical-align: middle;'></progress>\n",
       "      100.00% [4000/4000 00:00&lt;00:00]\n",
       "    </div>\n",
       "    "
      ],
      "text/plain": [
       "<IPython.core.display.HTML object>"
      ]
     },
     "metadata": {},
     "output_type": "display_data"
    }
   ],
   "source": [
    "with pm.Model() as ModelEnergyGivenNewcortexAndMass:\n",
    "    Alpha = pm.Normal('Alpha', mu=0, sigma=0.2)\n",
    "    BetaM = pm.Normal('BetaM', mu=0, sigma=0.5)\n",
    "    BetaN = pm.Normal('BetaN', mu=0, sigma=0.5)\n",
    "    Sigma = pm.Exponential('Sigma', lam=1)\n",
    "    Mu = pm.Deterministic('Mu', Alpha + BetaM * Dat['LogMassStandard'] + BetaN * Dat['NewcortexStandard'])\n",
    "\n",
    "    Energy = pm.Normal('Energy', mu=Mu, sigma=Sigma, observed=Dat['EnergyStandard'])\n",
    "\n",
    "    TraceEnergyGivenNewcortexAndMass = pm.sample()\n",
    "    TraceEnergyGivenNewcortexAndMass.extend(pm.sample_posterior_predictive(TraceEnergyGivenNewcortexAndMass))"
   ]
  },
  {
   "cell_type": "markdown",
   "metadata": {},
   "source": [
    "Direct effect of newcortex percentage and body mass on energy"
   ]
  },
  {
   "cell_type": "code",
   "execution_count": 15,
   "metadata": {},
   "outputs": [
    {
     "data": {
      "text/html": [
       "<div>\n",
       "<style scoped>\n",
       "    .dataframe tbody tr th:only-of-type {\n",
       "        vertical-align: middle;\n",
       "    }\n",
       "\n",
       "    .dataframe tbody tr th {\n",
       "        vertical-align: top;\n",
       "    }\n",
       "\n",
       "    .dataframe thead th {\n",
       "        text-align: right;\n",
       "    }\n",
       "</style>\n",
       "<table border=\"1\" class=\"dataframe\">\n",
       "  <thead>\n",
       "    <tr style=\"text-align: right;\">\n",
       "      <th></th>\n",
       "      <th>mean</th>\n",
       "      <th>sd</th>\n",
       "      <th>hdi_5.5%</th>\n",
       "      <th>hdi_94.5%</th>\n",
       "    </tr>\n",
       "  </thead>\n",
       "  <tbody>\n",
       "    <tr>\n",
       "      <th>BetaN</th>\n",
       "      <td>0.57</td>\n",
       "      <td>0.26</td>\n",
       "      <td>0.18</td>\n",
       "      <td>0.99</td>\n",
       "    </tr>\n",
       "    <tr>\n",
       "      <th>BetaM</th>\n",
       "      <td>-0.68</td>\n",
       "      <td>0.26</td>\n",
       "      <td>-1.09</td>\n",
       "      <td>-0.28</td>\n",
       "    </tr>\n",
       "  </tbody>\n",
       "</table>\n",
       "</div>"
      ],
      "text/plain": [
       "       mean    sd  hdi_5.5%  hdi_94.5%\n",
       "BetaN  0.57  0.26      0.18       0.99\n",
       "BetaM -0.68  0.26     -1.09      -0.28"
      ]
     },
     "execution_count": 15,
     "metadata": {},
     "output_type": "execute_result"
    }
   ],
   "source": [
    "az.summary(TraceEnergyGivenNewcortexAndMass, var_names=['BetaN', 'BetaM'], kind='stats', hdi_prob=1-ALPHA_LEVEL).round(2)"
   ]
  },
  {
   "cell_type": "code",
   "execution_count": 16,
   "metadata": {},
   "outputs": [
    {
     "data": {
      "image/png": "[encoded data removed]",
      "text/plain": [
       "<Figure size 700x500 with 1 Axes>"
      ]
     },
     "metadata": {},
     "output_type": "display_data"
    }
   ],
   "source": [
    "import arviz.labels as azl\n",
    "\n",
    "labeller = azl.MapLabeller(var_name_map = {\"BetaN\": r\"$\\beta_N$\", \"BetaM\": r\"$\\beta_M$\"})\n",
    "\n",
    "ax = az.plot_forest(\n",
    "    [TraceEnergyGivenNewcortex, TraceEnergyGivenMass, TraceEnergyGivenNewcortexAndMass]\n",
    "    , model_names = [\"Model 1\", \"Model 2\", \"Model 3\"]\n",
    "    , var_names=['BetaN', 'BetaM']\n",
    "    , combined=True\n",
    "    , figsize=(7,5)\n",
    "    , labeller=labeller\n",
    "    , legend=False\n",
    "    , hdi_prob=1-ALPHA_LEVEL\n",
    ")\n",
    "\n",
    "ax[0].set_title('')\n",
    "plt.axvline(0, color='r', linestyle='--')"
   ]
  },
  {
   "cell_type": "markdown",
   "metadata": {},
   "source": [
    "---"
   ]
  },
  {
   "cell_type": "markdown",
   "metadata": {},
   "source": [
    "### Posterior predictive plot"
   ]
  },
  {
   "cell_type": "code",
   "execution_count": 17,
   "metadata": {},
   "outputs": [],
   "source": [
    "EnergyPosteriorPredictive = az.summary(\n",
    "    TraceEnergyGivenNewcortexAndMass\n",
    "    , kind='stats'\n",
    "    , group='posterior_predictive'\n",
    "    , hdi_prob=1-ALPHA_LEVEL\n",
    ").reset_index(drop=True)"
   ]
  },
  {
   "cell_type": "code",
   "execution_count": 18,
   "metadata": {},
   "outputs": [],
   "source": [
    "Dat = pd.concat([Dat, EnergyPosteriorPredictive], axis=1)"
   ]
  },
  {
   "cell_type": "code",
   "execution_count": 19,
   "metadata": {},
   "outputs": [
    {
     "data": {
      "image/png": "[encoded data removed]",
      "text/plain": [
       "<Figure size 640x480 with 1 Axes>"
      ]
     },
     "metadata": {},
     "output_type": "display_data"
    }
   ],
   "source": [
    "sns.scatterplot(data=Dat, x='EnergyStandard', y='mean', color='k')\n",
    "\n",
    "for i in range(len(Dat)):\n",
    "    plt.plot(\n",
    "        [Dat.loc[i, 'EnergyStandard'], Dat.loc[i, 'EnergyStandard']]\n",
    "        , [Dat.loc[i, 'hdi_' + str((ALPHA_LEVEL / 2) * 100) + '%'], Dat.loc[i, 'hdi_' + str((1 - ALPHA_LEVEL / 2) * 100) + '%']]\n",
    "        , color='k'\n",
    "    )\n",
    "    \n",
    "plt.plot(\n",
    "    [Dat['EnergyStandard'].min(), Dat['EnergyStandard'].max()]\n",
    "    , [Dat['EnergyStandard'].min(), Dat['EnergyStandard'].max()]\n",
    "    , color='r'\n",
    "    , linestyle='--'\n",
    ")\n",
    "\n",
    "_ = plt.xlabel(\"Energy (kilocal per g)\")\n",
    "_ = plt.ylabel(\"Predicted energy (kilocal per g)\")\n",
    "_ = plt.yticks(np.arange(-3, 4), np.round(np.arange(-3, 4) * Dat['Energy'].std() + Dat['Energy'].mean()))\n",
    "_ = plt.xticks(\n",
    "    np.arange(Dat['EnergyStandard'].min(), Dat['EnergyStandard'].max())\n",
    "    , np.round(np.arange(Dat['EnergyStandard'].min(), Dat['EnergyStandard'].max()) * Dat['Energy'].std() + Dat['Energy'].mean())\n",
    ")"
   ]
  },
  {
   "cell_type": "markdown",
   "metadata": {},
   "source": [
    "---"
   ]
  },
  {
   "cell_type": "markdown",
   "metadata": {},
   "source": [
    "## Residual plots"
   ]
  },
  {
   "cell_type": "markdown",
   "metadata": {},
   "source": [
    "We calculate two more regression models $N\\rightarrow M$ and $M\\rightarrow N$."
   ]
  },
  {
   "cell_type": "markdown",
   "metadata": {},
   "source": [
    "### Model to predict mass given newcortex"
   ]
  },
  {
   "cell_type": "code",
   "execution_count": 20,
   "metadata": {},
   "outputs": [
    {
     "name": "stderr",
     "output_type": "stream",
     "text": [
      "Auto-assigning NUTS sampler...\n",
      "Initializing NUTS using jitter+adapt_diag...\n",
      "Multiprocess sampling (4 chains in 4 jobs)\n",
      "NUTS: [Alpha, Beta, Sigma]\n"
     ]
    },
    {
     "data": {
      "text/html": [
       "\n",
       "<style>\n",
       "    /* Turns off some styling */\n",
       "    progress {\n",
       "        /* gets rid of default border in Firefox and Opera. */\n",
       "        border: none;\n",
       "        /* Needs to be in here for Safari polyfill so background images work as expected. */\n",
       "        background-size: auto;\n",
       "    }\n",
       "    progress:not([value]), progress:not([value])::-webkit-progress-bar {\n",
       "        background: repeating-linear-gradient(45deg, #7e7e7e, #7e7e7e 10px, #5c5c5c 10px, #5c5c5c 20px);\n",
       "    }\n",
       "    .progress-bar-interrupted, .progress-bar-interrupted::-webkit-progress-bar {\n",
       "        background: #F44336;\n",
       "    }\n",
       "</style>\n"
      ],
      "text/plain": [
       "<IPython.core.display.HTML object>"
      ]
     },
     "metadata": {},
     "output_type": "display_data"
    },
    {
     "data": {
      "text/html": [
       "\n",
       "    <div>\n",
       "      <progress value='8000' class='' max='8000' style='width:300px; height:20px; vertical-align: middle;'></progress>\n",
       "      100.00% [8000/8000 00:03&lt;00:00 Sampling 4 chains, 0 divergences]\n",
       "    </div>\n",
       "    "
      ],
      "text/plain": [
       "<IPython.core.display.HTML object>"
      ]
     },
     "metadata": {},
     "output_type": "display_data"
    },
    {
     "name": "stderr",
     "output_type": "stream",
     "text": [
      "Sampling 4 chains for 1_000 tune and 1_000 draw iterations (4_000 + 4_000 draws total) took 3 seconds.\n",
      "Sampling: [LogMass]\n"
     ]
    },
    {
     "data": {
      "text/html": [
       "\n",
       "<style>\n",
       "    /* Turns off some styling */\n",
       "    progress {\n",
       "        /* gets rid of default border in Firefox and Opera. */\n",
       "        border: none;\n",
       "        /* Needs to be in here for Safari polyfill so background images work as expected. */\n",
       "        background-size: auto;\n",
       "    }\n",
       "    progress:not([value]), progress:not([value])::-webkit-progress-bar {\n",
       "        background: repeating-linear-gradient(45deg, #7e7e7e, #7e7e7e 10px, #5c5c5c 10px, #5c5c5c 20px);\n",
       "    }\n",
       "    .progress-bar-interrupted, .progress-bar-interrupted::-webkit-progress-bar {\n",
       "        background: #F44336;\n",
       "    }\n",
       "</style>\n"
      ],
      "text/plain": [
       "<IPython.core.display.HTML object>"
      ]
     },
     "metadata": {},
     "output_type": "display_data"
    },
    {
     "data": {
      "text/html": [
       "\n",
       "    <div>\n",
       "      <progress value='4000' class='' max='4000' style='width:300px; height:20px; vertical-align: middle;'></progress>\n",
       "      100.00% [4000/4000 00:00&lt;00:00]\n",
       "    </div>\n",
       "    "
      ],
      "text/plain": [
       "<IPython.core.display.HTML object>"
      ]
     },
     "metadata": {},
     "output_type": "display_data"
    }
   ],
   "source": [
    "with pm.Model() as ModelMassGivenNewcortex:\n",
    "    Alpha = pm.Normal('Alpha', mu=0, sigma=0.2)\n",
    "    Beta = pm.Normal('Beta', mu=0, sigma=0.5)\n",
    "    Sigma = pm.Exponential('Sigma', lam=1)\n",
    "    Mu = pm.Deterministic('Mu', Alpha + Beta * Dat['NewcortexStandard'])\n",
    "\n",
    "    LogMass = pm.Normal('LogMass', mu=Mu, sigma=Sigma, observed=Dat['LogMassStandard'])\n",
    "\n",
    "    TraceMassGivenNewcortex = pm.sample()\n",
    "    TraceMassGivenNewcortex.extend(pm.sample_posterior_predictive(TraceMassGivenNewcortex))"
   ]
  },
  {
   "cell_type": "code",
   "execution_count": 21,
   "metadata": {},
   "outputs": [
    {
     "data": {
      "text/html": [
       "<div>\n",
       "<style scoped>\n",
       "    .dataframe tbody tr th:only-of-type {\n",
       "        vertical-align: middle;\n",
       "    }\n",
       "\n",
       "    .dataframe tbody tr th {\n",
       "        vertical-align: top;\n",
       "    }\n",
       "\n",
       "    .dataframe thead th {\n",
       "        text-align: right;\n",
       "    }\n",
       "</style>\n",
       "<table border=\"1\" class=\"dataframe\">\n",
       "  <thead>\n",
       "    <tr style=\"text-align: right;\">\n",
       "      <th></th>\n",
       "      <th>mean</th>\n",
       "      <th>sd</th>\n",
       "      <th>hdi_5.5%</th>\n",
       "      <th>hdi_94.5%</th>\n",
       "    </tr>\n",
       "  </thead>\n",
       "  <tbody>\n",
       "    <tr>\n",
       "      <th>Beta</th>\n",
       "      <td>0.66</td>\n",
       "      <td>0.17</td>\n",
       "      <td>0.39</td>\n",
       "      <td>0.94</td>\n",
       "    </tr>\n",
       "  </tbody>\n",
       "</table>\n",
       "</div>"
      ],
      "text/plain": [
       "      mean    sd  hdi_5.5%  hdi_94.5%\n",
       "Beta  0.66  0.17      0.39       0.94"
      ]
     },
     "execution_count": 21,
     "metadata": {},
     "output_type": "execute_result"
    }
   ],
   "source": [
    "az.summary(TraceMassGivenNewcortex, var_names='Beta', kind='stats', hdi_prob=1-ALPHA_LEVEL).round(2)"
   ]
  },
  {
   "cell_type": "code",
   "execution_count": 22,
   "metadata": {},
   "outputs": [
    {
     "data": {
      "image/png": "[encoded data removed]",
      "text/plain": [
       "<Figure size 640x480 with 1 Axes>"
      ]
     },
     "metadata": {},
     "output_type": "display_data"
    }
   ],
   "source": [
    "Dat['LogMassStandardResiduals'] = Dat['LogMassStandard'] - TraceMassGivenNewcortex.posterior.Mu.mean(axis=(0,1))\n",
    "sns.regplot(Dat, x='LogMassStandardResiduals', y='Energy')\n",
    "\n",
    "_ = plt.xlabel(\"Log mass residuals\")\n",
    "_ = plt.ylabel(\"Energy\")"
   ]
  },
  {
   "cell_type": "markdown",
   "metadata": {},
   "source": [
    "### Model to predict newcortex given mass"
   ]
  },
  {
   "cell_type": "code",
   "execution_count": 23,
   "metadata": {},
   "outputs": [
    {
     "name": "stderr",
     "output_type": "stream",
     "text": [
      "Auto-assigning NUTS sampler...\n",
      "Initializing NUTS using jitter+adapt_diag...\n",
      "Multiprocess sampling (4 chains in 4 jobs)\n",
      "NUTS: [Alpha, Beta, Sigma]\n"
     ]
    },
    {
     "data": {
      "text/html": [
       "\n",
       "<style>\n",
       "    /* Turns off some styling */\n",
       "    progress {\n",
       "        /* gets rid of default border in Firefox and Opera. */\n",
       "        border: none;\n",
       "        /* Needs to be in here for Safari polyfill so background images work as expected. */\n",
       "        background-size: auto;\n",
       "    }\n",
       "    progress:not([value]), progress:not([value])::-webkit-progress-bar {\n",
       "        background: repeating-linear-gradient(45deg, #7e7e7e, #7e7e7e 10px, #5c5c5c 10px, #5c5c5c 20px);\n",
       "    }\n",
       "    .progress-bar-interrupted, .progress-bar-interrupted::-webkit-progress-bar {\n",
       "        background: #F44336;\n",
       "    }\n",
       "</style>\n"
      ],
      "text/plain": [
       "<IPython.core.display.HTML object>"
      ]
     },
     "metadata": {},
     "output_type": "display_data"
    },
    {
     "data": {
      "text/html": [
       "\n",
       "    <div>\n",
       "      <progress value='8000' class='' max='8000' style='width:300px; height:20px; vertical-align: middle;'></progress>\n",
       "      100.00% [8000/8000 00:03&lt;00:00 Sampling 4 chains, 0 divergences]\n",
       "    </div>\n",
       "    "
      ],
      "text/plain": [
       "<IPython.core.display.HTML object>"
      ]
     },
     "metadata": {},
     "output_type": "display_data"
    },
    {
     "name": "stderr",
     "output_type": "stream",
     "text": [
      "Sampling 4 chains for 1_000 tune and 1_000 draw iterations (4_000 + 4_000 draws total) took 3 seconds.\n",
      "Sampling: [Newcortex]\n"
     ]
    },
    {
     "data": {
      "text/html": [
       "\n",
       "<style>\n",
       "    /* Turns off some styling */\n",
       "    progress {\n",
       "        /* gets rid of default border in Firefox and Opera. */\n",
       "        border: none;\n",
       "        /* Needs to be in here for Safari polyfill so background images work as expected. */\n",
       "        background-size: auto;\n",
       "    }\n",
       "    progress:not([value]), progress:not([value])::-webkit-progress-bar {\n",
       "        background: repeating-linear-gradient(45deg, #7e7e7e, #7e7e7e 10px, #5c5c5c 10px, #5c5c5c 20px);\n",
       "    }\n",
       "    .progress-bar-interrupted, .progress-bar-interrupted::-webkit-progress-bar {\n",
       "        background: #F44336;\n",
       "    }\n",
       "</style>\n"
      ],
      "text/plain": [
       "<IPython.core.display.HTML object>"
      ]
     },
     "metadata": {},
     "output_type": "display_data"
    },
    {
     "data": {
      "text/html": [
       "\n",
       "    <div>\n",
       "      <progress value='4000' class='' max='4000' style='width:300px; height:20px; vertical-align: middle;'></progress>\n",
       "      100.00% [4000/4000 00:00&lt;00:00]\n",
       "    </div>\n",
       "    "
      ],
      "text/plain": [
       "<IPython.core.display.HTML object>"
      ]
     },
     "metadata": {},
     "output_type": "display_data"
    }
   ],
   "source": [
    "with pm.Model() as ModelNewcortexGivenMass:\n",
    "    Alpha = pm.Normal('Alpha', mu=0, sigma=0.2)\n",
    "    Beta = pm.Normal('Beta', mu=0, sigma=0.5)\n",
    "    Sigma = pm.Exponential('Sigma', lam=1)\n",
    "    Mu = pm.Deterministic('Mu', Alpha + Beta * Dat['LogMassStandard'])\n",
    "\n",
    "    Newcortex = pm.Normal('Newcortex', mu=Mu, sigma=Sigma, observed=Dat['NewcortexStandard'])\n",
    "\n",
    "    TraceNewcortexGivenMass = pm.sample()\n",
    "    TraceNewcortexGivenMass.extend(pm.sample_posterior_predictive(TraceNewcortexGivenMass))"
   ]
  },
  {
   "cell_type": "code",
   "execution_count": 24,
   "metadata": {},
   "outputs": [
    {
     "data": {
      "text/html": [
       "<div>\n",
       "<style scoped>\n",
       "    .dataframe tbody tr th:only-of-type {\n",
       "        vertical-align: middle;\n",
       "    }\n",
       "\n",
       "    .dataframe tbody tr th {\n",
       "        vertical-align: top;\n",
       "    }\n",
       "\n",
       "    .dataframe thead th {\n",
       "        text-align: right;\n",
       "    }\n",
       "</style>\n",
       "<table border=\"1\" class=\"dataframe\">\n",
       "  <thead>\n",
       "    <tr style=\"text-align: right;\">\n",
       "      <th></th>\n",
       "      <th>mean</th>\n",
       "      <th>sd</th>\n",
       "      <th>hdi_5.5%</th>\n",
       "      <th>hdi_94.5%</th>\n",
       "    </tr>\n",
       "  </thead>\n",
       "  <tbody>\n",
       "    <tr>\n",
       "      <th>Beta</th>\n",
       "      <td>0.66</td>\n",
       "      <td>0.18</td>\n",
       "      <td>0.39</td>\n",
       "      <td>0.94</td>\n",
       "    </tr>\n",
       "  </tbody>\n",
       "</table>\n",
       "</div>"
      ],
      "text/plain": [
       "      mean    sd  hdi_5.5%  hdi_94.5%\n",
       "Beta  0.66  0.18      0.39       0.94"
      ]
     },
     "execution_count": 24,
     "metadata": {},
     "output_type": "execute_result"
    }
   ],
   "source": [
    "az.summary(TraceNewcortexGivenMass, var_names='Beta', kind='stats', hdi_prob=1-ALPHA_LEVEL).round(2)"
   ]
  },
  {
   "cell_type": "code",
   "execution_count": 25,
   "metadata": {},
   "outputs": [
    {
     "data": {
      "image/png": "[encoded data removed]",
      "text/plain": [
       "<Figure size 640x480 with 1 Axes>"
      ]
     },
     "metadata": {},
     "output_type": "display_data"
    }
   ],
   "source": [
    "Dat['NewcortexResiduals'] = Dat['Newcortex'] - TraceNewcortexGivenMass.posterior.Mu.mean(axis=(0,1))\n",
    "sns.regplot(Dat, x='NewcortexResiduals', y='Energy')\n",
    "\n",
    "_ = plt.xlabel(\"Newcortex residuals\")\n",
    "_ = plt.ylabel(\"Energy\")"
   ]
  },
  {
   "cell_type": "markdown",
   "metadata": {},
   "source": [
    "---"
   ]
  },
  {
   "cell_type": "markdown",
   "metadata": {},
   "source": [
    "There are at least three DAGs consistent with this data."
   ]
  },
  {
   "cell_type": "code",
   "execution_count": 26,
   "metadata": {},
   "outputs": [
    {
     "data": {
      "image/svg+xml": [
       "<?xml version=\"1.0\" encoding=\"UTF-8\" standalone=\"no\"?>\n",
       "<!DOCTYPE svg PUBLIC \"-//W3C//DTD SVG 1.1//EN\"\n",
       " \"http://www.w3.org/Graphics/SVG/1.1/DTD/svg11.dtd\">\n",
       "<!-- Generated by graphviz version 8.1.0 (0)\n",
       " -->\n",
       "<!-- Pages: 1 -->\n",
       "<svg width=\"89pt\" height=\"188pt\"\n",
       " viewBox=\"0.00 0.00 89.00 188.00\" xmlns=\"http://www.w3.org/2000/svg\" xmlns:xlink=\"http://www.w3.org/1999/xlink\">\n",
       "<g id=\"graph0\" class=\"graph\" transform=\"scale(1 1) rotate(0) translate(4 184)\">\n",
       "<polygon fill=\"white\" stroke=\"none\" points=\"-4,4 -4,-184 85,-184 85,4 -4,4\"/>\n",
       "<!-- M -->\n",
       "<g id=\"node1\" class=\"node\">\n",
       "<title>M</title>\n",
       "<ellipse fill=\"none\" stroke=\"black\" cx=\"54\" cy=\"-162\" rx=\"27\" ry=\"18\"/>\n",
       "<text text-anchor=\"middle\" x=\"54\" y=\"-156.95\" font-family=\"Times,serif\" font-size=\"14.00\">M</text>\n",
       "</g>\n",
       "<!-- N -->\n",
       "<g id=\"node2\" class=\"node\">\n",
       "<title>N</title>\n",
       "<ellipse fill=\"none\" stroke=\"black\" cx=\"27\" cy=\"-90\" rx=\"27\" ry=\"18\"/>\n",
       "<text text-anchor=\"middle\" x=\"27\" y=\"-84.95\" font-family=\"Times,serif\" font-size=\"14.00\">N</text>\n",
       "</g>\n",
       "<!-- M&#45;&gt;N -->\n",
       "<g id=\"edge1\" class=\"edge\">\n",
       "<title>M&#45;&gt;N</title>\n",
       "<path fill=\"none\" stroke=\"black\" d=\"M47.46,-144.05C44.45,-136.23 40.79,-126.75 37.41,-117.98\"/>\n",
       "<polygon fill=\"black\" stroke=\"black\" points=\"40.34,-116.86 33.48,-108.79 33.81,-119.38 40.34,-116.86\"/>\n",
       "</g>\n",
       "<!-- E -->\n",
       "<g id=\"node3\" class=\"node\">\n",
       "<title>E</title>\n",
       "<ellipse fill=\"none\" stroke=\"black\" cx=\"54\" cy=\"-18\" rx=\"27\" ry=\"18\"/>\n",
       "<text text-anchor=\"middle\" x=\"54\" y=\"-12.95\" font-family=\"Times,serif\" font-size=\"14.00\">E</text>\n",
       "</g>\n",
       "<!-- M&#45;&gt;E -->\n",
       "<g id=\"edge2\" class=\"edge\">\n",
       "<title>M&#45;&gt;E</title>\n",
       "<path fill=\"none\" stroke=\"black\" d=\"M57.65,-143.91C59.68,-133.57 61.98,-120.09 63,-108 64.34,-92.06 64.34,-87.94 63,-72 62.31,-63.78 61.02,-54.92 59.63,-46.85\"/>\n",
       "<polygon fill=\"black\" stroke=\"black\" points=\"62.91,-46.29 57.65,-37.09 56.02,-47.56 62.91,-46.29\"/>\n",
       "</g>\n",
       "<!-- N&#45;&gt;E -->\n",
       "<g id=\"edge3\" class=\"edge\">\n",
       "<title>N&#45;&gt;E</title>\n",
       "<path fill=\"none\" stroke=\"black\" d=\"M33.54,-72.05C36.55,-64.23 40.21,-54.75 43.59,-45.98\"/>\n",
       "<polygon fill=\"black\" stroke=\"black\" points=\"47.19,-47.38 47.52,-36.79 40.66,-44.86 47.19,-47.38\"/>\n",
       "</g>\n",
       "</g>\n",
       "</svg>\n"
      ],
      "text/plain": [
       "<graphviz.graphs.Digraph at 0x7f4e82abff10>"
      ]
     },
     "execution_count": 26,
     "metadata": {},
     "output_type": "execute_result"
    }
   ],
   "source": [
    "Dag1 = CausalGraphicalModel(nodes=[\"M\", \"N\", \"E\"], edges=[(\"M\", \"N\"), (\"M\", \"E\"), (\"N\", \"E\")])\n",
    "Dag1.draw()"
   ]
  },
  {
   "cell_type": "code",
   "execution_count": 27,
   "metadata": {},
   "outputs": [
    {
     "data": {
      "image/svg+xml": [
       "<?xml version=\"1.0\" encoding=\"UTF-8\" standalone=\"no\"?>\n",
       "<!DOCTYPE svg PUBLIC \"-//W3C//DTD SVG 1.1//EN\"\n",
       " \"http://www.w3.org/Graphics/SVG/1.1/DTD/svg11.dtd\">\n",
       "<!-- Generated by graphviz version 8.1.0 (0)\n",
       " -->\n",
       "<!-- Pages: 1 -->\n",
       "<svg width=\"89pt\" height=\"188pt\"\n",
       " viewBox=\"0.00 0.00 89.00 188.00\" xmlns=\"http://www.w3.org/2000/svg\" xmlns:xlink=\"http://www.w3.org/1999/xlink\">\n",
       "<g id=\"graph0\" class=\"graph\" transform=\"scale(1 1) rotate(0) translate(4 184)\">\n",
       "<polygon fill=\"white\" stroke=\"none\" points=\"-4,4 -4,-184 85,-184 85,4 -4,4\"/>\n",
       "<!-- M -->\n",
       "<g id=\"node1\" class=\"node\">\n",
       "<title>M</title>\n",
       "<ellipse fill=\"none\" stroke=\"black\" cx=\"27\" cy=\"-90\" rx=\"27\" ry=\"18\"/>\n",
       "<text text-anchor=\"middle\" x=\"27\" y=\"-84.95\" font-family=\"Times,serif\" font-size=\"14.00\">M</text>\n",
       "</g>\n",
       "<!-- E -->\n",
       "<g id=\"node3\" class=\"node\">\n",
       "<title>E</title>\n",
       "<ellipse fill=\"none\" stroke=\"black\" cx=\"54\" cy=\"-18\" rx=\"27\" ry=\"18\"/>\n",
       "<text text-anchor=\"middle\" x=\"54\" y=\"-12.95\" font-family=\"Times,serif\" font-size=\"14.00\">E</text>\n",
       "</g>\n",
       "<!-- M&#45;&gt;E -->\n",
       "<g id=\"edge1\" class=\"edge\">\n",
       "<title>M&#45;&gt;E</title>\n",
       "<path fill=\"none\" stroke=\"black\" d=\"M33.54,-72.05C36.55,-64.23 40.21,-54.75 43.59,-45.98\"/>\n",
       "<polygon fill=\"black\" stroke=\"black\" points=\"47.19,-47.38 47.52,-36.79 40.66,-44.86 47.19,-47.38\"/>\n",
       "</g>\n",
       "<!-- N -->\n",
       "<g id=\"node2\" class=\"node\">\n",
       "<title>N</title>\n",
       "<ellipse fill=\"none\" stroke=\"black\" cx=\"54\" cy=\"-162\" rx=\"27\" ry=\"18\"/>\n",
       "<text text-anchor=\"middle\" x=\"54\" y=\"-156.95\" font-family=\"Times,serif\" font-size=\"14.00\">N</text>\n",
       "</g>\n",
       "<!-- N&#45;&gt;M -->\n",
       "<g id=\"edge2\" class=\"edge\">\n",
       "<title>N&#45;&gt;M</title>\n",
       "<path fill=\"none\" stroke=\"black\" d=\"M47.46,-144.05C44.45,-136.23 40.79,-126.75 37.41,-117.98\"/>\n",
       "<polygon fill=\"black\" stroke=\"black\" points=\"40.34,-116.86 33.48,-108.79 33.81,-119.38 40.34,-116.86\"/>\n",
       "</g>\n",
       "<!-- N&#45;&gt;E -->\n",
       "<g id=\"edge3\" class=\"edge\">\n",
       "<title>N&#45;&gt;E</title>\n",
       "<path fill=\"none\" stroke=\"black\" d=\"M57.65,-143.91C59.68,-133.57 61.98,-120.09 63,-108 64.34,-92.06 64.34,-87.94 63,-72 62.31,-63.78 61.02,-54.92 59.63,-46.85\"/>\n",
       "<polygon fill=\"black\" stroke=\"black\" points=\"62.91,-46.29 57.65,-37.09 56.02,-47.56 62.91,-46.29\"/>\n",
       "</g>\n",
       "</g>\n",
       "</svg>\n"
      ],
      "text/plain": [
       "<graphviz.graphs.Digraph at 0x7f4ea6eb0610>"
      ]
     },
     "execution_count": 27,
     "metadata": {},
     "output_type": "execute_result"
    }
   ],
   "source": [
    "Dag2 = CausalGraphicalModel(nodes=[\"M\", \"N\", \"E\"], edges=[(\"N\", \"M\"), (\"M\", \"E\"), (\"N\", \"E\")])\n",
    "Dag2.draw()"
   ]
  },
  {
   "cell_type": "code",
   "execution_count": 28,
   "metadata": {},
   "outputs": [
    {
     "data": {
      "image/svg+xml": [
       "<?xml version=\"1.0\" encoding=\"UTF-8\" standalone=\"no\"?>\n",
       "<!DOCTYPE svg PUBLIC \"-//W3C//DTD SVG 1.1//EN\"\n",
       " \"http://www.w3.org/Graphics/SVG/1.1/DTD/svg11.dtd\">\n",
       "<!-- Generated by graphviz version 8.1.0 (0)\n",
       " -->\n",
       "<!-- Pages: 1 -->\n",
       "<svg width=\"134pt\" height=\"156pt\"\n",
       " viewBox=\"0.00 0.00 134.00 155.60\" xmlns=\"http://www.w3.org/2000/svg\" xmlns:xlink=\"http://www.w3.org/1999/xlink\">\n",
       "<g id=\"graph0\" class=\"graph\" transform=\"scale(1 1) rotate(0) translate(4 151.6)\">\n",
       "<polygon fill=\"white\" stroke=\"none\" points=\"-4,4 -4,-151.6 130,-151.6 130,4 -4,4\"/>\n",
       "<!-- M -->\n",
       "<g id=\"node1\" class=\"node\">\n",
       "<title>M</title>\n",
       "<ellipse fill=\"none\" stroke=\"black\" cx=\"27\" cy=\"-90\" rx=\"27\" ry=\"18\"/>\n",
       "<text text-anchor=\"middle\" x=\"27\" y=\"-84.95\" font-family=\"Times,serif\" font-size=\"14.00\">M</text>\n",
       "</g>\n",
       "<!-- E -->\n",
       "<g id=\"node3\" class=\"node\">\n",
       "<title>E</title>\n",
       "<ellipse fill=\"none\" stroke=\"black\" cx=\"63\" cy=\"-18\" rx=\"27\" ry=\"18\"/>\n",
       "<text text-anchor=\"middle\" x=\"63\" y=\"-12.95\" font-family=\"Times,serif\" font-size=\"14.00\">E</text>\n",
       "</g>\n",
       "<!-- M&#45;&gt;E -->\n",
       "<g id=\"edge1\" class=\"edge\">\n",
       "<title>M&#45;&gt;E</title>\n",
       "<path fill=\"none\" stroke=\"black\" d=\"M35.35,-72.76C39.62,-64.46 44.92,-54.15 49.73,-44.79\"/>\n",
       "<polygon fill=\"black\" stroke=\"black\" points=\"53.23,-46.64 54.7,-36.15 47.01,-43.44 53.23,-46.64\"/>\n",
       "</g>\n",
       "<!-- N -->\n",
       "<g id=\"node2\" class=\"node\">\n",
       "<title>N</title>\n",
       "<ellipse fill=\"none\" stroke=\"black\" cx=\"99\" cy=\"-90\" rx=\"27\" ry=\"18\"/>\n",
       "<text text-anchor=\"middle\" x=\"99\" y=\"-84.95\" font-family=\"Times,serif\" font-size=\"14.00\">N</text>\n",
       "</g>\n",
       "<!-- N&#45;&gt;E -->\n",
       "<g id=\"edge2\" class=\"edge\">\n",
       "<title>N&#45;&gt;E</title>\n",
       "<path fill=\"none\" stroke=\"black\" d=\"M90.65,-72.76C86.38,-64.46 81.08,-54.15 76.27,-44.79\"/>\n",
       "<polygon fill=\"black\" stroke=\"black\" points=\"78.99,-43.44 71.3,-36.15 72.77,-46.64 78.99,-43.44\"/>\n",
       "</g>\n",
       "<!-- Unobserved_0 -->\n",
       "<g id=\"node4\" class=\"node\">\n",
       "<title>Unobserved_0</title>\n",
       "<ellipse fill=\"black\" stroke=\"black\" cx=\"63\" cy=\"-145.8\" rx=\"1.8\" ry=\"1.8\"/>\n",
       "</g>\n",
       "<!-- Unobserved_0&#45;&gt;M -->\n",
       "<g id=\"edge3\" class=\"edge\">\n",
       "<title>Unobserved_0&#45;&gt;M</title>\n",
       "<path fill=\"none\" stroke=\"black\" stroke-dasharray=\"5,2\" d=\"M62.38,-143.87C60.05,-140.4 51.65,-127.83 43.61,-115.82\"/>\n",
       "<polygon fill=\"black\" stroke=\"black\" points=\"46.11,-114.27 37.64,-107.91 40.3,-118.16 46.11,-114.27\"/>\n",
       "</g>\n",
       "<!-- Unobserved_0&#45;&gt;N -->\n",
       "<g id=\"edge4\" class=\"edge\">\n",
       "<title>Unobserved_0&#45;&gt;N</title>\n",
       "<path fill=\"none\" stroke=\"black\" stroke-dasharray=\"5,2\" d=\"M63.62,-143.87C65.95,-140.4 74.35,-127.83 82.39,-115.82\"/>\n",
       "<polygon fill=\"black\" stroke=\"black\" points=\"85.7,-118.16 88.36,-107.91 79.89,-114.27 85.7,-118.16\"/>\n",
       "</g>\n",
       "</g>\n",
       "</svg>\n"
      ],
      "text/plain": [
       "<graphviz.graphs.Digraph at 0x7f4e9ee02550>"
      ]
     },
     "execution_count": 28,
     "metadata": {},
     "output_type": "execute_result"
    }
   ],
   "source": [
    "Dag3 = CausalGraphicalModel(nodes=[\"M\", \"N\", \"E\"], edges=[(\"M\", \"E\"), (\"N\", \"E\")], latent_edges=[(\"M\", \"N\")])\n",
    "Dag3.draw()"
   ]
  },
  {
   "cell_type": "markdown",
   "metadata": {},
   "source": [
    "---"
   ]
  },
  {
   "cell_type": "markdown",
   "metadata": {},
   "source": [
    "### Counterfactual plots"
   ]
  },
  {
   "cell_type": "markdown",
   "metadata": {},
   "source": [
    "Suppose that the third graph is the right one"
   ]
  },
  {
   "cell_type": "markdown",
   "metadata": {},
   "source": [
    "We define the causal model"
   ]
  },
  {
   "cell_type": "code",
   "execution_count": 29,
   "metadata": {},
   "outputs": [
    {
     "name": "stderr",
     "output_type": "stream",
     "text": [
      "Auto-assigning NUTS sampler...\n",
      "Initializing NUTS using jitter+adapt_diag...\n",
      "Multiprocess sampling (4 chains in 4 jobs)\n",
      "NUTS: [Alpha, BetaM, BetaN, Sigma]\n"
     ]
    },
    {
     "data": {
      "text/html": [
       "\n",
       "<style>\n",
       "    /* Turns off some styling */\n",
       "    progress {\n",
       "        /* gets rid of default border in Firefox and Opera. */\n",
       "        border: none;\n",
       "        /* Needs to be in here for Safari polyfill so background images work as expected. */\n",
       "        background-size: auto;\n",
       "    }\n",
       "    progress:not([value]), progress:not([value])::-webkit-progress-bar {\n",
       "        background: repeating-linear-gradient(45deg, #7e7e7e, #7e7e7e 10px, #5c5c5c 10px, #5c5c5c 20px);\n",
       "    }\n",
       "    .progress-bar-interrupted, .progress-bar-interrupted::-webkit-progress-bar {\n",
       "        background: #F44336;\n",
       "    }\n",
       "</style>\n"
      ],
      "text/plain": [
       "<IPython.core.display.HTML object>"
      ]
     },
     "metadata": {},
     "output_type": "display_data"
    },
    {
     "data": {
      "text/html": [
       "\n",
       "    <div>\n",
       "      <progress value='8000' class='' max='8000' style='width:300px; height:20px; vertical-align: middle;'></progress>\n",
       "      100.00% [8000/8000 00:04&lt;00:00 Sampling 4 chains, 0 divergences]\n",
       "    </div>\n",
       "    "
      ],
      "text/plain": [
       "<IPython.core.display.HTML object>"
      ]
     },
     "metadata": {},
     "output_type": "display_data"
    },
    {
     "name": "stderr",
     "output_type": "stream",
     "text": [
      "Sampling 4 chains for 1_000 tune and 1_000 draw iterations (4_000 + 4_000 draws total) took 4 seconds.\n"
     ]
    }
   ],
   "source": [
    "with pm.Model() as ModelCausal:\n",
    "\n",
    "    NewcortexData = pm.MutableData('NewcortexData', Dat['NewcortexStandard'].to_numpy())\n",
    "    MassData = pm.MutableData('MassData', Dat['LogMassStandard'].to_numpy())\n",
    "\n",
    "    Alpha = pm.Normal('Alpha', mu=0, sigma=0.2)\n",
    "    BetaM = pm.Normal('BetaM', mu=0, sigma=0.5)\n",
    "    BetaN = pm.Normal('BetaN', mu=0, sigma=0.5)\n",
    "    Sigma = pm.Exponential('Sigma', lam=1)\n",
    "    Mu = pm.Deterministic('Mu', Alpha + BetaM * MassData + BetaN * NewcortexData)\n",
    "\n",
    "    Energy = pm.Normal('Energy', mu=Mu, sigma=Sigma, observed=Dat['EnergyStandard'])\n",
    "\n",
    "    TraceCausal = pm.sample()"
   ]
  },
  {
   "cell_type": "code",
   "execution_count": 30,
   "metadata": {},
   "outputs": [
    {
     "data": {
      "image/svg+xml": [
       "<?xml version=\"1.0\" encoding=\"UTF-8\" standalone=\"no\"?>\n",
       "<!DOCTYPE svg PUBLIC \"-//W3C//DTD SVG 1.1//EN\"\n",
       " \"http://www.w3.org/Graphics/SVG/1.1/DTD/svg11.dtd\">\n",
       "<!-- Generated by graphviz version 8.1.0 (0)\n",
       " -->\n",
       "<!-- Pages: 1 -->\n",
       "<svg width=\"530pt\" height=\"369pt\"\n",
       " viewBox=\"0.00 0.00 530.01 368.54\" xmlns=\"http://www.w3.org/2000/svg\" xmlns:xlink=\"http://www.w3.org/1999/xlink\">\n",
       "<g id=\"graph0\" class=\"graph\" transform=\"scale(1 1) rotate(0) translate(4 364.54)\">\n",
       "<polygon fill=\"white\" stroke=\"none\" points=\"-4,4 -4,-364.54 526.01,-364.54 526.01,4 -4,4\"/>\n",
       "<g id=\"clust1\" class=\"cluster\">\n",
       "<title>cluster17</title>\n",
       "<path fill=\"none\" stroke=\"black\" d=\"M20,-8C20,-8 218,-8 218,-8 224,-8 230,-14 230,-20 230,-20 230,-340.54 230,-340.54 230,-346.54 224,-352.54 218,-352.54 218,-352.54 20,-352.54 20,-352.54 14,-352.54 8,-346.54 8,-340.54 8,-340.54 8,-20 8,-20 8,-14 14,-8 20,-8\"/>\n",
       "<text text-anchor=\"middle\" x=\"215.25\" y=\"-15.2\" font-family=\"Times,serif\" font-size=\"14.00\">17</text>\n",
       "</g>\n",
       "<!-- NewcortexData -->\n",
       "<g id=\"node1\" class=\"node\">\n",
       "<title>NewcortexData</title>\n",
       "<path fill=\"lightgrey\" stroke=\"black\" d=\"M210.38,-344.54C210.38,-344.54 133.62,-344.54 133.62,-344.54 127.62,-344.54 121.62,-338.54 121.62,-332.54 121.62,-332.54 121.62,-299.04 121.62,-299.04 121.62,-293.04 127.62,-287.04 133.62,-287.04 133.62,-287.04 210.38,-287.04 210.38,-287.04 216.38,-287.04 222.38,-293.04 222.38,-299.04 222.38,-299.04 222.38,-332.54 222.38,-332.54 222.38,-338.54 216.38,-344.54 210.38,-344.54\"/>\n",
       "<text text-anchor=\"middle\" x=\"172\" y=\"-327.24\" font-family=\"Times,serif\" font-size=\"14.00\">NewcortexData</text>\n",
       "<text text-anchor=\"middle\" x=\"172\" y=\"-310.74\" font-family=\"Times,serif\" font-size=\"14.00\">~</text>\n",
       "<text text-anchor=\"middle\" x=\"172\" y=\"-294.24\" font-family=\"Times,serif\" font-size=\"14.00\">MutableData</text>\n",
       "</g>\n",
       "<!-- Mu -->\n",
       "<g id=\"node3\" class=\"node\">\n",
       "<title>Mu</title>\n",
       "<polygon fill=\"none\" stroke=\"black\" points=\"222.12,-227.23 131.88,-227.23 131.88,-169.73 222.12,-169.73 222.12,-227.23\"/>\n",
       "<text text-anchor=\"middle\" x=\"177\" y=\"-209.93\" font-family=\"Times,serif\" font-size=\"14.00\">Mu</text>\n",
       "<text text-anchor=\"middle\" x=\"177\" y=\"-193.43\" font-family=\"Times,serif\" font-size=\"14.00\">~</text>\n",
       "<text text-anchor=\"middle\" x=\"177\" y=\"-176.93\" font-family=\"Times,serif\" font-size=\"14.00\">Deterministic</text>\n",
       "</g>\n",
       "<!-- NewcortexData&#45;&gt;Mu -->\n",
       "<g id=\"edge1\" class=\"edge\">\n",
       "<title>NewcortexData&#45;&gt;Mu</title>\n",
       "<path fill=\"none\" stroke=\"black\" d=\"M173.22,-286.58C173.86,-271.96 174.64,-253.87 175.33,-237.98\"/>\n",
       "<polygon fill=\"black\" stroke=\"black\" points=\"178.85,-238.54 175.79,-228.39 171.86,-238.23 178.85,-238.54\"/>\n",
       "</g>\n",
       "<!-- MassData -->\n",
       "<g id=\"node2\" class=\"node\">\n",
       "<title>MassData</title>\n",
       "<path fill=\"lightgrey\" stroke=\"black\" d=\"M91.62,-344.54C91.62,-344.54 28.38,-344.54 28.38,-344.54 22.38,-344.54 16.38,-338.54 16.38,-332.54 16.38,-332.54 16.38,-299.04 16.38,-299.04 16.38,-293.04 22.38,-287.04 28.38,-287.04 28.38,-287.04 91.62,-287.04 91.62,-287.04 97.62,-287.04 103.62,-293.04 103.62,-299.04 103.62,-299.04 103.62,-332.54 103.62,-332.54 103.62,-338.54 97.62,-344.54 91.62,-344.54\"/>\n",
       "<text text-anchor=\"middle\" x=\"60\" y=\"-327.24\" font-family=\"Times,serif\" font-size=\"14.00\">MassData</text>\n",
       "<text text-anchor=\"middle\" x=\"60\" y=\"-310.74\" font-family=\"Times,serif\" font-size=\"14.00\">~</text>\n",
       "<text text-anchor=\"middle\" x=\"60\" y=\"-294.24\" font-family=\"Times,serif\" font-size=\"14.00\">MutableData</text>\n",
       "</g>\n",
       "<!-- MassData&#45;&gt;Mu -->\n",
       "<g id=\"edge5\" class=\"edge\">\n",
       "<title>MassData&#45;&gt;Mu</title>\n",
       "<path fill=\"none\" stroke=\"black\" d=\"M88.62,-286.58C104.46,-270.97 124.3,-251.42 141.16,-234.8\"/>\n",
       "<polygon fill=\"black\" stroke=\"black\" points=\"143.01,-237.91 147.67,-228.39 138.1,-232.92 143.01,-237.91\"/>\n",
       "</g>\n",
       "<!-- Energy -->\n",
       "<g id=\"node4\" class=\"node\">\n",
       "<title>Energy</title>\n",
       "<ellipse fill=\"lightgrey\" stroke=\"black\" cx=\"179\" cy=\"-81.16\" rx=\"41.01\" ry=\"40.66\"/>\n",
       "<text text-anchor=\"middle\" x=\"179\" y=\"-92.61\" font-family=\"Times,serif\" font-size=\"14.00\">Energy</text>\n",
       "<text text-anchor=\"middle\" x=\"179\" y=\"-76.11\" font-family=\"Times,serif\" font-size=\"14.00\">~</text>\n",
       "<text text-anchor=\"middle\" x=\"179\" y=\"-59.61\" font-family=\"Times,serif\" font-size=\"14.00\">Normal</text>\n",
       "</g>\n",
       "<!-- Mu&#45;&gt;Energy -->\n",
       "<g id=\"edge7\" class=\"edge\">\n",
       "<title>Mu&#45;&gt;Energy</title>\n",
       "<path fill=\"none\" stroke=\"black\" d=\"M177.49,-169.27C177.68,-158.33 177.9,-145.47 178.12,-133.03\"/>\n",
       "<polygon fill=\"black\" stroke=\"black\" points=\"181.63,-133.33 178.3,-123.27 174.63,-133.21 181.63,-133.33\"/>\n",
       "</g>\n",
       "<!-- Sigma -->\n",
       "<g id=\"node5\" class=\"node\">\n",
       "<title>Sigma</title>\n",
       "<ellipse fill=\"none\" stroke=\"black\" cx=\"298\" cy=\"-198.48\" rx=\"57.45\" ry=\"40.66\"/>\n",
       "<text text-anchor=\"middle\" x=\"298\" y=\"-209.93\" font-family=\"Times,serif\" font-size=\"14.00\">Sigma</text>\n",
       "<text text-anchor=\"middle\" x=\"298\" y=\"-193.43\" font-family=\"Times,serif\" font-size=\"14.00\">~</text>\n",
       "<text text-anchor=\"middle\" x=\"298\" y=\"-176.93\" font-family=\"Times,serif\" font-size=\"14.00\">Exponential</text>\n",
       "</g>\n",
       "<!-- Sigma&#45;&gt;Energy -->\n",
       "<g id=\"edge6\" class=\"edge\">\n",
       "<title>Sigma&#45;&gt;Energy</title>\n",
       "<path fill=\"none\" stroke=\"black\" d=\"M264.54,-165.05C249.43,-150.41 231.54,-133.07 216.03,-118.05\"/>\n",
       "<polygon fill=\"black\" stroke=\"black\" points=\"218.79,-115.87 209.17,-111.43 213.92,-120.9 218.79,-115.87\"/>\n",
       "</g>\n",
       "<!-- BetaM -->\n",
       "<g id=\"node6\" class=\"node\">\n",
       "<title>BetaM</title>\n",
       "<ellipse fill=\"none\" stroke=\"black\" cx=\"281\" cy=\"-315.79\" rx=\"41.01\" ry=\"40.66\"/>\n",
       "<text text-anchor=\"middle\" x=\"281\" y=\"-327.24\" font-family=\"Times,serif\" font-size=\"14.00\">BetaM</text>\n",
       "<text text-anchor=\"middle\" x=\"281\" y=\"-310.74\" font-family=\"Times,serif\" font-size=\"14.00\">~</text>\n",
       "<text text-anchor=\"middle\" x=\"281\" y=\"-294.24\" font-family=\"Times,serif\" font-size=\"14.00\">Normal</text>\n",
       "</g>\n",
       "<!-- BetaM&#45;&gt;Mu -->\n",
       "<g id=\"edge2\" class=\"edge\">\n",
       "<title>BetaM&#45;&gt;Mu</title>\n",
       "<path fill=\"none\" stroke=\"black\" d=\"M253.95,-284.8C240.31,-269.68 223.68,-251.24 209.38,-235.37\"/>\n",
       "<polygon fill=\"black\" stroke=\"black\" points=\"212.43,-233.43 203.13,-228.34 207.23,-238.11 212.43,-233.43\"/>\n",
       "</g>\n",
       "<!-- BetaN -->\n",
       "<g id=\"node7\" class=\"node\">\n",
       "<title>BetaN</title>\n",
       "<ellipse fill=\"none\" stroke=\"black\" cx=\"381\" cy=\"-315.79\" rx=\"41.01\" ry=\"40.66\"/>\n",
       "<text text-anchor=\"middle\" x=\"381\" y=\"-327.24\" font-family=\"Times,serif\" font-size=\"14.00\">BetaN</text>\n",
       "<text text-anchor=\"middle\" x=\"381\" y=\"-310.74\" font-family=\"Times,serif\" font-size=\"14.00\">~</text>\n",
       "<text text-anchor=\"middle\" x=\"381\" y=\"-294.24\" font-family=\"Times,serif\" font-size=\"14.00\">Normal</text>\n",
       "</g>\n",
       "<!-- BetaN&#45;&gt;Mu -->\n",
       "<g id=\"edge3\" class=\"edge\">\n",
       "<title>BetaN&#45;&gt;Mu</title>\n",
       "<path fill=\"none\" stroke=\"black\" d=\"M350.62,-288.2C344.38,-283.46 337.67,-278.86 331,-275.13 290.13,-252.29 273.38,-261.03 232,-239.13 228.73,-237.4 225.43,-235.5 222.16,-233.49\"/>\n",
       "<polygon fill=\"black\" stroke=\"black\" points=\"224.37,-230.1 214.07,-227.61 220.56,-235.98 224.37,-230.1\"/>\n",
       "</g>\n",
       "<!-- Alpha -->\n",
       "<g id=\"node8\" class=\"node\">\n",
       "<title>Alpha</title>\n",
       "<ellipse fill=\"none\" stroke=\"black\" cx=\"481\" cy=\"-315.79\" rx=\"41.01\" ry=\"40.66\"/>\n",
       "<text text-anchor=\"middle\" x=\"481\" y=\"-327.24\" font-family=\"Times,serif\" font-size=\"14.00\">Alpha</text>\n",
       "<text text-anchor=\"middle\" x=\"481\" y=\"-310.74\" font-family=\"Times,serif\" font-size=\"14.00\">~</text>\n",
       "<text text-anchor=\"middle\" x=\"481\" y=\"-294.24\" font-family=\"Times,serif\" font-size=\"14.00\">Normal</text>\n",
       "</g>\n",
       "<!-- Alpha&#45;&gt;Mu -->\n",
       "<g id=\"edge4\" class=\"edge\">\n",
       "<title>Alpha&#45;&gt;Mu</title>\n",
       "<path fill=\"none\" stroke=\"black\" d=\"M451.09,-287.27C444.81,-282.62 437.97,-278.29 431,-275.13 349.11,-238.09 314.72,-274.29 232,-239.13 228.09,-237.47 224.19,-235.49 220.37,-233.31\"/>\n",
       "<polygon fill=\"black\" stroke=\"black\" points=\"222.44,-229.86 212.1,-227.56 218.76,-235.81 222.44,-229.86\"/>\n",
       "</g>\n",
       "</g>\n",
       "</svg>\n"
      ],
      "text/plain": [
       "<graphviz.graphs.Digraph at 0x7f4e9f155250>"
      ]
     },
     "execution_count": 30,
     "metadata": {},
     "output_type": "execute_result"
    }
   ],
   "source": [
    "pm.model_to_graphviz(ModelCausal)"
   ]
  },
  {
   "cell_type": "code",
   "execution_count": 31,
   "metadata": {},
   "outputs": [
    {
     "data": {
      "text/plain": [
       "'CausalModelEnergy.png'"
      ]
     },
     "execution_count": 31,
     "metadata": {},
     "output_type": "execute_result"
    }
   ],
   "source": [
    "#pm.model_to_graphviz(ModelCausal).render(filename='CausalModelEnergy', format='png')"
   ]
  },
  {
   "cell_type": "markdown",
   "metadata": {},
   "source": [
    "Manipulating the body mass"
   ]
  },
  {
   "cell_type": "code",
   "execution_count": 32,
   "metadata": {},
   "outputs": [
    {
     "data": {
      "image/svg+xml": [
       "<?xml version=\"1.0\" encoding=\"UTF-8\" standalone=\"no\"?>\n",
       "<!DOCTYPE svg PUBLIC \"-//W3C//DTD SVG 1.1//EN\"\n",
       " \"http://www.w3.org/Graphics/SVG/1.1/DTD/svg11.dtd\">\n",
       "<!-- Generated by graphviz version 8.1.0 (0)\n",
       " -->\n",
       "<!-- Pages: 1 -->\n",
       "<svg width=\"142pt\" height=\"124pt\"\n",
       " viewBox=\"0.00 0.00 142.00 124.00\" xmlns=\"http://www.w3.org/2000/svg\" xmlns:xlink=\"http://www.w3.org/1999/xlink\">\n",
       "<g id=\"graph0\" class=\"graph\" transform=\"scale(1 1) rotate(0) translate(4 120)\">\n",
       "<polygon fill=\"white\" stroke=\"none\" points=\"-4,4 -4,-120 138,-120 138,4 -4,4\"/>\n",
       "<!-- M -->\n",
       "<g id=\"node1\" class=\"node\">\n",
       "<title>M</title>\n",
       "<ellipse fill=\"none\" stroke=\"black\" cx=\"31\" cy=\"-94\" rx=\"27\" ry=\"18\"/>\n",
       "<ellipse fill=\"none\" stroke=\"black\" cx=\"31\" cy=\"-94\" rx=\"31\" ry=\"22\"/>\n",
       "<text text-anchor=\"middle\" x=\"31\" y=\"-88.95\" font-family=\"Times,serif\" font-size=\"14.00\">M</text>\n",
       "</g>\n",
       "<!-- E -->\n",
       "<g id=\"node3\" class=\"node\">\n",
       "<title>E</title>\n",
       "<ellipse fill=\"none\" stroke=\"black\" cx=\"69\" cy=\"-18\" rx=\"27\" ry=\"18\"/>\n",
       "<text text-anchor=\"middle\" x=\"69\" y=\"-12.95\" font-family=\"Times,serif\" font-size=\"14.00\">E</text>\n",
       "</g>\n",
       "<!-- M&#45;&gt;E -->\n",
       "<g id=\"edge1\" class=\"edge\">\n",
       "<title>M&#45;&gt;E</title>\n",
       "<path fill=\"none\" stroke=\"black\" d=\"M41.38,-72.78C45.79,-64.2 50.98,-54.09 55.67,-44.97\"/>\n",
       "<polygon fill=\"black\" stroke=\"black\" points=\"59.22,-46.71 60.67,-36.22 52.99,-43.51 59.22,-46.71\"/>\n",
       "</g>\n",
       "<!-- N -->\n",
       "<g id=\"node2\" class=\"node\">\n",
       "<title>N</title>\n",
       "<ellipse fill=\"none\" stroke=\"black\" cx=\"107\" cy=\"-94\" rx=\"27\" ry=\"18\"/>\n",
       "<text text-anchor=\"middle\" x=\"107\" y=\"-88.95\" font-family=\"Times,serif\" font-size=\"14.00\">N</text>\n",
       "</g>\n",
       "<!-- N&#45;&gt;E -->\n",
       "<g id=\"edge2\" class=\"edge\">\n",
       "<title>N&#45;&gt;E</title>\n",
       "<path fill=\"none\" stroke=\"black\" d=\"M98.57,-76.58C93.79,-67.28 87.72,-55.45 82.32,-44.93\"/>\n",
       "<polygon fill=\"black\" stroke=\"black\" points=\"85.09,-43.67 77.41,-36.38 78.86,-46.87 85.09,-43.67\"/>\n",
       "</g>\n",
       "</g>\n",
       "</svg>\n"
      ],
      "text/plain": [
       "<graphviz.graphs.Digraph at 0x7f4e9f006ed0>"
      ]
     },
     "execution_count": 32,
     "metadata": {},
     "output_type": "execute_result"
    }
   ],
   "source": [
    "Dag3.do('M').draw()"
   ]
  },
  {
   "cell_type": "markdown",
   "metadata": {},
   "source": [
    "Manipulating the median age at marriage"
   ]
  },
  {
   "cell_type": "code",
   "execution_count": 33,
   "metadata": {},
   "outputs": [],
   "source": [
    "MassCounterfactual = np.linspace(Dat['LogMassStandard'].min(), Dat['LogMassStandard'].max(), len(Dat))\n",
    "NewcortexCounterfactual = np.zeros(len(Dat))"
   ]
  },
  {
   "cell_type": "code",
   "execution_count": 34,
   "metadata": {},
   "outputs": [
    {
     "name": "stderr",
     "output_type": "stream",
     "text": [
      "Sampling: [Energy]\n"
     ]
    },
    {
     "data": {
      "text/html": [
       "\n",
       "<style>\n",
       "    /* Turns off some styling */\n",
       "    progress {\n",
       "        /* gets rid of default border in Firefox and Opera. */\n",
       "        border: none;\n",
       "        /* Needs to be in here for Safari polyfill so background images work as expected. */\n",
       "        background-size: auto;\n",
       "    }\n",
       "    progress:not([value]), progress:not([value])::-webkit-progress-bar {\n",
       "        background: repeating-linear-gradient(45deg, #7e7e7e, #7e7e7e 10px, #5c5c5c 10px, #5c5c5c 20px);\n",
       "    }\n",
       "    .progress-bar-interrupted, .progress-bar-interrupted::-webkit-progress-bar {\n",
       "        background: #F44336;\n",
       "    }\n",
       "</style>\n"
      ],
      "text/plain": [
       "<IPython.core.display.HTML object>"
      ]
     },
     "metadata": {},
     "output_type": "display_data"
    },
    {
     "data": {
      "text/html": [
       "\n",
       "    <div>\n",
       "      <progress value='593' class='' max='4000' style='width:300px; height:20px; vertical-align: middle;'></progress>\n",
       "      14.82% [593/4000 00:00&lt;00:00]\n",
       "    </div>\n",
       "    "
      ],
      "text/plain": [
       "<IPython.core.display.HTML object>"
      ]
     },
     "metadata": {},
     "output_type": "display_data"
    }
   ],
   "source": [
    "with ModelCausal:\n",
    "    pm.set_data({'MassData': MassCounterfactual, 'NewcortexData': NewcortexCounterfactual})\n",
    "    Counterfactual = pm.sample_posterior_predictive(TraceCausal)"
   ]
  },
  {
   "cell_type": "code",
   "execution_count": 35,
   "metadata": {},
   "outputs": [
    {
     "data": {
      "image/png": "[encoded data removed]",
      "text/plain": [
       "<Figure size 640x480 with 1 Axes>"
      ]
     },
     "metadata": {},
     "output_type": "display_data"
    }
   ],
   "source": [
    "plt.plot(\n",
    "    MassCounterfactual\n",
    "    , Counterfactual.posterior_predictive.Energy.mean(('chain', 'draw'))\n",
    "    , label=\"Counterfactual posterior mean\"\n",
    "    , color='k'\n",
    ")\n",
    "\n",
    "az.plot_hdi(\n",
    "    MassCounterfactual\n",
    "    , Counterfactual.posterior_predictive.Energy\n",
    "    , hdi_prob=1-ALPHA_LEVEL\n",
    "    , color='rebeccapurple'\n",
    "    , fill_kwargs={'alpha': 0.5, 'label':\"Counterfactual credible interval\"}\n",
    ")\n",
    "\n",
    "plt.legend()\n",
    "_ = plt.yticks(np.arange(-3, 4), np.round(np.arange(-3, 4) * Dat['Energy'].std() + Dat['Energy'].mean(), 2))\n",
    "_ = plt.xticks(\n",
    "    np.arange(Dat['LogMassStandard'].min(), Dat['LogMassStandard'].max()),\n",
    "    np.round(\n",
    "        np.arange(Dat['LogMassStandard'].min(), Dat['LogMassStandard'].max()) * Dat['LogMass'].std() + Dat['LogMass'].mean()\n",
    "        , 2\n",
    "    )\n",
    ")\n",
    "_ = plt.xlabel(\"Manipulated log body mass\")\n",
    "_ = plt.ylabel(\"Counterfactual energy\")\n",
    "_ = plt.title(r\"Total counterfactual effect of $M$ over $E$, with $N=\\bar{N}$\")"
   ]
  },
  {
   "cell_type": "markdown",
   "metadata": {},
   "source": [
    "Manipulating the newcortex percentage"
   ]
  },
  {
   "cell_type": "code",
   "execution_count": 36,
   "metadata": {},
   "outputs": [
    {
     "data": {
      "image/svg+xml": [
       "<?xml version=\"1.0\" encoding=\"UTF-8\" standalone=\"no\"?>\n",
       "<!DOCTYPE svg PUBLIC \"-//W3C//DTD SVG 1.1//EN\"\n",
       " \"http://www.w3.org/Graphics/SVG/1.1/DTD/svg11.dtd\">\n",
       "<!-- Generated by graphviz version 8.1.0 (0)\n",
       " -->\n",
       "<!-- Pages: 1 -->\n",
       "<svg width=\"142pt\" height=\"124pt\"\n",
       " viewBox=\"0.00 0.00 142.00 124.00\" xmlns=\"http://www.w3.org/2000/svg\" xmlns:xlink=\"http://www.w3.org/1999/xlink\">\n",
       "<g id=\"graph0\" class=\"graph\" transform=\"scale(1 1) rotate(0) translate(4 120)\">\n",
       "<polygon fill=\"white\" stroke=\"none\" points=\"-4,4 -4,-120 138,-120 138,4 -4,4\"/>\n",
       "<!-- M -->\n",
       "<g id=\"node1\" class=\"node\">\n",
       "<title>M</title>\n",
       "<ellipse fill=\"none\" stroke=\"black\" cx=\"27\" cy=\"-94\" rx=\"27\" ry=\"18\"/>\n",
       "<text text-anchor=\"middle\" x=\"27\" y=\"-88.95\" font-family=\"Times,serif\" font-size=\"14.00\">M</text>\n",
       "</g>\n",
       "<!-- E -->\n",
       "<g id=\"node3\" class=\"node\">\n",
       "<title>E</title>\n",
       "<ellipse fill=\"none\" stroke=\"black\" cx=\"65\" cy=\"-18\" rx=\"27\" ry=\"18\"/>\n",
       "<text text-anchor=\"middle\" x=\"65\" y=\"-12.95\" font-family=\"Times,serif\" font-size=\"14.00\">E</text>\n",
       "</g>\n",
       "<!-- M&#45;&gt;E -->\n",
       "<g id=\"edge1\" class=\"edge\">\n",
       "<title>M&#45;&gt;E</title>\n",
       "<path fill=\"none\" stroke=\"black\" d=\"M35.43,-76.58C40.21,-67.28 46.28,-55.45 51.68,-44.93\"/>\n",
       "<polygon fill=\"black\" stroke=\"black\" points=\"55.14,-46.87 56.59,-36.38 48.91,-43.67 55.14,-46.87\"/>\n",
       "</g>\n",
       "<!-- N -->\n",
       "<g id=\"node2\" class=\"node\">\n",
       "<title>N</title>\n",
       "<ellipse fill=\"none\" stroke=\"black\" cx=\"103\" cy=\"-94\" rx=\"27\" ry=\"18\"/>\n",
       "<ellipse fill=\"none\" stroke=\"black\" cx=\"103\" cy=\"-94\" rx=\"31\" ry=\"22\"/>\n",
       "<text text-anchor=\"middle\" x=\"103\" y=\"-88.95\" font-family=\"Times,serif\" font-size=\"14.00\">N</text>\n",
       "</g>\n",
       "<!-- N&#45;&gt;E -->\n",
       "<g id=\"edge2\" class=\"edge\">\n",
       "<title>N&#45;&gt;E</title>\n",
       "<path fill=\"none\" stroke=\"black\" d=\"M92.62,-72.78C88.21,-64.2 83.02,-54.09 78.33,-44.97\"/>\n",
       "<polygon fill=\"black\" stroke=\"black\" points=\"81.01,-43.51 73.33,-36.22 74.78,-46.71 81.01,-43.51\"/>\n",
       "</g>\n",
       "</g>\n",
       "</svg>\n"
      ],
      "text/plain": [
       "<graphviz.graphs.Digraph at 0x7f4e9ef95890>"
      ]
     },
     "execution_count": 36,
     "metadata": {},
     "output_type": "execute_result"
    }
   ],
   "source": [
    "Dag3.do('N').draw()"
   ]
  },
  {
   "cell_type": "markdown",
   "metadata": {},
   "source": [
    "Manipulating the median age at marriage"
   ]
  },
  {
   "cell_type": "code",
   "execution_count": 37,
   "metadata": {},
   "outputs": [],
   "source": [
    "MassCounterfactual = np.zeros(len(Dat))\n",
    "NewcortexCounterfactual = np.linspace(Dat['NewcortexStandard'].min(), Dat['NewcortexStandard'].max(), len(Dat))"
   ]
  },
  {
   "cell_type": "code",
   "execution_count": 38,
   "metadata": {},
   "outputs": [
    {
     "name": "stderr",
     "output_type": "stream",
     "text": [
      "Sampling: [Energy]\n"
     ]
    },
    {
     "data": {
      "text/html": [
       "\n",
       "<style>\n",
       "    /* Turns off some styling */\n",
       "    progress {\n",
       "        /* gets rid of default border in Firefox and Opera. */\n",
       "        border: none;\n",
       "        /* Needs to be in here for Safari polyfill so background images work as expected. */\n",
       "        background-size: auto;\n",
       "    }\n",
       "    progress:not([value]), progress:not([value])::-webkit-progress-bar {\n",
       "        background: repeating-linear-gradient(45deg, #7e7e7e, #7e7e7e 10px, #5c5c5c 10px, #5c5c5c 20px);\n",
       "    }\n",
       "    .progress-bar-interrupted, .progress-bar-interrupted::-webkit-progress-bar {\n",
       "        background: #F44336;\n",
       "    }\n",
       "</style>\n"
      ],
      "text/plain": [
       "<IPython.core.display.HTML object>"
      ]
     },
     "metadata": {},
     "output_type": "display_data"
    },
    {
     "data": {
      "text/html": [
       "\n",
       "    <div>\n",
       "      <progress value='101' class='' max='4000' style='width:300px; height:20px; vertical-align: middle;'></progress>\n",
       "      2.52% [101/4000 00:00&lt;00:01]\n",
       "    </div>\n",
       "    "
      ],
      "text/plain": [
       "<IPython.core.display.HTML object>"
      ]
     },
     "metadata": {},
     "output_type": "display_data"
    }
   ],
   "source": [
    "with ModelCausal:\n",
    "    pm.set_data({'MassData': MassCounterfactual, 'NewcortexData': NewcortexCounterfactual})\n",
    "    Counterfactual = pm.sample_posterior_predictive(TraceCausal)"
   ]
  },
  {
   "cell_type": "code",
   "execution_count": 39,
   "metadata": {},
   "outputs": [
    {
     "data": {
      "image/png": "[encoded data removed]",
      "text/plain": [
       "<Figure size 640x480 with 1 Axes>"
      ]
     },
     "metadata": {},
     "output_type": "display_data"
    }
   ],
   "source": [
    "plt.plot(\n",
    "    NewcortexCounterfactual\n",
    "    , Counterfactual.posterior_predictive.Energy.mean(('chain', 'draw'))\n",
    "    , label=\"Counterfactual posterior mean\"\n",
    "    , color='k'\n",
    ")\n",
    "\n",
    "az.plot_hdi(\n",
    "    NewcortexCounterfactual\n",
    "    , Counterfactual.posterior_predictive.Energy\n",
    "    , hdi_prob=1-ALPHA_LEVEL\n",
    "    , color='rebeccapurple'\n",
    "    , fill_kwargs={'alpha': 0.5, 'label':\"Counterfactual credible interval\"}\n",
    ")\n",
    "\n",
    "plt.legend()\n",
    "_ = plt.yticks(np.arange(-3, 4), np.round(np.arange(-3, 4) * Dat['Energy'].std() + Dat['Energy'].mean(), 2))\n",
    "_ = plt.xticks(\n",
    "    np.arange(Dat['NewcortexStandard'].min(), Dat['NewcortexStandard'].max()),\n",
    "    np.round(\n",
    "        np.arange(Dat['NewcortexStandard'].min(), Dat['NewcortexStandard'].max()) * Dat['Newcortex'].std() + Dat['Newcortex'].mean()\n",
    "        , 2\n",
    "    )\n",
    ")\n",
    "_ = plt.xlabel(\"Manipulated newcortex percentage\")\n",
    "_ = plt.ylabel(\"Counterfactual energy\")\n",
    "_ = plt.title(r\"Total counterfactual effect of $N$ over $E$, with $M=\\bar{M}$\")"
   ]
  }
 ],
 "metadata": {
  "kernelspec": {
   "display_name": "Python 3",
   "language": "python",
   "name": "python3"
  },
  "language_info": {
   "codemirror_mode": {
    "name": "ipython",
    "version": 3
   },
   "file_extension": ".py",
   "mimetype": "text/x-python",
   "name": "python",
   "nbconvert_exporter": "python",
   "pygments_lexer": "ipython3",
   "version": "3.11.3"
  },
  "orig_nbformat": 4
 },
 "nbformat": 4,
 "nbformat_minor": 2
}
