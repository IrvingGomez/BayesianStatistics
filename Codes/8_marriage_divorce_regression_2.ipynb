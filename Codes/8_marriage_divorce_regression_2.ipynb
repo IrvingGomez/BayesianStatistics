{
 "cells": [
  {
   "cell_type": "code",
   "execution_count": 2,
   "id": "da91477e",
   "metadata": {},
   "outputs": [],
   "source": [
    "import numpy as np\n",
    "import pandas as pd\n",
    "\n",
    "import matplotlib.pyplot as plt\n",
    "import seaborn as sns\n",
    "\n",
    "import pymc3 as pm\n",
    "from scipy.stats import norm"
   ]
  },
  {
   "cell_type": "code",
   "execution_count": 3,
   "id": "646c0876",
   "metadata": {},
   "outputs": [],
   "source": [
    "dat = pd.read_csv('WaffleDivorce.csv', sep=';')"
   ]
  },
  {
   "cell_type": "code",
   "execution_count": 4,
   "id": "9c569d74",
   "metadata": {},
   "outputs": [],
   "source": [
    "age_std = (dat['MedianAgeMarriage']-dat['MedianAgeMarriage'].mean())/dat['MedianAgeMarriage'].std()\n",
    "div_std = (dat['Divorce']-dat['Divorce'].mean())/dat['Divorce'].std()\n",
    "mar_std = (dat['Marriage']-dat['Marriage'].mean())/dat['Marriage'].std()"
   ]
  },
  {
   "cell_type": "markdown",
   "id": "e8d73971",
   "metadata": {},
   "source": [
    "## Remember that the DAG model is given by $A \\rightarrow D \\leftarrow M$ and $A \\rightarrow M$"
   ]
  },
  {
   "cell_type": "code",
   "execution_count": 5,
   "id": "bdd8f5ba",
   "metadata": {},
   "outputs": [
    {
     "data": {
      "text/html": [
       "\n",
       "    <div>\n",
       "        <style>\n",
       "            /* Turns off some styling */\n",
       "            progress {\n",
       "                /* gets rid of default border in Firefox and Opera. */\n",
       "                border: none;\n",
       "                /* Needs to be in here for Safari polyfill so background images work as expected. */\n",
       "                background-size: auto;\n",
       "            }\n",
       "            .progress-bar-interrupted, .progress-bar-interrupted::-webkit-progress-bar {\n",
       "                background: #F44336;\n",
       "            }\n",
       "        </style>\n",
       "      <progress value='12' class='' max='12' style='width:300px; height:20px; vertical-align: middle;'></progress>\n",
       "      100.00% [12/12 00:00<00:00 logp = -113.87, ||grad|| = 0.0049854]\n",
       "    </div>\n",
       "    "
      ],
      "text/plain": [
       "<IPython.core.display.HTML object>"
      ]
     },
     "metadata": {},
     "output_type": "display_data"
    },
    {
     "name": "stdout",
     "output_type": "stream",
     "text": [
      "\n"
     ]
    }
   ],
   "source": [
    "with pm.Model() as model_divorce:\n",
    "    # A -> D <- M\n",
    "    alpha    = pm.Normal('alpha', mu=0, sd=0.2)\n",
    "    beta_M   = pm.Normal('beta_M', mu=0, sigma=0.5)\n",
    "    beta_A   = pm.Normal('beta_A', mu=0, sigma=0.5)\n",
    "    sigma    = pm.Exponential('sigma', lam=1)\n",
    "    divorce  = pm.Normal('divorce', mu=alpha + beta_M * mar_std + beta_A * age_std, sd=sigma, observed=div_std)\n",
    "    \n",
    "    # A -> M\n",
    "    alpha_M  = pm.Normal('alpha_M', mu=0, sd=0.2)\n",
    "    beta_AM  = pm.Normal('beta_AM', mu=0, sigma=0.5)\n",
    "    sigma_M  = pm.Exponential('sigma_M', lam=1)\n",
    "    marriage = pm.Normal('marriage', mu=alpha_M + beta_AM * age_std, sd=sigma_M, observed=mar_std)\n",
    "    \n",
    "    par_post = pm.find_MAP()\n",
    "    hessian  = pm.find_hessian(par_post, vars=[alpha, beta_M, beta_A, sigma, alpha_M, beta_AM, sigma_M])"
   ]
  },
  {
   "cell_type": "code",
   "execution_count": 6,
   "id": "66968007",
   "metadata": {},
   "outputs": [
    {
     "data": {
      "text/plain": [
       "{'alpha': array(1.54732302e-15),\n",
       " 'beta_M': array(-0.06537934),\n",
       " 'beta_A': array(-0.61351263),\n",
       " 'sigma_log__': array(-0.24192215),\n",
       " 'alpha_M': array(1.32997906e-15),\n",
       " 'beta_AM': array(-0.69473788),\n",
       " 'sigma_M_log__': array(-0.38311204),\n",
       " 'sigma': array(0.7851173),\n",
       " 'sigma_M': array(0.68173651)}"
      ]
     },
     "execution_count": 6,
     "metadata": {},
     "output_type": "execute_result"
    }
   ],
   "source": [
    "par_post"
   ]
  },
  {
   "cell_type": "code",
   "execution_count": 7,
   "id": "fb05d278",
   "metadata": {},
   "outputs": [],
   "source": [
    "st_dev = np.diag(np.linalg.inv(hessian))**0.5\n",
    "\n",
    "# A -> D <- M\n",
    "sample_alpha  = norm.rvs(size=10**4, loc=par_post['alpha'],  scale=st_dev[0])\n",
    "sample_beta_M = norm.rvs(size=10**4, loc=par_post['beta_M'], scale=st_dev[1])\n",
    "sample_beta_A = norm.rvs(size=10**4, loc=par_post['beta_A'], scale=st_dev[2])\n",
    "sample_sigma  = norm.rvs(size=10**4, loc=par_post['sigma'],  scale=st_dev[3])\n",
    "\n",
    "# A -> D\n",
    "sample_alpha_M = norm.rvs(size=10**4, loc=par_post['alpha_M'], scale=st_dev[4])\n",
    "sample_beta_AM = norm.rvs(size=10**4, loc=par_post['beta_AM'], scale=st_dev[5])\n",
    "sample_sigma_M = norm.rvs(size=10**4, loc=par_post['sigma_M'], scale=st_dev[6])"
   ]
  },
  {
   "cell_type": "code",
   "execution_count": 8,
   "id": "ff86de4f",
   "metadata": {},
   "outputs": [],
   "source": [
    "ConfidenceIntervals = pd.DataFrame(\n",
    "    np.quantile(sample_alpha + sample_beta_M * mar_std[0] + sample_beta_A * age_std[0], [0.025, 0.975]).reshape(1,2),\n",
    "    columns=['LCI', 'UCI'])"
   ]
  },
  {
   "cell_type": "code",
   "execution_count": 9,
   "id": "395bc6eb",
   "metadata": {},
   "outputs": [],
   "source": [
    "for i in range(1, len(mar_std)):\n",
    "    ConfidenceIntervals = pd.concat(\n",
    "        [ConfidenceIntervals,\n",
    "         pd.DataFrame(np.quantile(sample_alpha + sample_beta_M * mar_std[i] + sample_beta_A * age_std[i],\n",
    "                         [0.025, 0.975]).reshape(1,2), columns=['LCI', 'UCI'])])"
   ]
  },
  {
   "cell_type": "code",
   "execution_count": 10,
   "id": "2dfe5982",
   "metadata": {},
   "outputs": [],
   "source": [
    "ConfidenceIntervals = ConfidenceIntervals.reset_index(drop=True)\n",
    "ConfidenceIntervals['Obs_Divorce']  = div_std\n",
    "ConfidenceIntervals['Pred_Divorce'] = par_post['alpha'] + par_post['beta_M'] * mar_std + par_post['beta_A'] * age_std\n",
    "ConfidenceIntervals['Loc'] = dat['Loc']"
   ]
  },
  {
   "cell_type": "markdown",
   "id": "58bf3f06",
   "metadata": {},
   "source": [
    "## Posterior prediction plot"
   ]
  },
  {
   "cell_type": "code",
   "execution_count": 11,
   "id": "86fc9dbe",
   "metadata": {},
   "outputs": [
    {
     "data": {
      "image/png": "[encoded data removed]",
      "text/plain": [
       "<Figure size 432x288 with 1 Axes>"
      ]
     },
     "metadata": {
      "needs_background": "light"
     },
     "output_type": "display_data"
    }
   ],
   "source": [
    "sns.scatterplot(data=ConfidenceIntervals, x='Obs_Divorce', y='Pred_Divorce', color='k')\n",
    "\n",
    "for i in range(50):\n",
    "    plt.plot([ConfidenceIntervals['Obs_Divorce'][i], ConfidenceIntervals['Obs_Divorce'][i]],\n",
    "             [ConfidenceIntervals['LCI'][i], ConfidenceIntervals['UCI'][i]], color='k')\n",
    "    \n",
    "plt.plot([ConfidenceIntervals['Obs_Divorce'].min(), ConfidenceIntervals['Obs_Divorce'].max()],\n",
    "         [ConfidenceIntervals['Obs_Divorce'].min(), ConfidenceIntervals['Obs_Divorce'].max()],\n",
    "         color='r', linestyle='--')\n",
    "\n",
    "plt.savefig('prediction_plot.png', transparent=True)"
   ]
  },
  {
   "cell_type": "markdown",
   "id": "314ffc11",
   "metadata": {},
   "source": [
    "## Counterfactual plots"
   ]
  },
  {
   "cell_type": "markdown",
   "id": "b299f51a",
   "metadata": {},
   "source": [
    "### Manipulating A"
   ]
  },
  {
   "cell_type": "code",
   "execution_count": 12,
   "id": "bf91d781",
   "metadata": {},
   "outputs": [],
   "source": [
    "sample_A = np.linspace(-2, 2, 30)"
   ]
  },
  {
   "cell_type": "code",
   "execution_count": 13,
   "id": "fcc3c31f",
   "metadata": {},
   "outputs": [],
   "source": [
    "sample_M = norm.rvs(loc=sample_alpha_M + sample_beta_AM * sample_A[0], scale=sample_sigma_M)\n",
    "sample_D = norm.rvs(loc=sample_alpha + sample_beta_M * sample_M + sample_beta_A * sample_A[0], scale=sample_sigma)\n",
    "\n",
    "PredictionIntervals_Marriage = pd.DataFrame(\n",
    "    np.append(np.quantile(sample_M, [0.025, 0.975]), sample_M.mean()).reshape(1,3),\n",
    "              columns=['LPI', 'UPI', 'Counterfactual_M'])\n",
    "\n",
    "PredictionIntervals_Divorce = pd.DataFrame(\n",
    "    np.append(np.quantile(sample_D, [0.025, 0.975]), sample_D.mean()).reshape(1,3),\n",
    "              columns=['LPI', 'UPI', 'Counterfactual_D'])"
   ]
  },
  {
   "cell_type": "code",
   "execution_count": 14,
   "id": "a01e502d",
   "metadata": {},
   "outputs": [],
   "source": [
    "for i in range(1, len(sample_A)):\n",
    "    \n",
    "    sample_M = norm.rvs(loc=sample_alpha_M + sample_beta_AM * sample_A[i], scale=sample_sigma_M)\n",
    "    sample_D = norm.rvs(loc=sample_alpha + sample_beta_M * sample_M + sample_beta_A * sample_A[i], scale=sample_sigma)\n",
    "    \n",
    "    PredictionIntervals_Marriage = pd.concat(\n",
    "        [PredictionIntervals_Marriage,\n",
    "         pd.DataFrame(\n",
    "             np.append(np.quantile(sample_M, [0.025, 0.975]), sample_M.mean()).reshape(1,3),\n",
    "             columns=['LPI', 'UPI', 'Counterfactual_M'])\n",
    "        ])\n",
    "        \n",
    "    PredictionIntervals_Divorce = pd.concat(\n",
    "        [PredictionIntervals_Divorce,\n",
    "         pd.DataFrame(\n",
    "             np.append(np.quantile(sample_D, [0.025, 0.975]), sample_D.mean()).reshape(1,3),\n",
    "             columns=['LPI', 'UPI', 'Counterfactual_D'])\n",
    "        ])"
   ]
  },
  {
   "cell_type": "code",
   "execution_count": 15,
   "id": "d0480ad0",
   "metadata": {},
   "outputs": [],
   "source": [
    "PredictionIntervals_Marriage = PredictionIntervals_Marriage.reset_index(drop=True)\n",
    "PredictionIntervals_Marriage['Manipulated_A'] = sample_A\n",
    "\n",
    "PredictionIntervals_Divorce = PredictionIntervals_Divorce.reset_index(drop=True)\n",
    "PredictionIntervals_Divorce['Manipulated_A'] = sample_A"
   ]
  },
  {
   "cell_type": "code",
   "execution_count": 16,
   "id": "79205aa4",
   "metadata": {},
   "outputs": [
    {
     "data": {
      "image/png": "[encoded data removed]",
      "text/plain": [
       "<Figure size 432x288 with 1 Axes>"
      ]
     },
     "metadata": {
      "needs_background": "light"
     },
     "output_type": "display_data"
    }
   ],
   "source": [
    "plt.plot(PredictionIntervals_Divorce['Manipulated_A'], PredictionIntervals_Divorce['Counterfactual_D'], color='k')\n",
    "\n",
    "plt.fill_between(PredictionIntervals_Divorce['Manipulated_A'],\n",
    "                 PredictionIntervals_Divorce['LPI'],\n",
    "                 PredictionIntervals_Divorce['UPI'],\n",
    "                 facecolor='green', alpha=0.5)\n",
    "\n",
    "plt.savefig('count_D_mani_A.png', transparent=True)"
   ]
  },
  {
   "cell_type": "code",
   "execution_count": 17,
   "id": "621e7a3a",
   "metadata": {},
   "outputs": [
    {
     "data": {
      "image/png": "[encoded data removed]",
      "text/plain": [
       "<Figure size 432x288 with 1 Axes>"
      ]
     },
     "metadata": {
      "needs_background": "light"
     },
     "output_type": "display_data"
    }
   ],
   "source": [
    "plt.plot(PredictionIntervals_Marriage['Manipulated_A'], PredictionIntervals_Marriage['Counterfactual_M'], color='k')\n",
    "\n",
    "plt.fill_between(PredictionIntervals_Marriage['Manipulated_A'],\n",
    "                 PredictionIntervals_Marriage['LPI'],\n",
    "                 PredictionIntervals_Marriage['UPI'],\n",
    "                 facecolor='green', alpha=0.5)\n",
    "\n",
    "plt.savefig('count_M_mani_A.png', transparent=True)"
   ]
  },
  {
   "cell_type": "markdown",
   "id": "7f93598a",
   "metadata": {},
   "source": [
    "### Manipulating M"
   ]
  },
  {
   "cell_type": "code",
   "execution_count": 18,
   "id": "d8cd46b0",
   "metadata": {},
   "outputs": [],
   "source": [
    "sample_M = np.linspace(-2, 2, 30)\n",
    "fix_A    = 0"
   ]
  },
  {
   "cell_type": "code",
   "execution_count": 19,
   "id": "9d9e6f92",
   "metadata": {},
   "outputs": [],
   "source": [
    "sample_D = norm.rvs(loc=sample_alpha + sample_beta_M * sample_M[0] + sample_beta_A * fix_A, scale=sample_sigma)\n",
    "\n",
    "PredictionIntervals_Divorce = pd.DataFrame(\n",
    "    np.append(np.quantile(sample_D, [0.025, 0.975]), sample_D.mean()).reshape(1,3),\n",
    "              columns=['LPI', 'UPI', 'Counterfactual_D'])"
   ]
  },
  {
   "cell_type": "code",
   "execution_count": 20,
   "id": "7b34935a",
   "metadata": {},
   "outputs": [],
   "source": [
    "for i in range(1, len(sample_A)):\n",
    "    \n",
    "    sample_D = norm.rvs(loc=sample_alpha + sample_beta_M * sample_M[i] + sample_beta_A * fix_A, scale=sample_sigma)\n",
    "        \n",
    "    PredictionIntervals_Divorce = pd.concat(\n",
    "        [PredictionIntervals_Divorce,\n",
    "         pd.DataFrame(\n",
    "             np.append(np.quantile(sample_D, [0.025, 0.975]), sample_D.mean()).reshape(1,3),\n",
    "             columns=['LPI', 'UPI', 'Counterfactual_D'])\n",
    "        ])"
   ]
  },
  {
   "cell_type": "code",
   "execution_count": 21,
   "id": "7bbd1f62",
   "metadata": {},
   "outputs": [],
   "source": [
    "PredictionIntervals_Divorce = PredictionIntervals_Divorce.reset_index(drop=True)\n",
    "PredictionIntervals_Divorce['Manipulated_M'] = sample_M"
   ]
  },
  {
   "cell_type": "code",
   "execution_count": 22,
   "id": "0c924c25",
   "metadata": {},
   "outputs": [
    {
     "data": {
      "image/png": "[encoded data removed]",
      "text/plain": [
       "<Figure size 432x288 with 1 Axes>"
      ]
     },
     "metadata": {
      "needs_background": "light"
     },
     "output_type": "display_data"
    }
   ],
   "source": [
    "plt.plot(PredictionIntervals_Divorce['Manipulated_M'], PredictionIntervals_Divorce['Counterfactual_D'], color='k')\n",
    "\n",
    "plt.fill_between(PredictionIntervals_Divorce['Manipulated_M'],\n",
    "                 PredictionIntervals_Divorce['LPI'],\n",
    "                 PredictionIntervals_Divorce['UPI'],\n",
    "                 facecolor='green', alpha=0.5)\n",
    "\n",
    "plt.savefig('count_D_mani_M.png', transparent=True)"
   ]
  },
  {
   "cell_type": "code",
   "execution_count": null,
   "id": "67d778fc",
   "metadata": {},
   "outputs": [],
   "source": []
  }
 ],
 "metadata": {
  "kernelspec": {
   "display_name": "Python 3 (ipykernel)",
   "language": "python",
   "name": "python3"
  },
  "language_info": {
   "codemirror_mode": {
    "name": "ipython",
    "version": 3
   },
   "file_extension": ".py",
   "mimetype": "text/x-python",
   "name": "python",
   "nbconvert_exporter": "python",
   "pygments_lexer": "ipython3",
   "version": "3.10.1"
  }
 },
 "nbformat": 4,
 "nbformat_minor": 5
}
