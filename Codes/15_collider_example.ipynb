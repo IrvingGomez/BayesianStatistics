{
 "cells": [
  {
   "cell_type": "code",
   "execution_count": 1,
   "id": "6be7e66d",
   "metadata": {},
   "outputs": [],
   "source": [
    "import pandas as pd\n",
    "import numpy as np\n",
    "import seaborn as sns\n",
    "from scipy.stats import norm"
   ]
  },
  {
   "cell_type": "code",
   "execution_count": 2,
   "id": "adf7b843",
   "metadata": {},
   "outputs": [],
   "source": [
    "N = 200\n",
    "p = 0.1\n",
    "\n",
    "nw = norm.rvs(size=N)\n",
    "tw = norm.rvs(size=N)\n",
    "\n",
    "s = nw + tw\n",
    "q = np.quantile(s, 1-p)"
   ]
  },
  {
   "cell_type": "code",
   "execution_count": 3,
   "id": "f43255b7",
   "metadata": {},
   "outputs": [],
   "source": [
    "dat = pd.DataFrame(np.array([nw, tw, (s>=q)]).T, columns=['new', 'trust', 'selected'])"
   ]
  },
  {
   "cell_type": "code",
   "execution_count": 4,
   "id": "4d000a94",
   "metadata": {},
   "outputs": [
    {
     "data": {
      "text/plain": [
       "<AxesSubplot:xlabel='new', ylabel='trust'>"
      ]
     },
     "execution_count": 4,
     "metadata": {},
     "output_type": "execute_result"
    },
    {
     "data": {
      "image/png": "[encoded data removed]",
      "text/plain": [
       "<Figure size 432x288 with 1 Axes>"
      ]
     },
     "metadata": {
      "needs_background": "light"
     },
     "output_type": "display_data"
    }
   ],
   "source": [
    "sns.regplot(data=dat[dat['selected']==1], x='new', y='trust', color='orange')\n",
    "sns.scatterplot(data=dat[dat['selected']==0], x='new', y='trust')"
   ]
  },
  {
   "cell_type": "code",
   "execution_count": 5,
   "id": "e12ca66c",
   "metadata": {},
   "outputs": [
    {
     "data": {
      "text/html": [
       "<div>\n",
       "<style scoped>\n",
       "    .dataframe tbody tr th:only-of-type {\n",
       "        vertical-align: middle;\n",
       "    }\n",
       "\n",
       "    .dataframe tbody tr th {\n",
       "        vertical-align: top;\n",
       "    }\n",
       "\n",
       "    .dataframe thead th {\n",
       "        text-align: right;\n",
       "    }\n",
       "</style>\n",
       "<table border=\"1\" class=\"dataframe\">\n",
       "  <thead>\n",
       "    <tr style=\"text-align: right;\">\n",
       "      <th></th>\n",
       "      <th>new</th>\n",
       "      <th>trust</th>\n",
       "    </tr>\n",
       "  </thead>\n",
       "  <tbody>\n",
       "    <tr>\n",
       "      <th>new</th>\n",
       "      <td>1.000000</td>\n",
       "      <td>-0.652328</td>\n",
       "    </tr>\n",
       "    <tr>\n",
       "      <th>trust</th>\n",
       "      <td>-0.652328</td>\n",
       "      <td>1.000000</td>\n",
       "    </tr>\n",
       "  </tbody>\n",
       "</table>\n",
       "</div>"
      ],
      "text/plain": [
       "            new     trust\n",
       "new    1.000000 -0.652328\n",
       "trust -0.652328  1.000000"
      ]
     },
     "execution_count": 5,
     "metadata": {},
     "output_type": "execute_result"
    }
   ],
   "source": [
    "dat.loc[dat['selected']==1, ['new', 'trust']].corr()"
   ]
  },
  {
   "cell_type": "code",
   "execution_count": null,
   "id": "32a2b812",
   "metadata": {},
   "outputs": [],
   "source": []
  }
 ],
 "metadata": {
  "kernelspec": {
   "display_name": "Python 3 (ipykernel)",
   "language": "python",
   "name": "python3"
  },
  "language_info": {
   "codemirror_mode": {
    "name": "ipython",
    "version": 3
   },
   "file_extension": ".py",
   "mimetype": "text/x-python",
   "name": "python",
   "nbconvert_exporter": "python",
   "pygments_lexer": "ipython3",
   "version": "3.9.9"
  }
 },
 "nbformat": 4,
 "nbformat_minor": 5
}
