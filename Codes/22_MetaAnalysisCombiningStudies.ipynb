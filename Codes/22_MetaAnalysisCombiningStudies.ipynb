{
 "cells": [
  {
   "attachments": {},
   "cell_type": "markdown",
   "metadata": {},
   "source": [
    "#  Hierarchical modeling applied to a meta-analysis"
   ]
  },
  {
   "cell_type": "code",
   "execution_count": 1,
   "metadata": {},
   "outputs": [],
   "source": [
    "import pandas as pd\n",
    "import numpy as np\n",
    "\n",
    "import pymc as pm\n",
    "import arviz as az\n",
    "\n",
    "from scipy.stats import norm\n",
    "\n",
    "import matplotlib.pyplot as plt"
   ]
  },
  {
   "cell_type": "code",
   "execution_count": 2,
   "metadata": {},
   "outputs": [],
   "source": [
    "Dat = pd.read_csv(\"Data/MetanalysisCombiningStudies.csv\", sep=\";\")"
   ]
  },
  {
   "cell_type": "code",
   "execution_count": 3,
   "metadata": {},
   "outputs": [
    {
     "data": {
      "text/html": [
       "<div>\n",
       "<style scoped>\n",
       "    .dataframe tbody tr th:only-of-type {\n",
       "        vertical-align: middle;\n",
       "    }\n",
       "\n",
       "    .dataframe tbody tr th {\n",
       "        vertical-align: top;\n",
       "    }\n",
       "\n",
       "    .dataframe thead th {\n",
       "        text-align: right;\n",
       "    }\n",
       "</style>\n",
       "<table border=\"1\" class=\"dataframe\">\n",
       "  <thead>\n",
       "    <tr style=\"text-align: right;\">\n",
       "      <th></th>\n",
       "      <th>Study</th>\n",
       "      <th>ControlDeaths</th>\n",
       "      <th>ControlTotal</th>\n",
       "      <th>TreatedDeaths</th>\n",
       "      <th>TreatedTotal</th>\n",
       "    </tr>\n",
       "  </thead>\n",
       "  <tbody>\n",
       "    <tr>\n",
       "      <th>0</th>\n",
       "      <td>1</td>\n",
       "      <td>3</td>\n",
       "      <td>39</td>\n",
       "      <td>3</td>\n",
       "      <td>38</td>\n",
       "    </tr>\n",
       "    <tr>\n",
       "      <th>1</th>\n",
       "      <td>2</td>\n",
       "      <td>14</td>\n",
       "      <td>116</td>\n",
       "      <td>7</td>\n",
       "      <td>114</td>\n",
       "    </tr>\n",
       "    <tr>\n",
       "      <th>2</th>\n",
       "      <td>3</td>\n",
       "      <td>11</td>\n",
       "      <td>93</td>\n",
       "      <td>5</td>\n",
       "      <td>69</td>\n",
       "    </tr>\n",
       "    <tr>\n",
       "      <th>3</th>\n",
       "      <td>4</td>\n",
       "      <td>127</td>\n",
       "      <td>1520</td>\n",
       "      <td>102</td>\n",
       "      <td>1533</td>\n",
       "    </tr>\n",
       "    <tr>\n",
       "      <th>4</th>\n",
       "      <td>5</td>\n",
       "      <td>27</td>\n",
       "      <td>365</td>\n",
       "      <td>28</td>\n",
       "      <td>355</td>\n",
       "    </tr>\n",
       "  </tbody>\n",
       "</table>\n",
       "</div>"
      ],
      "text/plain": [
       "   Study  ControlDeaths  ControlTotal  TreatedDeaths  TreatedTotal\n",
       "0      1              3            39              3            38\n",
       "1      2             14           116              7           114\n",
       "2      3             11            93              5            69\n",
       "3      4            127          1520            102          1533\n",
       "4      5             27           365             28           355"
      ]
     },
     "execution_count": 3,
     "metadata": {},
     "output_type": "execute_result"
    }
   ],
   "source": [
    "Dat.head()"
   ]
  },
  {
   "attachments": {},
   "cell_type": "markdown",
   "metadata": {},
   "source": [
    "Meta-analysis is a process of summarizing and integrating the findings of research studies in a particular area.\n",
    "\n",
    "The data in the example summarize mortality after myocardial infarction in 22 clinical trials, each consisting of\n",
    "two groups of heart attack patients randomly allocated to receive or not receive beta-blockers (a family of drugs that affect the central nervous system and can relax the heart muscles). The aim of a meta-analysis is to provide a combined analysis of the studies that indicates the overall strength of the evidence for a beneficial effect of the treatment under study."
   ]
  },
  {
   "attachments": {},
   "cell_type": "markdown",
   "metadata": {},
   "source": [
    "If clinical trial $j$ involves the use of $n_{0j}$ subjects in the control group and $n_{1j}$ in the treatment group, giving rise to $y_{0j}$ and $y_{1j}$ deaths in control and treatment groups, respectively, then the usual sampling model involves two independent binomial distributions with probabilities $p_{0j}$ and $p_{1j}$, respectively. Estimands of interest include the odds ratio $$\\rho_j=\\frac{\\frac{p_{1j}}{1-p_{1j}}}{\\frac{p_{0j}}{1-p_{0j}}}.$$ However, for a number of reasons, including interpretability and the fact that its posterior distribution is close to normality, we concentrate on inference for the logarithm of the odds ratio, which we label $\\theta_j=\\log\\rho_j$."
   ]
  },
  {
   "attachments": {},
   "cell_type": "markdown",
   "metadata": {},
   "source": [
    "We calculate the logarithms of the odds: $$y_j=\\log\\left(\\frac{y_{1j}}{n_{1j}-y_{1j}}\\right)-\\log\\left(\\frac{y_{0j}}{n_{0j}-y_{0j}}\\right),$$ with approximate variance $$\\sigma_j^2=\\frac{1}{y_{1j}}+\\frac{1}{n_{1j}-y_{1j}}+\\frac{1}{y_{0j}}+\\frac{1}{n_{0j}-y_{0j}}$$"
   ]
  },
  {
   "cell_type": "code",
   "execution_count": 4,
   "metadata": {},
   "outputs": [],
   "source": [
    "log_odds = np.log(Dat[\"TreatedDeaths\"]/(Dat[\"TreatedTotal\"] - Dat[\"TreatedDeaths\"])) - \\\n",
    "    np.log(Dat[\"ControlDeaths\"]/(Dat[\"ControlTotal\"] - Dat[\"ControlDeaths\"]))\n",
    "\n",
    "sigma_2 = 1/Dat[\"TreatedDeaths\"] + 1/(Dat[\"TreatedTotal\"]-Dat[\"TreatedDeaths\"]) + \\\n",
    "    1/Dat[\"ControlDeaths\"] + 1/(Dat[\"ControlTotal\"]-Dat[\"ControlDeaths\"])\n",
    "\n",
    "sigma = np.sqrt(sigma_2)"
   ]
  },
  {
   "attachments": {},
   "cell_type": "markdown",
   "metadata": {},
   "source": [
    "We model $$y_j|\\theta_j,\\sigma_j\\sim\\textsf{Normal}(\\theta_j,\\sigma_j^2),$$ $$\\theta_j\\sim\\textsf{Normal}(\\mu,\\tau^2),$$ $$p(\\mu)\\propto 1,$$ $$p(\\tau)\\propto 1.$$"
   ]
  },
  {
   "cell_type": "code",
   "execution_count": 5,
   "metadata": {},
   "outputs": [
    {
     "name": "stderr",
     "output_type": "stream",
     "text": [
      "Auto-assigning NUTS sampler...\n",
      "Initializing NUTS using jitter+adapt_diag...\n",
      "Multiprocess sampling (4 chains in 4 jobs)\n",
      "NUTS: [mu, tau, theta]\n"
     ]
    },
    {
     "data": {
      "text/html": [
       "\n",
       "<style>\n",
       "    /* Turns off some styling */\n",
       "    progress {\n",
       "        /* gets rid of default border in Firefox and Opera. */\n",
       "        border: none;\n",
       "        /* Needs to be in here for Safari polyfill so background images work as expected. */\n",
       "        background-size: auto;\n",
       "    }\n",
       "    progress:not([value]), progress:not([value])::-webkit-progress-bar {\n",
       "        background: repeating-linear-gradient(45deg, #7e7e7e, #7e7e7e 10px, #5c5c5c 10px, #5c5c5c 20px);\n",
       "    }\n",
       "    .progress-bar-interrupted, .progress-bar-interrupted::-webkit-progress-bar {\n",
       "        background: #F44336;\n",
       "    }\n",
       "</style>\n"
      ],
      "text/plain": [
       "<IPython.core.display.HTML object>"
      ]
     },
     "metadata": {},
     "output_type": "display_data"
    },
    {
     "data": {
      "text/html": [
       "\n",
       "    <div>\n",
       "      <progress value='8000' class='' max='8000' style='width:300px; height:20px; vertical-align: middle;'></progress>\n",
       "      100.00% [8000/8000 00:06&lt;00:00 Sampling 4 chains, 44 divergences]\n",
       "    </div>\n",
       "    "
      ],
      "text/plain": [
       "<IPython.core.display.HTML object>"
      ]
     },
     "metadata": {},
     "output_type": "display_data"
    },
    {
     "name": "stderr",
     "output_type": "stream",
     "text": [
      "Sampling 4 chains for 1_000 tune and 1_000 draw iterations (4_000 + 4_000 draws total) took 7 seconds.\n",
      "The rhat statistic is larger than 1.01 for some parameters. This indicates problems during sampling. See https://arxiv.org/abs/1903.08008 for details\n",
      "The effective sample size per chain is smaller than 100 for some parameters.  A higher number is needed for reliable rhat and ess computation. See https://arxiv.org/abs/1903.08008 for details\n",
      "There were 44 divergences after tuning. Increase `target_accept` or reparameterize.\n"
     ]
    }
   ],
   "source": [
    "with pm.Model() as model_meta:\n",
    "    mu = pm.Flat(\"mu\")\n",
    "    tau = pm.HalfFlat(\"tau\")\n",
    "\n",
    "    theta = pm.Normal(\"theta\", mu=mu, sigma=tau, shape=len(log_odds))\n",
    "\n",
    "    y = pm.Normal(\"log_ods\", mu=theta, sigma=sigma, observed=log_odds)\n",
    "\n",
    "    trace_meta = pm.sample()"
   ]
  },
  {
   "attachments": {},
   "cell_type": "markdown",
   "metadata": {},
   "source": [
    "We obtain the median, and interval predictions for $\\theta_j$."
   ]
  },
  {
   "cell_type": "code",
   "execution_count": 6,
   "metadata": {},
   "outputs": [],
   "source": [
    "theta_summary = az.summary(trace_meta, hdi_prob=0.95, var_names=[\"theta\"], kind='stats')\n",
    "theta_summary_2 = az.summary(trace_meta, stat_focus='median', hdi_prob=0.95, var_names=[\"theta\"], kind='stats')"
   ]
  },
  {
   "cell_type": "code",
   "execution_count": 7,
   "metadata": {},
   "outputs": [],
   "source": [
    "Dat[\"log_odds\"] = log_odds.round(3)\n",
    "Dat[\"sigma\"] = sigma.round(3)\n",
    "Dat['hdi_2.5%'] =  theta_summary['hdi_2.5%'].reset_index(drop=True)\n",
    "Dat[\"median\"] = theta_summary_2['median'].reset_index(drop=True)\n",
    "Dat['hdi_97.5%'] =  theta_summary['hdi_97.5%'].reset_index(drop=True)"
   ]
  },
  {
   "cell_type": "code",
   "execution_count": 8,
   "metadata": {},
   "outputs": [
    {
     "data": {
      "text/html": [
       "<div>\n",
       "<style scoped>\n",
       "    .dataframe tbody tr th:only-of-type {\n",
       "        vertical-align: middle;\n",
       "    }\n",
       "\n",
       "    .dataframe tbody tr th {\n",
       "        vertical-align: top;\n",
       "    }\n",
       "\n",
       "    .dataframe thead th {\n",
       "        text-align: right;\n",
       "    }\n",
       "</style>\n",
       "<table border=\"1\" class=\"dataframe\">\n",
       "  <thead>\n",
       "    <tr style=\"text-align: right;\">\n",
       "      <th></th>\n",
       "      <th>Study</th>\n",
       "      <th>ControlDeaths</th>\n",
       "      <th>ControlTotal</th>\n",
       "      <th>TreatedDeaths</th>\n",
       "      <th>TreatedTotal</th>\n",
       "      <th>log_odds</th>\n",
       "      <th>sigma</th>\n",
       "      <th>hdi_2.5%</th>\n",
       "      <th>median</th>\n",
       "      <th>hdi_97.5%</th>\n",
       "    </tr>\n",
       "  </thead>\n",
       "  <tbody>\n",
       "    <tr>\n",
       "      <th>0</th>\n",
       "      <td>1</td>\n",
       "      <td>3</td>\n",
       "      <td>39</td>\n",
       "      <td>3</td>\n",
       "      <td>38</td>\n",
       "      <td>0.028</td>\n",
       "      <td>0.850</td>\n",
       "      <td>-0.585</td>\n",
       "      <td>-0.240</td>\n",
       "      <td>0.130</td>\n",
       "    </tr>\n",
       "    <tr>\n",
       "      <th>1</th>\n",
       "      <td>2</td>\n",
       "      <td>14</td>\n",
       "      <td>116</td>\n",
       "      <td>7</td>\n",
       "      <td>114</td>\n",
       "      <td>-0.741</td>\n",
       "      <td>0.483</td>\n",
       "      <td>-0.658</td>\n",
       "      <td>-0.274</td>\n",
       "      <td>0.013</td>\n",
       "    </tr>\n",
       "    <tr>\n",
       "      <th>2</th>\n",
       "      <td>3</td>\n",
       "      <td>11</td>\n",
       "      <td>93</td>\n",
       "      <td>5</td>\n",
       "      <td>69</td>\n",
       "      <td>-0.541</td>\n",
       "      <td>0.565</td>\n",
       "      <td>-0.601</td>\n",
       "      <td>-0.261</td>\n",
       "      <td>0.051</td>\n",
       "    </tr>\n",
       "    <tr>\n",
       "      <th>3</th>\n",
       "      <td>4</td>\n",
       "      <td>127</td>\n",
       "      <td>1520</td>\n",
       "      <td>102</td>\n",
       "      <td>1533</td>\n",
       "      <td>-0.246</td>\n",
       "      <td>0.138</td>\n",
       "      <td>-0.442</td>\n",
       "      <td>-0.248</td>\n",
       "      <td>-0.060</td>\n",
       "    </tr>\n",
       "    <tr>\n",
       "      <th>4</th>\n",
       "      <td>5</td>\n",
       "      <td>27</td>\n",
       "      <td>365</td>\n",
       "      <td>28</td>\n",
       "      <td>355</td>\n",
       "      <td>0.069</td>\n",
       "      <td>0.281</td>\n",
       "      <td>-0.455</td>\n",
       "      <td>-0.196</td>\n",
       "      <td>0.150</td>\n",
       "    </tr>\n",
       "  </tbody>\n",
       "</table>\n",
       "</div>"
      ],
      "text/plain": [
       "   Study  ControlDeaths  ControlTotal  TreatedDeaths  TreatedTotal  log_odds  \\\n",
       "0      1              3            39              3            38     0.028   \n",
       "1      2             14           116              7           114    -0.741   \n",
       "2      3             11            93              5            69    -0.541   \n",
       "3      4            127          1520            102          1533    -0.246   \n",
       "4      5             27           365             28           355     0.069   \n",
       "\n",
       "   sigma  hdi_2.5%  median  hdi_97.5%  \n",
       "0  0.850    -0.585  -0.240      0.130  \n",
       "1  0.483    -0.658  -0.274      0.013  \n",
       "2  0.565    -0.601  -0.261      0.051  \n",
       "3  0.138    -0.442  -0.248     -0.060  \n",
       "4  0.281    -0.455  -0.196      0.150  "
      ]
     },
     "execution_count": 8,
     "metadata": {},
     "output_type": "execute_result"
    }
   ],
   "source": [
    "Dat.head()"
   ]
  },
  {
   "attachments": {},
   "cell_type": "markdown",
   "metadata": {},
   "source": [
    "We obtain the median, and interval predictions for $\\mu$, $\\tau$."
   ]
  },
  {
   "cell_type": "code",
   "execution_count": 9,
   "metadata": {},
   "outputs": [
    {
     "data": {
      "text/html": [
       "<div>\n",
       "<style scoped>\n",
       "    .dataframe tbody tr th:only-of-type {\n",
       "        vertical-align: middle;\n",
       "    }\n",
       "\n",
       "    .dataframe tbody tr th {\n",
       "        vertical-align: top;\n",
       "    }\n",
       "\n",
       "    .dataframe thead th {\n",
       "        text-align: right;\n",
       "    }\n",
       "</style>\n",
       "<table border=\"1\" class=\"dataframe\">\n",
       "  <thead>\n",
       "    <tr style=\"text-align: right;\">\n",
       "      <th></th>\n",
       "      <th>median</th>\n",
       "      <th>mad</th>\n",
       "      <th>eti_2.5%</th>\n",
       "      <th>eti_97.5%</th>\n",
       "    </tr>\n",
       "  </thead>\n",
       "  <tbody>\n",
       "    <tr>\n",
       "      <th>mu</th>\n",
       "      <td>-0.242</td>\n",
       "      <td>0.043</td>\n",
       "      <td>-0.376</td>\n",
       "      <td>-0.113</td>\n",
       "    </tr>\n",
       "    <tr>\n",
       "      <th>tau</th>\n",
       "      <td>0.135</td>\n",
       "      <td>0.049</td>\n",
       "      <td>0.033</td>\n",
       "      <td>0.317</td>\n",
       "    </tr>\n",
       "  </tbody>\n",
       "</table>\n",
       "</div>"
      ],
      "text/plain": [
       "     median    mad  eti_2.5%  eti_97.5%\n",
       "mu   -0.242  0.043    -0.376     -0.113\n",
       "tau   0.135  0.049     0.033      0.317"
      ]
     },
     "execution_count": 9,
     "metadata": {},
     "output_type": "execute_result"
    }
   ],
   "source": [
    "az.summary(trace_meta, stat_focus='median', hdi_prob=0.95, var_names=[\"mu\", \"tau\"], kind='stats')"
   ]
  },
  {
   "cell_type": "code",
   "execution_count": 10,
   "metadata": {},
   "outputs": [],
   "source": [
    "PosteriorMu = trace_meta.posterior.mu.values.ravel()\n",
    "PosteriorTau = trace_meta.posterior.tau.values.ravel()"
   ]
  },
  {
   "cell_type": "code",
   "execution_count": 11,
   "metadata": {},
   "outputs": [
    {
     "data": {
      "text/plain": [
       "array([-0.58793389, -0.24606463,  0.10564625])"
      ]
     },
     "execution_count": 11,
     "metadata": {},
     "output_type": "execute_result"
    }
   ],
   "source": [
    "new_theta = norm.rvs(size=len(PosteriorMu), loc=PosteriorMu, scale=PosteriorTau)\n",
    "np.quantile(new_theta, [0.025,0.5,0.975])"
   ]
  },
  {
   "attachments": {},
   "cell_type": "markdown",
   "metadata": {},
   "source": [
    "Histogram of $\\tilde\\theta$"
   ]
  },
  {
   "cell_type": "code",
   "execution_count": 12,
   "metadata": {},
   "outputs": [
    {
     "data": {
      "image/png": "[encoded data removed]",
      "text/plain": [
       "<Figure size 640x480 with 1 Axes>"
      ]
     },
     "metadata": {},
     "output_type": "display_data"
    }
   ],
   "source": [
    "_, _, _ = plt.hist(new_theta, bins=20, edgecolor='w')"
   ]
  },
  {
   "cell_type": "code",
   "execution_count": 13,
   "metadata": {},
   "outputs": [],
   "source": [
    "def V_mu(tau):\n",
    "    return 1 / (1/(sigma_2+tau)).sum()\n",
    "\n",
    "V_mu_vect = np.vectorize(V_mu)\n",
    "\n",
    "def mu_hat(tau):\n",
    "    return (log_odds/(sigma_2+tau)).sum() * V_mu(tau)\n",
    "\n",
    "mu_hat_vect = np.vectorize(mu_hat)\n",
    "\n",
    "def V_j(j, tau):\n",
    "    return 1 / (1/sigma[j]**2+1/tau**2)\n",
    "\n",
    "V_j = np.vectorize(V_j)\n",
    "\n",
    "def expected_theta(j, tau):\n",
    "    return (log_odds[j]/sigma[j]**2 + mu_hat(tau)/tau**2) * V_j(j, tau)\n",
    "\n",
    "expected_theta = np.vectorize(expected_theta)\n",
    "\n",
    "def std_theta(j, tau):\n",
    "    return np.sqrt(V_j(j, tau) + 1/tau**4 * V_mu(tau) * V_j(j, tau)**2)\n",
    "\n",
    "std_theta = np.vectorize(std_theta)"
   ]
  },
  {
   "attachments": {},
   "cell_type": "markdown",
   "metadata": {},
   "source": [
    "The posterior interval for $\\mu$, exponentiated."
   ]
  },
  {
   "cell_type": "code",
   "execution_count": 14,
   "metadata": {},
   "outputs": [
    {
     "data": {
      "text/plain": [
       "array([0.69, 0.89])"
      ]
     },
     "execution_count": 14,
     "metadata": {},
     "output_type": "execute_result"
    }
   ],
   "source": [
    "np.exp(np.quantile(PosteriorMu, [0.025, 0.975])).round(2)"
   ]
  },
  {
   "attachments": {},
   "cell_type": "markdown",
   "metadata": {},
   "source": [
    "The posterior interval of $\\mu$ from complete pooling, that is $\\tau=0$."
   ]
  },
  {
   "cell_type": "code",
   "execution_count": 15,
   "metadata": {},
   "outputs": [
    {
     "data": {
      "text/plain": [
       "array([0.7 , 0.85])"
      ]
     },
     "execution_count": 15,
     "metadata": {},
     "output_type": "execute_result"
    }
   ],
   "source": [
    "np.exp(norm.ppf([0.025,0.975], loc=mu_hat(0), scale=np.sqrt(V_mu(0)))).round(2)"
   ]
  },
  {
   "attachments": {},
   "cell_type": "markdown",
   "metadata": {},
   "source": [
    "In the original published discussion of these data, it was remarked that it seems and 'unusually narrow range of uncertainty'. The Bayesian analysis suggests that this was due to the use of an inappropriate model that had the effect of claiming all the studies were identical. In mathematical terms, complete pooling makes the assumption that the parameter $\\tau$ is exactly zero, whereas the data supply evidence that $\\tau$ might be close to zero, but might also plausibly be as high as 0.3."
   ]
  },
  {
   "attachments": {},
   "cell_type": "markdown",
   "metadata": {},
   "source": [
    "We make a scatterplot of the crude effect estimates vs. the posterior median effect estimates for the 22 studies. We observe that the studies with the smallest sample sizes are partially pooled the most toward the mean $\\mu$ (in this case estimated by its posterior median)."
   ]
  },
  {
   "cell_type": "code",
   "execution_count": 28,
   "metadata": {},
   "outputs": [
    {
     "data": {
      "image/png": "[encoded data removed]",
      "text/plain": [
       "<Figure size 750x500 with 2 Axes>"
      ]
     },
     "metadata": {},
     "output_type": "display_data"
    }
   ],
   "source": [
    "plt.figure(figsize=(7.5,5))\n",
    "plt.scatter(Dat[\"log_odds\"], Dat[\"median\"], c=Dat[\"ControlTotal\"]+Dat[\"TreatedTotal\"])\n",
    "plt.axhline(np.median(trace_meta.posterior.mu.values), color='r', linestyle='--')\n",
    "plt.xlabel(r\"Posterior median of $\\theta_j$\")\n",
    "plt.ylabel(r\"Crude effect estimates\")\n",
    "plt.colorbar()"
   ]
  }
 ],
 "metadata": {
  "interpreter": {
   "hash": "e7370f93d1d0cde622a1f8e1c04877d8463912d04d973331ad4851f04de6915a"
  },
  "kernelspec": {
   "display_name": "Python 3.10.2 64-bit",
   "language": "python",
   "name": "python3"
  },
  "language_info": {
   "codemirror_mode": {
    "name": "ipython",
    "version": 3
   },
   "file_extension": ".py",
   "mimetype": "text/x-python",
   "name": "python",
   "nbconvert_exporter": "python",
   "pygments_lexer": "ipython3",
   "version": "3.11.3"
  },
  "orig_nbformat": 4
 },
 "nbformat": 4,
 "nbformat_minor": 2
}
