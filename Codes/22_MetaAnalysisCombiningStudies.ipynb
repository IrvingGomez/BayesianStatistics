{
 "cells": [
  {
   "attachments": {},
   "cell_type": "markdown",
   "metadata": {},
   "source": [
    "#  Hierarchical modeling applied to a meta-analysis"
   ]
  },
  {
   "cell_type": "code",
   "execution_count": 1,
   "metadata": {},
   "outputs": [],
   "source": [
    "import pandas as pd\n",
    "import numpy as np\n",
    "\n",
    "import pymc as pm\n",
    "import arviz as az\n",
    "\n",
    "from scipy.stats import norm\n",
    "\n",
    "import matplotlib.pyplot as plt"
   ]
  },
  {
   "cell_type": "code",
   "execution_count": 2,
   "metadata": {},
   "outputs": [],
   "source": [
    "ALPHA = 0.05"
   ]
  },
  {
   "cell_type": "code",
   "execution_count": 3,
   "metadata": {},
   "outputs": [],
   "source": [
    "Dat = pd.read_csv(\"../Data/MetanalysisCombiningStudies.csv\", sep=\";\")"
   ]
  },
  {
   "cell_type": "code",
   "execution_count": 4,
   "metadata": {},
   "outputs": [
    {
     "data": {
      "text/html": [
       "<div>\n",
       "<style scoped>\n",
       "    .dataframe tbody tr th:only-of-type {\n",
       "        vertical-align: middle;\n",
       "    }\n",
       "\n",
       "    .dataframe tbody tr th {\n",
       "        vertical-align: top;\n",
       "    }\n",
       "\n",
       "    .dataframe thead th {\n",
       "        text-align: right;\n",
       "    }\n",
       "</style>\n",
       "<table border=\"1\" class=\"dataframe\">\n",
       "  <thead>\n",
       "    <tr style=\"text-align: right;\">\n",
       "      <th></th>\n",
       "      <th>Study</th>\n",
       "      <th>ControlDeaths</th>\n",
       "      <th>ControlTotal</th>\n",
       "      <th>TreatedDeaths</th>\n",
       "      <th>TreatedTotal</th>\n",
       "    </tr>\n",
       "  </thead>\n",
       "  <tbody>\n",
       "    <tr>\n",
       "      <th>0</th>\n",
       "      <td>1</td>\n",
       "      <td>3</td>\n",
       "      <td>39</td>\n",
       "      <td>3</td>\n",
       "      <td>38</td>\n",
       "    </tr>\n",
       "    <tr>\n",
       "      <th>1</th>\n",
       "      <td>2</td>\n",
       "      <td>14</td>\n",
       "      <td>116</td>\n",
       "      <td>7</td>\n",
       "      <td>114</td>\n",
       "    </tr>\n",
       "    <tr>\n",
       "      <th>2</th>\n",
       "      <td>3</td>\n",
       "      <td>11</td>\n",
       "      <td>93</td>\n",
       "      <td>5</td>\n",
       "      <td>69</td>\n",
       "    </tr>\n",
       "    <tr>\n",
       "      <th>3</th>\n",
       "      <td>4</td>\n",
       "      <td>127</td>\n",
       "      <td>1520</td>\n",
       "      <td>102</td>\n",
       "      <td>1533</td>\n",
       "    </tr>\n",
       "    <tr>\n",
       "      <th>4</th>\n",
       "      <td>5</td>\n",
       "      <td>27</td>\n",
       "      <td>365</td>\n",
       "      <td>28</td>\n",
       "      <td>355</td>\n",
       "    </tr>\n",
       "  </tbody>\n",
       "</table>\n",
       "</div>"
      ],
      "text/plain": [
       "   Study  ControlDeaths  ControlTotal  TreatedDeaths  TreatedTotal\n",
       "0      1              3            39              3            38\n",
       "1      2             14           116              7           114\n",
       "2      3             11            93              5            69\n",
       "3      4            127          1520            102          1533\n",
       "4      5             27           365             28           355"
      ]
     },
     "execution_count": 4,
     "metadata": {},
     "output_type": "execute_result"
    }
   ],
   "source": [
    "Dat.head()"
   ]
  },
  {
   "attachments": {},
   "cell_type": "markdown",
   "metadata": {},
   "source": [
    "Meta-analysis is a process of summarizing and integrating the findings of research studies in a particular area.\n",
    "\n",
    "The data in the example summarize mortality after myocardial infarction in 22 clinical trials, each consisting of\n",
    "two groups of heart attack patients randomly allocated to receive or not receive beta-blockers (a family of drugs that affect the central nervous system and can relax the heart muscles). The aim of a meta-analysis is to provide a combined analysis of the studies that indicates the overall strength of the evidence for a beneficial effect of the treatment under study."
   ]
  },
  {
   "attachments": {},
   "cell_type": "markdown",
   "metadata": {},
   "source": [
    "If clinical trial $j$ involves the use of $n_{0j}$ subjects in the control group and $n_{1j}$ in the treatment group, giving rise to $y_{0j}$ and $y_{1j}$ deaths in control and treatment groups, respectively, then the usual sampling model involves two independent binomial distributions with probabilities $p_{0j}$ and $p_{1j}$, respectively. Estimands of interest include the odds ratio $$\\rho_j=\\frac{\\frac{p_{1j}}{1-p_{1j}}}{\\frac{p_{0j}}{1-p_{0j}}}.$$ However, for a number of reasons, including interpretability and the fact that its posterior distribution is close to normality, we concentrate on inference for the logarithm of the odds ratio, which we label $\\theta_j=\\log\\rho_j$."
   ]
  },
  {
   "attachments": {},
   "cell_type": "markdown",
   "metadata": {},
   "source": [
    "We calculate the logarithms of the odds: $$y_j=\\log\\left(\\frac{y_{1j}}{n_{1j}-y_{1j}}\\right)-\\log\\left(\\frac{y_{0j}}{n_{0j}-y_{0j}}\\right),$$ with approximate variance $$\\sigma_j^2=\\frac{1}{y_{1j}}+\\frac{1}{n_{1j}-y_{1j}}+\\frac{1}{y_{0j}}+\\frac{1}{n_{0j}-y_{0j}}$$"
   ]
  },
  {
   "cell_type": "code",
   "execution_count": 5,
   "metadata": {},
   "outputs": [],
   "source": [
    "LogOdds = np.log(Dat[\"TreatedDeaths\"]/(Dat[\"TreatedTotal\"] - Dat[\"TreatedDeaths\"])) - np.log(Dat[\"ControlDeaths\"]/(Dat[\"ControlTotal\"] - Dat[\"ControlDeaths\"]))\n",
    "\n",
    "Sigma2 = 1/Dat[\"TreatedDeaths\"] + 1/(Dat[\"TreatedTotal\"]-Dat[\"TreatedDeaths\"]) + 1/Dat[\"ControlDeaths\"] + 1/(Dat[\"ControlTotal\"]-Dat[\"ControlDeaths\"])\n",
    "Sigma = np.sqrt(Sigma2)"
   ]
  },
  {
   "attachments": {},
   "cell_type": "markdown",
   "metadata": {},
   "source": [
    "We model $$y_j|\\theta_j,\\sigma_j\\sim\\textsf{Normal}(\\theta_j,\\sigma_j^2),$$ $$\\theta_j\\sim\\textsf{Normal}(\\mu,\\tau^2),$$ $$p(\\mu)\\propto 1,$$ $$p(\\tau)\\propto 1.$$"
   ]
  },
  {
   "cell_type": "code",
   "execution_count": 6,
   "metadata": {},
   "outputs": [
    {
     "name": "stderr",
     "output_type": "stream",
     "text": [
      "Auto-assigning NUTS sampler...\n",
      "Initializing NUTS using jitter+adapt_diag...\n",
      "Multiprocess sampling (4 chains in 4 jobs)\n",
      "NUTS: [Mu, Tau, Theta]\n"
     ]
    },
    {
     "data": {
      "text/html": [
       "\n",
       "<style>\n",
       "    /* Turns off some styling */\n",
       "    progress {\n",
       "        /* gets rid of default border in Firefox and Opera. */\n",
       "        border: none;\n",
       "        /* Needs to be in here for Safari polyfill so background images work as expected. */\n",
       "        background-size: auto;\n",
       "    }\n",
       "    progress:not([value]), progress:not([value])::-webkit-progress-bar {\n",
       "        background: repeating-linear-gradient(45deg, #7e7e7e, #7e7e7e 10px, #5c5c5c 10px, #5c5c5c 20px);\n",
       "    }\n",
       "    .progress-bar-interrupted, .progress-bar-interrupted::-webkit-progress-bar {\n",
       "        background: #F44336;\n",
       "    }\n",
       "</style>\n"
      ],
      "text/plain": [
       "<IPython.core.display.HTML object>"
      ]
     },
     "metadata": {},
     "output_type": "display_data"
    },
    {
     "data": {
      "text/html": [
       "\n",
       "    <div>\n",
       "      <progress value='8000' class='' max='8000' style='width:300px; height:20px; vertical-align: middle;'></progress>\n",
       "      100.00% [8000/8000 00:09&lt;00:00 Sampling 4 chains, 724 divergences]\n",
       "    </div>\n",
       "    "
      ],
      "text/plain": [
       "<IPython.core.display.HTML object>"
      ]
     },
     "metadata": {},
     "output_type": "display_data"
    },
    {
     "name": "stderr",
     "output_type": "stream",
     "text": [
      "Sampling 4 chains for 1_000 tune and 1_000 draw iterations (4_000 + 4_000 draws total) took 9 seconds.\n",
      "/home/dmitri/.local/lib/python3.11/site-packages/arviz/utils.py:184: NumbaDeprecationWarning: \u001b[1mThe 'nopython' keyword argument was not supplied to the 'numba.jit' decorator. The implicit default value for this argument is currently False, but it will be changed to True in Numba 0.59.0. See https://numba.readthedocs.io/en/stable/reference/deprecation.html#deprecation-of-object-mode-fall-back-behaviour-when-using-jit for details.\u001b[0m\n",
      "  numba_fn = numba.jit(**self.kwargs)(self.function)\n",
      "The rhat statistic is larger than 1.01 for some parameters. This indicates problems during sampling. See https://arxiv.org/abs/1903.08008 for details\n",
      "The effective sample size per chain is smaller than 100 for some parameters.  A higher number is needed for reliable rhat and ess computation. See https://arxiv.org/abs/1903.08008 for details\n",
      "There were 724 divergences after tuning. Increase `target_accept` or reparameterize.\n"
     ]
    }
   ],
   "source": [
    "with pm.Model() as ModelMetaAnalysis:\n",
    "    Mu = pm.Flat(\"Mu\")\n",
    "    Tau = pm.HalfFlat(\"Tau\")\n",
    "\n",
    "    Theta = pm.Normal(\"Theta\", mu=Mu, sigma=Tau, shape=len(LogOdds))\n",
    "\n",
    "    Y = pm.Normal(\"LogOdds\", mu=Theta, sigma=Sigma, observed=LogOdds)\n",
    "\n",
    "    TraceMetaAnalysis = pm.sample()"
   ]
  },
  {
   "attachments": {},
   "cell_type": "markdown",
   "metadata": {},
   "source": [
    "We obtain the median, and ETI interval for $\\theta_j$."
   ]
  },
  {
   "cell_type": "code",
   "execution_count": 7,
   "metadata": {},
   "outputs": [],
   "source": [
    "ThetaSummary = az.summary(TraceMetaAnalysis, stat_focus='median', hdi_prob=1-ALPHA, var_names=\"Theta\", kind='stats')"
   ]
  },
  {
   "cell_type": "code",
   "execution_count": 8,
   "metadata": {},
   "outputs": [],
   "source": [
    "Dat[\"log_odds\"] = LogOdds.round(3)\n",
    "Dat[\"sigma\"] = Sigma.round(3)\n",
    "Dat['eti_' + str(ALPHA/2*100)+'%'] =  ThetaSummary['eti_' + str(ALPHA/2*100)+'%'].reset_index(drop=True)\n",
    "Dat[\"median\"] = ThetaSummary['median'].reset_index(drop=True)\n",
    "Dat['eti_' + str((1-ALPHA/2)*100)+'%'] =  ThetaSummary['eti_' + str((1-ALPHA/2)*100)+'%'].reset_index(drop=True)"
   ]
  },
  {
   "cell_type": "code",
   "execution_count": 9,
   "metadata": {},
   "outputs": [
    {
     "data": {
      "text/html": [
       "<div>\n",
       "<style scoped>\n",
       "    .dataframe tbody tr th:only-of-type {\n",
       "        vertical-align: middle;\n",
       "    }\n",
       "\n",
       "    .dataframe tbody tr th {\n",
       "        vertical-align: top;\n",
       "    }\n",
       "\n",
       "    .dataframe thead th {\n",
       "        text-align: right;\n",
       "    }\n",
       "</style>\n",
       "<table border=\"1\" class=\"dataframe\">\n",
       "  <thead>\n",
       "    <tr style=\"text-align: right;\">\n",
       "      <th></th>\n",
       "      <th>Study</th>\n",
       "      <th>ControlDeaths</th>\n",
       "      <th>ControlTotal</th>\n",
       "      <th>TreatedDeaths</th>\n",
       "      <th>TreatedTotal</th>\n",
       "      <th>log_odds</th>\n",
       "      <th>sigma</th>\n",
       "      <th>eti_2.5%</th>\n",
       "      <th>median</th>\n",
       "      <th>eti_97.5%</th>\n",
       "    </tr>\n",
       "  </thead>\n",
       "  <tbody>\n",
       "    <tr>\n",
       "      <th>0</th>\n",
       "      <td>1</td>\n",
       "      <td>3</td>\n",
       "      <td>39</td>\n",
       "      <td>3</td>\n",
       "      <td>38</td>\n",
       "      <td>0.028</td>\n",
       "      <td>0.850</td>\n",
       "      <td>-0.554</td>\n",
       "      <td>-0.251</td>\n",
       "      <td>0.130</td>\n",
       "    </tr>\n",
       "    <tr>\n",
       "      <th>1</th>\n",
       "      <td>2</td>\n",
       "      <td>14</td>\n",
       "      <td>116</td>\n",
       "      <td>7</td>\n",
       "      <td>114</td>\n",
       "      <td>-0.741</td>\n",
       "      <td>0.483</td>\n",
       "      <td>-0.633</td>\n",
       "      <td>-0.282</td>\n",
       "      <td>-0.003</td>\n",
       "    </tr>\n",
       "    <tr>\n",
       "      <th>2</th>\n",
       "      <td>3</td>\n",
       "      <td>11</td>\n",
       "      <td>93</td>\n",
       "      <td>5</td>\n",
       "      <td>69</td>\n",
       "      <td>-0.541</td>\n",
       "      <td>0.565</td>\n",
       "      <td>-0.590</td>\n",
       "      <td>-0.277</td>\n",
       "      <td>0.021</td>\n",
       "    </tr>\n",
       "    <tr>\n",
       "      <th>3</th>\n",
       "      <td>4</td>\n",
       "      <td>127</td>\n",
       "      <td>1520</td>\n",
       "      <td>102</td>\n",
       "      <td>1533</td>\n",
       "      <td>-0.246</td>\n",
       "      <td>0.138</td>\n",
       "      <td>-0.422</td>\n",
       "      <td>-0.279</td>\n",
       "      <td>-0.052</td>\n",
       "    </tr>\n",
       "    <tr>\n",
       "      <th>4</th>\n",
       "      <td>5</td>\n",
       "      <td>27</td>\n",
       "      <td>365</td>\n",
       "      <td>28</td>\n",
       "      <td>355</td>\n",
       "      <td>0.069</td>\n",
       "      <td>0.281</td>\n",
       "      <td>-0.410</td>\n",
       "      <td>-0.234</td>\n",
       "      <td>0.138</td>\n",
       "    </tr>\n",
       "  </tbody>\n",
       "</table>\n",
       "</div>"
      ],
      "text/plain": [
       "   Study  ControlDeaths  ControlTotal  TreatedDeaths  TreatedTotal  log_odds  \\\n",
       "0      1              3            39              3            38     0.028   \n",
       "1      2             14           116              7           114    -0.741   \n",
       "2      3             11            93              5            69    -0.541   \n",
       "3      4            127          1520            102          1533    -0.246   \n",
       "4      5             27           365             28           355     0.069   \n",
       "\n",
       "   sigma  eti_2.5%  median  eti_97.5%  \n",
       "0  0.850    -0.554  -0.251      0.130  \n",
       "1  0.483    -0.633  -0.282     -0.003  \n",
       "2  0.565    -0.590  -0.277      0.021  \n",
       "3  0.138    -0.422  -0.279     -0.052  \n",
       "4  0.281    -0.410  -0.234      0.138  "
      ]
     },
     "execution_count": 9,
     "metadata": {},
     "output_type": "execute_result"
    }
   ],
   "source": [
    "Dat.head()"
   ]
  },
  {
   "attachments": {},
   "cell_type": "markdown",
   "metadata": {},
   "source": [
    "We obtain the median, and interval predictions for $\\mu$, $\\tau$."
   ]
  },
  {
   "cell_type": "code",
   "execution_count": 10,
   "metadata": {},
   "outputs": [
    {
     "data": {
      "text/html": [
       "<div>\n",
       "<style scoped>\n",
       "    .dataframe tbody tr th:only-of-type {\n",
       "        vertical-align: middle;\n",
       "    }\n",
       "\n",
       "    .dataframe tbody tr th {\n",
       "        vertical-align: top;\n",
       "    }\n",
       "\n",
       "    .dataframe thead th {\n",
       "        text-align: right;\n",
       "    }\n",
       "</style>\n",
       "<table border=\"1\" class=\"dataframe\">\n",
       "  <thead>\n",
       "    <tr style=\"text-align: right;\">\n",
       "      <th></th>\n",
       "      <th>median</th>\n",
       "      <th>mad</th>\n",
       "      <th>eti_2.5%</th>\n",
       "      <th>eti_97.5%</th>\n",
       "    </tr>\n",
       "  </thead>\n",
       "  <tbody>\n",
       "    <tr>\n",
       "      <th>Mu</th>\n",
       "      <td>-0.268</td>\n",
       "      <td>0.026</td>\n",
       "      <td>-0.364</td>\n",
       "      <td>-0.108</td>\n",
       "    </tr>\n",
       "    <tr>\n",
       "      <th>Tau</th>\n",
       "      <td>0.106</td>\n",
       "      <td>0.072</td>\n",
       "      <td>0.015</td>\n",
       "      <td>0.308</td>\n",
       "    </tr>\n",
       "  </tbody>\n",
       "</table>\n",
       "</div>"
      ],
      "text/plain": [
       "     median    mad  eti_2.5%  eti_97.5%\n",
       "Mu   -0.268  0.026    -0.364     -0.108\n",
       "Tau   0.106  0.072     0.015      0.308"
      ]
     },
     "execution_count": 10,
     "metadata": {},
     "output_type": "execute_result"
    }
   ],
   "source": [
    "az.summary(TraceMetaAnalysis, stat_focus='median', hdi_prob=1-ALPHA, var_names=[\"Mu\", \"Tau\"], kind='stats')"
   ]
  },
  {
   "cell_type": "code",
   "execution_count": 11,
   "metadata": {},
   "outputs": [],
   "source": [
    "PosteriorMu = TraceMetaAnalysis.posterior.Mu.values.ravel()\n",
    "PosteriorTau = TraceMetaAnalysis.posterior.Tau.values.ravel()"
   ]
  },
  {
   "cell_type": "code",
   "execution_count": 12,
   "metadata": {},
   "outputs": [
    {
     "data": {
      "text/plain": [
       "array([-0.571, -0.265,  0.091])"
      ]
     },
     "execution_count": 12,
     "metadata": {},
     "output_type": "execute_result"
    }
   ],
   "source": [
    "NewTheta = norm.rvs(size=len(PosteriorMu), loc=PosteriorMu, scale=PosteriorTau)\n",
    "np.quantile(NewTheta, [0.025,0.5,0.975]).round(3)"
   ]
  },
  {
   "attachments": {},
   "cell_type": "markdown",
   "metadata": {},
   "source": [
    "Histogram of $\\tilde\\theta$"
   ]
  },
  {
   "cell_type": "code",
   "execution_count": 13,
   "metadata": {},
   "outputs": [
    {
     "data": {
      "text/plain": [
       "Text(0, 0.5, '$p(\\\\theta|\\\\vec{Y})$')"
      ]
     },
     "execution_count": 13,
     "metadata": {},
     "output_type": "execute_result"
    },
    {
     "data": {
      "image/png": "[encoded data removed]",
      "text/plain": [
       "<Figure size 640x480 with 1 Axes>"
      ]
     },
     "metadata": {},
     "output_type": "display_data"
    }
   ],
   "source": [
    "_, _, _ = plt.hist(NewTheta, bins=20, edgecolor='w', density=True)\n",
    "plt.xlabel(r'$\\theta$')\n",
    "plt.ylabel(r'$p(\\theta|\\vec{Y})$')"
   ]
  },
  {
   "cell_type": "code",
   "execution_count": 14,
   "metadata": {},
   "outputs": [],
   "source": [
    "def V_mu(tau):\n",
    "    return 1 / (1/(Sigma2+tau)).sum()\n",
    "\n",
    "V_mu_vect = np.vectorize(V_mu)\n",
    "\n",
    "def mu_hat(tau):\n",
    "    return (LogOdds/(Sigma2+tau)).sum() * V_mu(tau)\n",
    "\n",
    "mu_hat_vect = np.vectorize(mu_hat)\n",
    "\n",
    "def V_j(j, tau):\n",
    "    return 1 / (1/Sigma[j]**2+1/tau**2)\n",
    "\n",
    "V_j = np.vectorize(V_j)\n",
    "\n",
    "def expected_theta(j, tau):\n",
    "    return (LogOdds[j]/Sigma[j]**2 + mu_hat(tau)/tau**2) * V_j(j, tau)\n",
    "\n",
    "expected_theta = np.vectorize(expected_theta)\n",
    "\n",
    "def std_theta(j, tau):\n",
    "    return np.sqrt(V_j(j, tau) + 1/tau**4 * V_mu(tau) * V_j(j, tau)**2)\n",
    "\n",
    "std_theta = np.vectorize(std_theta)"
   ]
  },
  {
   "attachments": {},
   "cell_type": "markdown",
   "metadata": {},
   "source": [
    "The posterior interval for $\\mu$, exponentiated."
   ]
  },
  {
   "cell_type": "code",
   "execution_count": 15,
   "metadata": {},
   "outputs": [
    {
     "data": {
      "text/plain": [
       "array([0.695, 0.765, 0.898])"
      ]
     },
     "execution_count": 15,
     "metadata": {},
     "output_type": "execute_result"
    }
   ],
   "source": [
    "np.exp(np.quantile(PosteriorMu, [ALPHA/2, 0.5, 1-ALPHA/2])).round(3)"
   ]
  },
  {
   "attachments": {},
   "cell_type": "markdown",
   "metadata": {},
   "source": [
    "The posterior interval of $\\mu$ from complete pooling, that is $\\tau=0$."
   ]
  },
  {
   "cell_type": "code",
   "execution_count": 16,
   "metadata": {},
   "outputs": [
    {
     "data": {
      "text/plain": [
       "array([-0.359, -0.26 , -0.161])"
      ]
     },
     "execution_count": 16,
     "metadata": {},
     "output_type": "execute_result"
    }
   ],
   "source": [
    "norm.ppf([ALPHA/2, 0.5, 1-ALPHA/2], loc=mu_hat(0), scale=np.sqrt(V_mu(0))).round(3)"
   ]
  },
  {
   "cell_type": "markdown",
   "metadata": {},
   "source": [
    "The posterior interval of $\\mu$ (exponentiated) from complete pooling, that is $\\tau=0$."
   ]
  },
  {
   "cell_type": "code",
   "execution_count": 17,
   "metadata": {},
   "outputs": [
    {
     "data": {
      "text/plain": [
       "array([0.699, 0.771, 0.851])"
      ]
     },
     "execution_count": 17,
     "metadata": {},
     "output_type": "execute_result"
    }
   ],
   "source": [
    "np.exp(norm.ppf([ALPHA/2, 0.5, 1-ALPHA/2], loc=mu_hat(0), scale=np.sqrt(V_mu(0)))).round(3)"
   ]
  },
  {
   "attachments": {},
   "cell_type": "markdown",
   "metadata": {},
   "source": [
    "In the original published discussion of these data, it was remarked that it seems and 'unusually narrow range of uncertainty'. The Bayesian analysis suggests that this was due to the use of an inappropriate model that had the effect of claiming all the studies were identical. In mathematical terms, complete pooling makes the assumption that the parameter $\\tau$ is exactly zero, whereas the data supply evidence that $\\tau$ might be close to zero, but might also plausibly be as high as 0.3."
   ]
  },
  {
   "attachments": {},
   "cell_type": "markdown",
   "metadata": {},
   "source": [
    "We make a scatterplot of the crude effect estimates vs. the posterior median effect estimates for the 22 studies. We observe that the studies with the smallest sample sizes are partially pooled the most toward the mean $\\mu$ (in this case estimated by its posterior median)."
   ]
  },
  {
   "cell_type": "code",
   "execution_count": 18,
   "metadata": {},
   "outputs": [
    {
     "data": {
      "text/plain": [
       "<matplotlib.colorbar.Colorbar at 0x7f6eea8b9290>"
      ]
     },
     "execution_count": 18,
     "metadata": {},
     "output_type": "execute_result"
    },
    {
     "data": {
      "image/png": "[encoded data removed]",
      "text/plain": [
       "<Figure size 750x500 with 2 Axes>"
      ]
     },
     "metadata": {},
     "output_type": "display_data"
    }
   ],
   "source": [
    "plt.figure(figsize=(7.5,5))\n",
    "plt.scatter(Dat[\"log_odds\"], Dat[\"median\"], c=Dat[\"ControlTotal\"]+Dat[\"TreatedTotal\"])\n",
    "plt.axhline(np.median(TraceMetaAnalysis.posterior.Mu.values), color='r', linestyle='--')\n",
    "plt.xlabel(r\"Crude effect estimates\")\n",
    "plt.ylabel(r\"Posterior median of $\\theta_j$\")\n",
    "plt.colorbar()"
   ]
  }
 ],
 "metadata": {
  "interpreter": {
   "hash": "e7370f93d1d0cde622a1f8e1c04877d8463912d04d973331ad4851f04de6915a"
  },
  "kernelspec": {
   "display_name": "Python 3.10.2 64-bit",
   "language": "python",
   "name": "python3"
  },
  "language_info": {
   "codemirror_mode": {
    "name": "ipython",
    "version": 3
   },
   "file_extension": ".py",
   "mimetype": "text/x-python",
   "name": "python",
   "nbconvert_exporter": "python",
   "pygments_lexer": "ipython3",
   "version": "3.11.3"
  },
  "orig_nbformat": 4
 },
 "nbformat": 4,
 "nbformat_minor": 2
}
