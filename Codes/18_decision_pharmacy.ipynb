{
 "cells": [
  {
   "cell_type": "code",
   "execution_count": 1,
   "id": "60e4e1ee",
   "metadata": {},
   "outputs": [],
   "source": [
    "import pandas as pd\n",
    "import numpy as np\n",
    "\n",
    "import sympy as sym"
   ]
  },
  {
   "cell_type": "markdown",
   "id": "093e6793",
   "metadata": {},
   "source": [
    "### Probabilities"
   ]
  },
  {
   "cell_type": "code",
   "execution_count": 2,
   "id": "58c03b0a",
   "metadata": {},
   "outputs": [],
   "source": [
    "p_E1 = 0.2\n",
    "p_E2 = 0.5\n",
    "p_E3 = 1 - p_E1 - p_E2\n",
    "\n",
    "p_E  = np.array([p_E1, p_E2, p_E3])"
   ]
  },
  {
   "cell_type": "code",
   "execution_count": 3,
   "id": "9d6f5880",
   "metadata": {},
   "outputs": [],
   "source": [
    "p_X1_E1 = 0.9\n",
    "p_X1_E2 = 0.5\n",
    "p_X1_E3 = 0.2\n",
    "\n",
    "p_X1_E  = np.array([p_X1_E1, p_X1_E2, p_X1_E3])"
   ]
  },
  {
   "cell_type": "code",
   "execution_count": 4,
   "id": "915dfdeb",
   "metadata": {},
   "outputs": [],
   "source": [
    "p_X0_E1 = 1 - p_X1_E1\n",
    "p_X0_E2 = 1 - p_X1_E2\n",
    "p_X0_E3 = 1 - p_X1_E3\n",
    "\n",
    "p_X0_E  = np.array([p_X0_E1, p_X0_E2, p_X0_E3])"
   ]
  },
  {
   "cell_type": "code",
   "execution_count": 5,
   "id": "940b25b1",
   "metadata": {},
   "outputs": [],
   "source": [
    "p_X1 = p_X1_E @ p_E.T\n",
    "p_X0 = 1 - p_X1\n",
    "\n",
    "p_X  = np.array([p_X1, p_X0])"
   ]
  },
  {
   "cell_type": "code",
   "execution_count": 6,
   "id": "04fef810",
   "metadata": {},
   "outputs": [],
   "source": [
    "p_E_X1 = p_X1_E * p_E / p_X1\n",
    "p_E_X0 = p_X0_E * p_E / p_X0"
   ]
  },
  {
   "cell_type": "markdown",
   "id": "887e8fcb",
   "metadata": {},
   "source": [
    "### Utilities"
   ]
  },
  {
   "cell_type": "code",
   "execution_count": 7,
   "id": "0f91a428",
   "metadata": {},
   "outputs": [],
   "source": [
    "c = sym.Symbol('c')"
   ]
  },
  {
   "cell_type": "markdown",
   "id": "905d1fc9",
   "metadata": {},
   "source": [
    "This utilities depend on the experiment, data, actions and consequences."
   ]
  },
  {
   "cell_type": "code",
   "execution_count": 8,
   "id": "f9ec8393",
   "metadata": {},
   "outputs": [],
   "source": [
    "u_E_ap_X1 = np.array([5-c, 1-c, -3-c])\n",
    "u_anp_X1  = -c\n",
    "\n",
    "u_E_ap_X0 = u_E_ap_X1\n",
    "u_anp_X0  = u_anp_X1\n",
    "\n",
    "u_E_ap    = np.array([5, 1, -3])\n",
    "u_anp     = 0"
   ]
  },
  {
   "cell_type": "markdown",
   "id": "5108a436",
   "metadata": {},
   "source": [
    "### Expected utility of the actions"
   ]
  },
  {
   "cell_type": "markdown",
   "id": "fdd97c3c",
   "metadata": {},
   "source": [
    "We average over the consequences, these utilities depend on the experiment, data and actions."
   ]
  },
  {
   "cell_type": "code",
   "execution_count": 9,
   "id": "d0aab12e",
   "metadata": {},
   "outputs": [],
   "source": [
    "bar_u_ap_e_X1  = (u_E_ap_X1 @ p_E_X1).evalf(3)\n",
    "bar_u_anp_e_X1 = u_anp_X1\n",
    "\n",
    "bar_u_ap_e_X0  = (u_E_ap_X0 @ p_E_X0).evalf(3)\n",
    "bar_u_anp_e_X0 = u_anp_X0\n",
    "\n",
    "bar_u_ap_e0  = round(u_E_ap @ p_E, 3)\n",
    "bar_u_anp_e0 = u_anp"
   ]
  },
  {
   "cell_type": "markdown",
   "id": "1d8b2fe0",
   "metadata": {},
   "source": [
    "We observe the utilities to select the optimum action given the data."
   ]
  },
  {
   "cell_type": "code",
   "execution_count": 10,
   "id": "de721b5d",
   "metadata": {},
   "outputs": [
    {
     "data": {
      "text/plain": [
       "(1.98 - 1.0*c, -c)"
      ]
     },
     "execution_count": 10,
     "metadata": {},
     "output_type": "execute_result"
    }
   ],
   "source": [
    "bar_u_ap_e_X1, bar_u_anp_e_X1"
   ]
  },
  {
   "cell_type": "code",
   "execution_count": 11,
   "id": "c6cca7f5",
   "metadata": {},
   "outputs": [
    {
     "data": {
      "text/plain": [
       "(-1.0*c - 0.725, -c)"
      ]
     },
     "execution_count": 11,
     "metadata": {},
     "output_type": "execute_result"
    }
   ],
   "source": [
    "bar_u_ap_e_X0, bar_u_anp_e_X0"
   ]
  },
  {
   "cell_type": "code",
   "execution_count": 12,
   "id": "fd45829e",
   "metadata": {},
   "outputs": [
    {
     "data": {
      "text/plain": [
       "(0.6, 0)"
      ]
     },
     "execution_count": 12,
     "metadata": {},
     "output_type": "execute_result"
    }
   ],
   "source": [
    "bar_u_ap_e0, bar_u_anp_e0"
   ]
  },
  {
   "cell_type": "markdown",
   "id": "4faea0a9",
   "metadata": {},
   "source": [
    "### Data utilities"
   ]
  },
  {
   "cell_type": "markdown",
   "id": "59805eb8",
   "metadata": {},
   "source": [
    "We select the maximum over the actions, these utilities depend on the experiment and data."
   ]
  },
  {
   "cell_type": "code",
   "execution_count": 13,
   "id": "856caf9f",
   "metadata": {},
   "outputs": [],
   "source": [
    "u_e_X1 = bar_u_ap_e_X1\n",
    "u_e_X0 = bar_u_anp_e_X0\n",
    "\n",
    "u_e_X  = np.array([u_e_X1, u_e_X0])"
   ]
  },
  {
   "cell_type": "markdown",
   "id": "6e73f8ed",
   "metadata": {},
   "source": [
    "### Expected utility of the experiment"
   ]
  },
  {
   "cell_type": "markdown",
   "id": "cf087a12",
   "metadata": {},
   "source": [
    "We take the average over the data, these utilities depend on the experiment."
   ]
  },
  {
   "cell_type": "code",
   "execution_count": 14,
   "id": "86f3f58c",
   "metadata": {},
   "outputs": [],
   "source": [
    "bar_u_e  = (u_e_X @ p_X.T).evalf(3)\n",
    "bar_u_e0 = bar_u_ap_e0"
   ]
  },
  {
   "cell_type": "code",
   "execution_count": 15,
   "id": "1c2dbaa7",
   "metadata": {},
   "outputs": [
    {
     "data": {
      "text/plain": [
       "(0.97 - 1.0*c, 0.6)"
      ]
     },
     "execution_count": 15,
     "metadata": {},
     "output_type": "execute_result"
    }
   ],
   "source": [
    "bar_u_e, bar_u_e0"
   ]
  },
  {
   "cell_type": "markdown",
   "id": "dc21149a",
   "metadata": {},
   "source": [
    "### Expected value of data"
   ]
  },
  {
   "cell_type": "code",
   "execution_count": 16,
   "id": "034488a0",
   "metadata": {},
   "outputs": [],
   "source": [
    "v_e_X1 = (u_e_X1 - u_E_ap @ p_E_X1.T).evalf(3)\n",
    "v_e_X0 = (u_e_X0 - u_E_ap @ p_E_X0.T).evalf(3)\n",
    "\n",
    "v_e_X  = np.array([v_e_X1, v_e_X0])"
   ]
  },
  {
   "cell_type": "markdown",
   "id": "8549fa31",
   "metadata": {},
   "source": [
    "### Expected value of the experiment"
   ]
  },
  {
   "cell_type": "code",
   "execution_count": 17,
   "id": "a89d6fdc",
   "metadata": {},
   "outputs": [],
   "source": [
    "v_e = v_e_X @ p_X.T"
   ]
  },
  {
   "cell_type": "code",
   "execution_count": 18,
   "id": "4a99aba4",
   "metadata": {},
   "outputs": [
    {
     "data": {
      "text/latex": [
       "$\\displaystyle 0.37 - 1.0 c$"
      ],
      "text/plain": [
       "0.37 - 1.0*c"
      ]
     },
     "execution_count": 18,
     "metadata": {},
     "output_type": "execute_result"
    }
   ],
   "source": [
    "v_e.evalf(3)"
   ]
  },
  {
   "cell_type": "markdown",
   "id": "6596750a",
   "metadata": {},
   "source": [
    "### Expected value of the perfect information"
   ]
  },
  {
   "cell_type": "code",
   "execution_count": 19,
   "id": "d50be364",
   "metadata": {},
   "outputs": [
    {
     "data": {
      "text/plain": [
       "0.9000000000000001"
      ]
     },
     "execution_count": 19,
     "metadata": {},
     "output_type": "execute_result"
    }
   ],
   "source": [
    "(np.concatenate([u_E_ap[:2], [0]]) - u_E_ap) @ p_E"
   ]
  },
  {
   "cell_type": "markdown",
   "id": "4b4fc2d4",
   "metadata": {},
   "source": [
    "### Information in data"
   ]
  },
  {
   "cell_type": "code",
   "execution_count": 20,
   "id": "e040d5ae",
   "metadata": {},
   "outputs": [],
   "source": [
    "I_X1 = sum(p_E_X1*np.log(p_E_X1/p_E))\n",
    "I_X0 = sum(p_E_X0*np.log(p_E_X0/p_E))\n",
    "\n",
    "I_X = np.array([I_X1, I_X0])"
   ]
  },
  {
   "cell_type": "code",
   "execution_count": 22,
   "id": "f5c60747",
   "metadata": {},
   "outputs": [],
   "source": [
    "I_e = I_X @ p_X.T"
   ]
  },
  {
   "cell_type": "code",
   "execution_count": 23,
   "id": "b3c34433",
   "metadata": {},
   "outputs": [
    {
     "data": {
      "text/plain": [
       "0.13123625520475954"
      ]
     },
     "execution_count": 23,
     "metadata": {},
     "output_type": "execute_result"
    }
   ],
   "source": [
    "I_e"
   ]
  }
 ],
 "metadata": {
  "kernelspec": {
   "display_name": "Python 3 (ipykernel)",
   "language": "python",
   "name": "python3"
  },
  "language_info": {
   "codemirror_mode": {
    "name": "ipython",
    "version": 3
   },
   "file_extension": ".py",
   "mimetype": "text/x-python",
   "name": "python",
   "nbconvert_exporter": "python",
   "pygments_lexer": "ipython3",
   "version": "3.10.1"
  }
 },
 "nbformat": 4,
 "nbformat_minor": 5
}
